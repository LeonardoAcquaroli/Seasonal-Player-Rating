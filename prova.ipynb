{
 "cells": [
  {
   "cell_type": "code",
   "execution_count": 1,
   "metadata": {},
   "outputs": [],
   "source": [
    "from functions import *\n",
    "\n",
    "# Models\n",
    "from sklearn import svm\n",
    "from sklearn.linear_model import LogisticRegression\n",
    "import pickle\n",
    "\n",
    "# Data\n",
    "import pandas as pd\n",
    "import numpy as np\n",
    "\n",
    "# Dataviz\n",
    "import plotly.express as px\n",
    "\n",
    "# ML\n",
    "from sklearn.model_selection import train_test_split, cross_val_score\n",
    "from sklearn.metrics import accuracy_score, classification_report, confusion_matrix\n",
    "from sklearn.preprocessing import StandardScaler"
   ]
  },
  {
   "cell_type": "code",
   "execution_count": 71,
   "metadata": {},
   "outputs": [],
   "source": [
    "dataset_with_goals = pd.read_feather(\"dataset_with_goals.feather\")\n",
    "dataset = dataset_with_goals.drop('goals', axis=1)"
   ]
  },
  {
   "cell_type": "code",
   "execution_count": 72,
   "metadata": {},
   "outputs": [],
   "source": [
    "selected_features = feature_selection(df=dataset, alpha=0.01).columns\n",
    "X = dataset[selected_features]\n",
    "y = dataset['win']"
   ]
  },
  {
   "cell_type": "code",
   "execution_count": 4,
   "metadata": {},
   "outputs": [],
   "source": [
    "X_train, X_test, y_train, y_test = train_test_split(X, y, test_size=0.2, random_state=42)\n",
    "\n",
    "std_scaler = StandardScaler()\n",
    "X_train_scaled = std_scaler.fit_transform(X_train)\n",
    "X_test_scaled = std_scaler.fit_transform(X_test)"
   ]
  },
  {
   "cell_type": "code",
   "execution_count": 5,
   "metadata": {},
   "outputs": [
    {
     "name": "stdout",
     "output_type": "stream",
     "text": [
      "Cross-validation scores: [0.8793911  0.86299766 0.88862837 0.88511137 0.88276671]\n",
      "Mean cross-validation score: 0.8797790413226771\n",
      "Accuracy on test set: 0.8734770384254921\n",
      "              precision    recall  f1-score   support\n",
      "\n",
      "           0       0.89      0.91      0.90       674\n",
      "           1       0.84      0.81      0.83       393\n",
      "\n",
      "    accuracy                           0.87      1067\n",
      "   macro avg       0.87      0.86      0.86      1067\n",
      "weighted avg       0.87      0.87      0.87      1067\n",
      "\n",
      "[[612  62]\n",
      " [ 73 320]]\n"
     ]
    }
   ],
   "source": [
    "# Create the Logistic Regression model\n",
    "LOG_clf = LogisticRegression(max_iter=1000)\n",
    "\n",
    "# Perform cross-validation\n",
    "# Here, we use 5-fold cross-validation, but you can adjust the number of folds as needed\n",
    "LOG_scores = cross_val_score(LOG_clf, X_train_scaled, y_train, cv=5, scoring='accuracy', n_jobs=8)\n",
    "\n",
    "# Print the cross-validation scores\n",
    "print(\"Cross-validation scores:\", LOG_scores)\n",
    "print(\"Mean cross-validation score:\", np.mean(LOG_scores))\n",
    "\n",
    "# Train the model on the entire training set\n",
    "LOG_clf.fit(X_train_scaled, y_train)\n",
    "\n",
    "# Evaluate the model on the test set\n",
    "LOG_pred = LOG_clf.predict(X_test_scaled)\n",
    "print(\"Accuracy on test set:\", accuracy_score(y_test, LOG_pred))\n",
    "print(classification_report(y_test, LOG_pred))\n",
    "print(confusion_matrix(y_test, LOG_pred))"
   ]
  },
  {
   "cell_type": "code",
   "execution_count": 7,
   "metadata": {},
   "outputs": [],
   "source": [
    "coefficients = LOG_clf.coef_[0]\n",
    "features_weights = {col: coeff for col, coeff in zip(X, coefficients)}"
   ]
  },
  {
   "cell_type": "code",
   "execution_count": 8,
   "metadata": {},
   "outputs": [
    {
     "data": {
      "application/vnd.plotly.v1+json": {
       "config": {
        "plotlyServerURL": "https://plot.ly"
       },
       "data": [
        {
         "alignmentgroup": "True",
         "hovertemplate": "x=%{x}<br>y=%{y}<extra></extra>",
         "legendgroup": "",
         "marker": {
          "color": "#636efa",
          "pattern": {
           "shape": ""
          }
         },
         "name": "",
         "offsetgroup": "",
         "orientation": "v",
         "showlegend": false,
         "textposition": "auto",
         "type": "bar",
         "x": [
          "big_chance_missed",
          "att_assist_openplay",
          "xGoT",
          "pen_goals_conceded",
          "att_assist_setplay",
          "lost_corners",
          "crosses_18yardplus",
          "successful_final_third_passes",
          "error_lead_to_goal",
          "accurate_throws",
          "red_card",
          "total_sub_off",
          "freekick_cross",
          "ball_recovery",
          "poss_won_att_3rd",
          "defensive_aerials",
          "dribbles_final_third",
          "fifty_fifty",
          "total_offside",
          "prog_carries_final_third",
          "aerial_won",
          "shield_ball_oop",
          "defensive_actions_height",
          "effective_head_clearance",
          "head_clearance",
          "tackles_out_def_third",
          "own_goals",
          "assist_post",
          "total_launches",
          "assist_pass_lost",
          "backward_pass",
          "assist_blocked_shot",
          "assist_free_kick_won",
          "assist_attempt_saved",
          "total_fastbreak",
          "total_clearance",
          "effective_clearance",
          "opxG",
          "ontarget_scoring_att",
          "touches_attack_third",
          "big_chance_created",
          "SGA",
          "xG"
         ],
         "xaxis": "x",
         "y": [
          -1.8567934565264428,
          -1.3792497768839815,
          -0.4395851806510881,
          -0.4257613276843172,
          -0.3657139734923012,
          -0.36493706551301164,
          -0.35315068709510367,
          -0.3218840736779066,
          -0.30078261433340825,
          -0.29540398294774856,
          -0.2183677453670466,
          -0.11210560331546028,
          -0.07641182808454969,
          0.01602923352710781,
          0.025007742066885975,
          0.03652233463223568,
          0.04030198259440051,
          0.06119141626585139,
          0.06669619272247214,
          0.08013805803428896,
          0.08591947192494022,
          0.08665807893174664,
          0.09783823655191838,
          0.1241676378934387,
          0.12416763789344183,
          0.13277137849614665,
          0.17055908964105448,
          0.17411794392160132,
          0.19006715508881888,
          0.19707984529494127,
          0.2685977340553606,
          0.27968922649780903,
          0.2834047448990894,
          0.28671001621337305,
          0.2889254796474024,
          0.3225455521377828,
          0.3225455521377898,
          0.42757956749143117,
          0.8200938848137193,
          1.0712594844821275,
          1.162854547380496,
          1.2091451881446322,
          2.3610438524150235
         ],
         "yaxis": "y"
        }
       ],
       "layout": {
        "barmode": "relative",
        "legend": {
         "tracegroupgap": 0
        },
        "margin": {
         "t": 60
        },
        "template": {
         "data": {
          "bar": [
           {
            "error_x": {
             "color": "#2a3f5f"
            },
            "error_y": {
             "color": "#2a3f5f"
            },
            "marker": {
             "line": {
              "color": "#E5ECF6",
              "width": 0.5
             },
             "pattern": {
              "fillmode": "overlay",
              "size": 10,
              "solidity": 0.2
             }
            },
            "type": "bar"
           }
          ],
          "barpolar": [
           {
            "marker": {
             "line": {
              "color": "#E5ECF6",
              "width": 0.5
             },
             "pattern": {
              "fillmode": "overlay",
              "size": 10,
              "solidity": 0.2
             }
            },
            "type": "barpolar"
           }
          ],
          "carpet": [
           {
            "aaxis": {
             "endlinecolor": "#2a3f5f",
             "gridcolor": "white",
             "linecolor": "white",
             "minorgridcolor": "white",
             "startlinecolor": "#2a3f5f"
            },
            "baxis": {
             "endlinecolor": "#2a3f5f",
             "gridcolor": "white",
             "linecolor": "white",
             "minorgridcolor": "white",
             "startlinecolor": "#2a3f5f"
            },
            "type": "carpet"
           }
          ],
          "choropleth": [
           {
            "colorbar": {
             "outlinewidth": 0,
             "ticks": ""
            },
            "type": "choropleth"
           }
          ],
          "contour": [
           {
            "colorbar": {
             "outlinewidth": 0,
             "ticks": ""
            },
            "colorscale": [
             [
              0,
              "#0d0887"
             ],
             [
              0.1111111111111111,
              "#46039f"
             ],
             [
              0.2222222222222222,
              "#7201a8"
             ],
             [
              0.3333333333333333,
              "#9c179e"
             ],
             [
              0.4444444444444444,
              "#bd3786"
             ],
             [
              0.5555555555555556,
              "#d8576b"
             ],
             [
              0.6666666666666666,
              "#ed7953"
             ],
             [
              0.7777777777777778,
              "#fb9f3a"
             ],
             [
              0.8888888888888888,
              "#fdca26"
             ],
             [
              1,
              "#f0f921"
             ]
            ],
            "type": "contour"
           }
          ],
          "contourcarpet": [
           {
            "colorbar": {
             "outlinewidth": 0,
             "ticks": ""
            },
            "type": "contourcarpet"
           }
          ],
          "heatmap": [
           {
            "colorbar": {
             "outlinewidth": 0,
             "ticks": ""
            },
            "colorscale": [
             [
              0,
              "#0d0887"
             ],
             [
              0.1111111111111111,
              "#46039f"
             ],
             [
              0.2222222222222222,
              "#7201a8"
             ],
             [
              0.3333333333333333,
              "#9c179e"
             ],
             [
              0.4444444444444444,
              "#bd3786"
             ],
             [
              0.5555555555555556,
              "#d8576b"
             ],
             [
              0.6666666666666666,
              "#ed7953"
             ],
             [
              0.7777777777777778,
              "#fb9f3a"
             ],
             [
              0.8888888888888888,
              "#fdca26"
             ],
             [
              1,
              "#f0f921"
             ]
            ],
            "type": "heatmap"
           }
          ],
          "heatmapgl": [
           {
            "colorbar": {
             "outlinewidth": 0,
             "ticks": ""
            },
            "colorscale": [
             [
              0,
              "#0d0887"
             ],
             [
              0.1111111111111111,
              "#46039f"
             ],
             [
              0.2222222222222222,
              "#7201a8"
             ],
             [
              0.3333333333333333,
              "#9c179e"
             ],
             [
              0.4444444444444444,
              "#bd3786"
             ],
             [
              0.5555555555555556,
              "#d8576b"
             ],
             [
              0.6666666666666666,
              "#ed7953"
             ],
             [
              0.7777777777777778,
              "#fb9f3a"
             ],
             [
              0.8888888888888888,
              "#fdca26"
             ],
             [
              1,
              "#f0f921"
             ]
            ],
            "type": "heatmapgl"
           }
          ],
          "histogram": [
           {
            "marker": {
             "pattern": {
              "fillmode": "overlay",
              "size": 10,
              "solidity": 0.2
             }
            },
            "type": "histogram"
           }
          ],
          "histogram2d": [
           {
            "colorbar": {
             "outlinewidth": 0,
             "ticks": ""
            },
            "colorscale": [
             [
              0,
              "#0d0887"
             ],
             [
              0.1111111111111111,
              "#46039f"
             ],
             [
              0.2222222222222222,
              "#7201a8"
             ],
             [
              0.3333333333333333,
              "#9c179e"
             ],
             [
              0.4444444444444444,
              "#bd3786"
             ],
             [
              0.5555555555555556,
              "#d8576b"
             ],
             [
              0.6666666666666666,
              "#ed7953"
             ],
             [
              0.7777777777777778,
              "#fb9f3a"
             ],
             [
              0.8888888888888888,
              "#fdca26"
             ],
             [
              1,
              "#f0f921"
             ]
            ],
            "type": "histogram2d"
           }
          ],
          "histogram2dcontour": [
           {
            "colorbar": {
             "outlinewidth": 0,
             "ticks": ""
            },
            "colorscale": [
             [
              0,
              "#0d0887"
             ],
             [
              0.1111111111111111,
              "#46039f"
             ],
             [
              0.2222222222222222,
              "#7201a8"
             ],
             [
              0.3333333333333333,
              "#9c179e"
             ],
             [
              0.4444444444444444,
              "#bd3786"
             ],
             [
              0.5555555555555556,
              "#d8576b"
             ],
             [
              0.6666666666666666,
              "#ed7953"
             ],
             [
              0.7777777777777778,
              "#fb9f3a"
             ],
             [
              0.8888888888888888,
              "#fdca26"
             ],
             [
              1,
              "#f0f921"
             ]
            ],
            "type": "histogram2dcontour"
           }
          ],
          "mesh3d": [
           {
            "colorbar": {
             "outlinewidth": 0,
             "ticks": ""
            },
            "type": "mesh3d"
           }
          ],
          "parcoords": [
           {
            "line": {
             "colorbar": {
              "outlinewidth": 0,
              "ticks": ""
             }
            },
            "type": "parcoords"
           }
          ],
          "pie": [
           {
            "automargin": true,
            "type": "pie"
           }
          ],
          "scatter": [
           {
            "fillpattern": {
             "fillmode": "overlay",
             "size": 10,
             "solidity": 0.2
            },
            "type": "scatter"
           }
          ],
          "scatter3d": [
           {
            "line": {
             "colorbar": {
              "outlinewidth": 0,
              "ticks": ""
             }
            },
            "marker": {
             "colorbar": {
              "outlinewidth": 0,
              "ticks": ""
             }
            },
            "type": "scatter3d"
           }
          ],
          "scattercarpet": [
           {
            "marker": {
             "colorbar": {
              "outlinewidth": 0,
              "ticks": ""
             }
            },
            "type": "scattercarpet"
           }
          ],
          "scattergeo": [
           {
            "marker": {
             "colorbar": {
              "outlinewidth": 0,
              "ticks": ""
             }
            },
            "type": "scattergeo"
           }
          ],
          "scattergl": [
           {
            "marker": {
             "colorbar": {
              "outlinewidth": 0,
              "ticks": ""
             }
            },
            "type": "scattergl"
           }
          ],
          "scattermapbox": [
           {
            "marker": {
             "colorbar": {
              "outlinewidth": 0,
              "ticks": ""
             }
            },
            "type": "scattermapbox"
           }
          ],
          "scatterpolar": [
           {
            "marker": {
             "colorbar": {
              "outlinewidth": 0,
              "ticks": ""
             }
            },
            "type": "scatterpolar"
           }
          ],
          "scatterpolargl": [
           {
            "marker": {
             "colorbar": {
              "outlinewidth": 0,
              "ticks": ""
             }
            },
            "type": "scatterpolargl"
           }
          ],
          "scatterternary": [
           {
            "marker": {
             "colorbar": {
              "outlinewidth": 0,
              "ticks": ""
             }
            },
            "type": "scatterternary"
           }
          ],
          "surface": [
           {
            "colorbar": {
             "outlinewidth": 0,
             "ticks": ""
            },
            "colorscale": [
             [
              0,
              "#0d0887"
             ],
             [
              0.1111111111111111,
              "#46039f"
             ],
             [
              0.2222222222222222,
              "#7201a8"
             ],
             [
              0.3333333333333333,
              "#9c179e"
             ],
             [
              0.4444444444444444,
              "#bd3786"
             ],
             [
              0.5555555555555556,
              "#d8576b"
             ],
             [
              0.6666666666666666,
              "#ed7953"
             ],
             [
              0.7777777777777778,
              "#fb9f3a"
             ],
             [
              0.8888888888888888,
              "#fdca26"
             ],
             [
              1,
              "#f0f921"
             ]
            ],
            "type": "surface"
           }
          ],
          "table": [
           {
            "cells": {
             "fill": {
              "color": "#EBF0F8"
             },
             "line": {
              "color": "white"
             }
            },
            "header": {
             "fill": {
              "color": "#C8D4E3"
             },
             "line": {
              "color": "white"
             }
            },
            "type": "table"
           }
          ]
         },
         "layout": {
          "annotationdefaults": {
           "arrowcolor": "#2a3f5f",
           "arrowhead": 0,
           "arrowwidth": 1
          },
          "autotypenumbers": "strict",
          "coloraxis": {
           "colorbar": {
            "outlinewidth": 0,
            "ticks": ""
           }
          },
          "colorscale": {
           "diverging": [
            [
             0,
             "#8e0152"
            ],
            [
             0.1,
             "#c51b7d"
            ],
            [
             0.2,
             "#de77ae"
            ],
            [
             0.3,
             "#f1b6da"
            ],
            [
             0.4,
             "#fde0ef"
            ],
            [
             0.5,
             "#f7f7f7"
            ],
            [
             0.6,
             "#e6f5d0"
            ],
            [
             0.7,
             "#b8e186"
            ],
            [
             0.8,
             "#7fbc41"
            ],
            [
             0.9,
             "#4d9221"
            ],
            [
             1,
             "#276419"
            ]
           ],
           "sequential": [
            [
             0,
             "#0d0887"
            ],
            [
             0.1111111111111111,
             "#46039f"
            ],
            [
             0.2222222222222222,
             "#7201a8"
            ],
            [
             0.3333333333333333,
             "#9c179e"
            ],
            [
             0.4444444444444444,
             "#bd3786"
            ],
            [
             0.5555555555555556,
             "#d8576b"
            ],
            [
             0.6666666666666666,
             "#ed7953"
            ],
            [
             0.7777777777777778,
             "#fb9f3a"
            ],
            [
             0.8888888888888888,
             "#fdca26"
            ],
            [
             1,
             "#f0f921"
            ]
           ],
           "sequentialminus": [
            [
             0,
             "#0d0887"
            ],
            [
             0.1111111111111111,
             "#46039f"
            ],
            [
             0.2222222222222222,
             "#7201a8"
            ],
            [
             0.3333333333333333,
             "#9c179e"
            ],
            [
             0.4444444444444444,
             "#bd3786"
            ],
            [
             0.5555555555555556,
             "#d8576b"
            ],
            [
             0.6666666666666666,
             "#ed7953"
            ],
            [
             0.7777777777777778,
             "#fb9f3a"
            ],
            [
             0.8888888888888888,
             "#fdca26"
            ],
            [
             1,
             "#f0f921"
            ]
           ]
          },
          "colorway": [
           "#636efa",
           "#EF553B",
           "#00cc96",
           "#ab63fa",
           "#FFA15A",
           "#19d3f3",
           "#FF6692",
           "#B6E880",
           "#FF97FF",
           "#FECB52"
          ],
          "font": {
           "color": "#2a3f5f"
          },
          "geo": {
           "bgcolor": "white",
           "lakecolor": "white",
           "landcolor": "#E5ECF6",
           "showlakes": true,
           "showland": true,
           "subunitcolor": "white"
          },
          "hoverlabel": {
           "align": "left"
          },
          "hovermode": "closest",
          "mapbox": {
           "style": "light"
          },
          "paper_bgcolor": "white",
          "plot_bgcolor": "#E5ECF6",
          "polar": {
           "angularaxis": {
            "gridcolor": "white",
            "linecolor": "white",
            "ticks": ""
           },
           "bgcolor": "#E5ECF6",
           "radialaxis": {
            "gridcolor": "white",
            "linecolor": "white",
            "ticks": ""
           }
          },
          "scene": {
           "xaxis": {
            "backgroundcolor": "#E5ECF6",
            "gridcolor": "white",
            "gridwidth": 2,
            "linecolor": "white",
            "showbackground": true,
            "ticks": "",
            "zerolinecolor": "white"
           },
           "yaxis": {
            "backgroundcolor": "#E5ECF6",
            "gridcolor": "white",
            "gridwidth": 2,
            "linecolor": "white",
            "showbackground": true,
            "ticks": "",
            "zerolinecolor": "white"
           },
           "zaxis": {
            "backgroundcolor": "#E5ECF6",
            "gridcolor": "white",
            "gridwidth": 2,
            "linecolor": "white",
            "showbackground": true,
            "ticks": "",
            "zerolinecolor": "white"
           }
          },
          "shapedefaults": {
           "line": {
            "color": "#2a3f5f"
           }
          },
          "ternary": {
           "aaxis": {
            "gridcolor": "white",
            "linecolor": "white",
            "ticks": ""
           },
           "baxis": {
            "gridcolor": "white",
            "linecolor": "white",
            "ticks": ""
           },
           "bgcolor": "#E5ECF6",
           "caxis": {
            "gridcolor": "white",
            "linecolor": "white",
            "ticks": ""
           }
          },
          "title": {
           "x": 0.05
          },
          "xaxis": {
           "automargin": true,
           "gridcolor": "white",
           "linecolor": "white",
           "ticks": "",
           "title": {
            "standoff": 15
           },
           "zerolinecolor": "white",
           "zerolinewidth": 2
          },
          "yaxis": {
           "automargin": true,
           "gridcolor": "white",
           "linecolor": "white",
           "ticks": "",
           "title": {
            "standoff": 15
           },
           "zerolinecolor": "white",
           "zerolinewidth": 2
          }
         }
        },
        "xaxis": {
         "anchor": "y",
         "domain": [
          0,
          1
         ],
         "title": {
          "text": "x"
         }
        },
        "yaxis": {
         "anchor": "x",
         "domain": [
          0,
          1
         ],
         "title": {
          "text": "y"
         }
        }
       }
      }
     },
     "metadata": {},
     "output_type": "display_data"
    }
   ],
   "source": [
    "# Example column names, replace these with your actual column names\n",
    "column_names = X_train.columns\n",
    "\n",
    "# Ensure the lengths match\n",
    "assert len(coefficients) == len(column_names), \"Coefficients and column names must have the same length.\"\n",
    "\n",
    "# Sort coefficients and column names by the coefficients\n",
    "sorted_indices = np.argsort((coefficients))\n",
    "sorted_coefficients = coefficients[sorted_indices]\n",
    "sorted_column_names = [column_names[i] for i in sorted_indices]\n",
    "\n",
    "# Plot using Plotly Express\n",
    "fig = px.bar(x=sorted_column_names, y=sorted_coefficients)\n",
    "fig.show()"
   ]
  },
  {
   "cell_type": "markdown",
   "metadata": {},
   "source": [
    "# Prediction"
   ]
  },
  {
   "cell_type": "code",
   "execution_count": 74,
   "metadata": {},
   "outputs": [],
   "source": [
    "players = pd.read_feather(r\"C:\\Users\\leoac\\OneDrive - Università degli Studi di Milano\\Unimi\\Subjects\\Labs\\Football analytics\\SPR - Project\\Seasonal-Player-Rating\\Project2-3 - match-seasonal index\\match_data.feather\")\n",
    "players_data = players[['player_id','game_id','team_id','team','season','full_name','cluster_label'] + list(selected_features) + ['goals']].fillna(0)"
   ]
  },
  {
   "cell_type": "code",
   "execution_count": 75,
   "metadata": {},
   "outputs": [
    {
     "data": {
      "text/html": [
       "<div>\n",
       "<style scoped>\n",
       "    .dataframe tbody tr th:only-of-type {\n",
       "        vertical-align: middle;\n",
       "    }\n",
       "\n",
       "    .dataframe tbody tr th {\n",
       "        vertical-align: top;\n",
       "    }\n",
       "\n",
       "    .dataframe thead th {\n",
       "        text-align: right;\n",
       "    }\n",
       "</style>\n",
       "<table border=\"1\" class=\"dataframe\">\n",
       "  <thead>\n",
       "    <tr style=\"text-align: right;\">\n",
       "      <th></th>\n",
       "      <th>player_id</th>\n",
       "      <th>game_id</th>\n",
       "      <th>team_id</th>\n",
       "      <th>team</th>\n",
       "      <th>season</th>\n",
       "      <th>full_name</th>\n",
       "      <th>cluster_label</th>\n",
       "      <th>accurate_throws</th>\n",
       "      <th>aerial_won</th>\n",
       "      <th>ball_recovery</th>\n",
       "      <th>...</th>\n",
       "      <th>touches_attack_third</th>\n",
       "      <th>defensive_aerials</th>\n",
       "      <th>defensive_actions_height</th>\n",
       "      <th>dribbles_final_third</th>\n",
       "      <th>SGA</th>\n",
       "      <th>xGoT</th>\n",
       "      <th>xG</th>\n",
       "      <th>prog_carries_final_third</th>\n",
       "      <th>opxG</th>\n",
       "      <th>goals</th>\n",
       "    </tr>\n",
       "  </thead>\n",
       "  <tbody>\n",
       "    <tr>\n",
       "      <th>0</th>\n",
       "      <td>80607</td>\n",
       "      <td>2292978</td>\n",
       "      <td>1</td>\n",
       "      <td>Manchester United</td>\n",
       "      <td>2022</td>\n",
       "      <td>Christian Eriksen</td>\n",
       "      <td>Roaming playmaker</td>\n",
       "      <td>0.0</td>\n",
       "      <td>0.0</td>\n",
       "      <td>5.0</td>\n",
       "      <td>...</td>\n",
       "      <td>33</td>\n",
       "      <td>0.0</td>\n",
       "      <td>58.725000</td>\n",
       "      <td>0</td>\n",
       "      <td>0.00000</td>\n",
       "      <td>0.000000</td>\n",
       "      <td>0.075655</td>\n",
       "      <td>2</td>\n",
       "      <td>0.075655</td>\n",
       "      <td>0.0</td>\n",
       "    </tr>\n",
       "    <tr>\n",
       "      <th>1</th>\n",
       "      <td>154296</td>\n",
       "      <td>2367682</td>\n",
       "      <td>54</td>\n",
       "      <td>Fulham</td>\n",
       "      <td>2023</td>\n",
       "      <td>João Palhinha</td>\n",
       "      <td>Ball stealer</td>\n",
       "      <td>0.0</td>\n",
       "      <td>2.0</td>\n",
       "      <td>7.0</td>\n",
       "      <td>...</td>\n",
       "      <td>5</td>\n",
       "      <td>1.0</td>\n",
       "      <td>40.775000</td>\n",
       "      <td>0</td>\n",
       "      <td>0.00000</td>\n",
       "      <td>0.000000</td>\n",
       "      <td>0.000000</td>\n",
       "      <td>0</td>\n",
       "      <td>0.000000</td>\n",
       "      <td>0.0</td>\n",
       "    </tr>\n",
       "    <tr>\n",
       "      <th>2</th>\n",
       "      <td>191866</td>\n",
       "      <td>2367740</td>\n",
       "      <td>94</td>\n",
       "      <td>Brentford</td>\n",
       "      <td>2023</td>\n",
       "      <td>Kristoffer Ajer</td>\n",
       "      <td>First line breaker</td>\n",
       "      <td>0.0</td>\n",
       "      <td>0.0</td>\n",
       "      <td>1.0</td>\n",
       "      <td>...</td>\n",
       "      <td>2</td>\n",
       "      <td>0.0</td>\n",
       "      <td>38.250000</td>\n",
       "      <td>0</td>\n",
       "      <td>0.00000</td>\n",
       "      <td>0.000000</td>\n",
       "      <td>0.000000</td>\n",
       "      <td>0</td>\n",
       "      <td>0.000000</td>\n",
       "      <td>0.0</td>\n",
       "    </tr>\n",
       "    <tr>\n",
       "      <th>3</th>\n",
       "      <td>168991</td>\n",
       "      <td>2367666</td>\n",
       "      <td>91</td>\n",
       "      <td>Bournemouth</td>\n",
       "      <td>2023</td>\n",
       "      <td>Philip Billing</td>\n",
       "      <td>Roaming playmaker</td>\n",
       "      <td>0.0</td>\n",
       "      <td>2.0</td>\n",
       "      <td>2.0</td>\n",
       "      <td>...</td>\n",
       "      <td>9</td>\n",
       "      <td>2.0</td>\n",
       "      <td>38.600000</td>\n",
       "      <td>0</td>\n",
       "      <td>0.00000</td>\n",
       "      <td>0.000000</td>\n",
       "      <td>0.140282</td>\n",
       "      <td>0</td>\n",
       "      <td>0.140282</td>\n",
       "      <td>0.0</td>\n",
       "    </tr>\n",
       "    <tr>\n",
       "      <th>4</th>\n",
       "      <td>427623</td>\n",
       "      <td>2367593</td>\n",
       "      <td>31</td>\n",
       "      <td>Crystal Palace</td>\n",
       "      <td>2023</td>\n",
       "      <td>Chris Richards</td>\n",
       "      <td>Ball stopper</td>\n",
       "      <td>0.0</td>\n",
       "      <td>0.0</td>\n",
       "      <td>0.0</td>\n",
       "      <td>...</td>\n",
       "      <td>0</td>\n",
       "      <td>0.0</td>\n",
       "      <td>0.000000</td>\n",
       "      <td>0</td>\n",
       "      <td>0.00000</td>\n",
       "      <td>0.000000</td>\n",
       "      <td>0.000000</td>\n",
       "      <td>0</td>\n",
       "      <td>0.000000</td>\n",
       "      <td>0.0</td>\n",
       "    </tr>\n",
       "    <tr>\n",
       "      <th>...</th>\n",
       "      <td>...</td>\n",
       "      <td>...</td>\n",
       "      <td>...</td>\n",
       "      <td>...</td>\n",
       "      <td>...</td>\n",
       "      <td>...</td>\n",
       "      <td>...</td>\n",
       "      <td>...</td>\n",
       "      <td>...</td>\n",
       "      <td>...</td>\n",
       "      <td>...</td>\n",
       "      <td>...</td>\n",
       "      <td>...</td>\n",
       "      <td>...</td>\n",
       "      <td>...</td>\n",
       "      <td>...</td>\n",
       "      <td>...</td>\n",
       "      <td>...</td>\n",
       "      <td>...</td>\n",
       "      <td>...</td>\n",
       "      <td>...</td>\n",
       "    </tr>\n",
       "    <tr>\n",
       "      <th>84674</th>\n",
       "      <td>224467</td>\n",
       "      <td>2301806</td>\n",
       "      <td>2893</td>\n",
       "      <td>Girona</td>\n",
       "      <td>2022</td>\n",
       "      <td>Iván Martín</td>\n",
       "      <td>Roaming playmaker</td>\n",
       "      <td>0.0</td>\n",
       "      <td>1.0</td>\n",
       "      <td>2.0</td>\n",
       "      <td>...</td>\n",
       "      <td>8</td>\n",
       "      <td>1.0</td>\n",
       "      <td>0.000000</td>\n",
       "      <td>0</td>\n",
       "      <td>0.46407</td>\n",
       "      <td>0.684316</td>\n",
       "      <td>0.331423</td>\n",
       "      <td>0</td>\n",
       "      <td>0.331423</td>\n",
       "      <td>1.0</td>\n",
       "    </tr>\n",
       "    <tr>\n",
       "      <th>84675</th>\n",
       "      <td>213431</td>\n",
       "      <td>2372336</td>\n",
       "      <td>175</td>\n",
       "      <td>Atlético de Madrid</td>\n",
       "      <td>2023</td>\n",
       "      <td>Mario Hermoso</td>\n",
       "      <td>First line breaker</td>\n",
       "      <td>5.0</td>\n",
       "      <td>3.0</td>\n",
       "      <td>6.0</td>\n",
       "      <td>...</td>\n",
       "      <td>8</td>\n",
       "      <td>4.0</td>\n",
       "      <td>32.680000</td>\n",
       "      <td>0</td>\n",
       "      <td>0.00000</td>\n",
       "      <td>0.000000</td>\n",
       "      <td>0.000000</td>\n",
       "      <td>0</td>\n",
       "      <td>0.000000</td>\n",
       "      <td>0.0</td>\n",
       "    </tr>\n",
       "    <tr>\n",
       "      <th>84676</th>\n",
       "      <td>170154</td>\n",
       "      <td>2301800</td>\n",
       "      <td>181</td>\n",
       "      <td>Mallorca</td>\n",
       "      <td>2022</td>\n",
       "      <td>Pablo Maffeo</td>\n",
       "      <td>Wide creator</td>\n",
       "      <td>6.0</td>\n",
       "      <td>1.0</td>\n",
       "      <td>10.0</td>\n",
       "      <td>...</td>\n",
       "      <td>13</td>\n",
       "      <td>1.0</td>\n",
       "      <td>58.062500</td>\n",
       "      <td>1</td>\n",
       "      <td>0.00000</td>\n",
       "      <td>0.000000</td>\n",
       "      <td>0.019835</td>\n",
       "      <td>2</td>\n",
       "      <td>0.019835</td>\n",
       "      <td>0.0</td>\n",
       "    </tr>\n",
       "    <tr>\n",
       "      <th>84677</th>\n",
       "      <td>500046</td>\n",
       "      <td>2301909</td>\n",
       "      <td>178</td>\n",
       "      <td>Barcelona</td>\n",
       "      <td>2022</td>\n",
       "      <td>Gavi</td>\n",
       "      <td>Roaming playmaker</td>\n",
       "      <td>0.0</td>\n",
       "      <td>0.0</td>\n",
       "      <td>2.0</td>\n",
       "      <td>...</td>\n",
       "      <td>9</td>\n",
       "      <td>0.0</td>\n",
       "      <td>56.600000</td>\n",
       "      <td>0</td>\n",
       "      <td>0.00000</td>\n",
       "      <td>0.000000</td>\n",
       "      <td>0.000000</td>\n",
       "      <td>2</td>\n",
       "      <td>0.000000</td>\n",
       "      <td>0.0</td>\n",
       "    </tr>\n",
       "    <tr>\n",
       "      <th>84678</th>\n",
       "      <td>88754</td>\n",
       "      <td>2301667</td>\n",
       "      <td>175</td>\n",
       "      <td>Atlético de Madrid</td>\n",
       "      <td>2022</td>\n",
       "      <td>Geoffrey Kondogbia</td>\n",
       "      <td>Ball stealer</td>\n",
       "      <td>0.0</td>\n",
       "      <td>1.0</td>\n",
       "      <td>15.0</td>\n",
       "      <td>...</td>\n",
       "      <td>5</td>\n",
       "      <td>3.0</td>\n",
       "      <td>29.645454</td>\n",
       "      <td>0</td>\n",
       "      <td>0.00000</td>\n",
       "      <td>0.000000</td>\n",
       "      <td>0.038219</td>\n",
       "      <td>0</td>\n",
       "      <td>0.038219</td>\n",
       "      <td>0.0</td>\n",
       "    </tr>\n",
       "  </tbody>\n",
       "</table>\n",
       "<p>84679 rows × 51 columns</p>\n",
       "</div>"
      ],
      "text/plain": [
       "       player_id  game_id  team_id                team  season  \\\n",
       "0          80607  2292978        1   Manchester United    2022   \n",
       "1         154296  2367682       54              Fulham    2023   \n",
       "2         191866  2367740       94           Brentford    2023   \n",
       "3         168991  2367666       91         Bournemouth    2023   \n",
       "4         427623  2367593       31      Crystal Palace    2023   \n",
       "...          ...      ...      ...                 ...     ...   \n",
       "84674     224467  2301806     2893              Girona    2022   \n",
       "84675     213431  2372336      175  Atlético de Madrid    2023   \n",
       "84676     170154  2301800      181            Mallorca    2022   \n",
       "84677     500046  2301909      178           Barcelona    2022   \n",
       "84678      88754  2301667      175  Atlético de Madrid    2022   \n",
       "\n",
       "                full_name       cluster_label  accurate_throws  aerial_won  \\\n",
       "0       Christian Eriksen   Roaming playmaker              0.0         0.0   \n",
       "1           João Palhinha        Ball stealer              0.0         2.0   \n",
       "2         Kristoffer Ajer  First line breaker              0.0         0.0   \n",
       "3          Philip Billing   Roaming playmaker              0.0         2.0   \n",
       "4          Chris Richards        Ball stopper              0.0         0.0   \n",
       "...                   ...                 ...              ...         ...   \n",
       "84674         Iván Martín   Roaming playmaker              0.0         1.0   \n",
       "84675       Mario Hermoso  First line breaker              5.0         3.0   \n",
       "84676        Pablo Maffeo        Wide creator              6.0         1.0   \n",
       "84677                Gavi   Roaming playmaker              0.0         0.0   \n",
       "84678  Geoffrey Kondogbia        Ball stealer              0.0         1.0   \n",
       "\n",
       "       ball_recovery  ...  touches_attack_third  defensive_aerials  \\\n",
       "0                5.0  ...                    33                0.0   \n",
       "1                7.0  ...                     5                1.0   \n",
       "2                1.0  ...                     2                0.0   \n",
       "3                2.0  ...                     9                2.0   \n",
       "4                0.0  ...                     0                0.0   \n",
       "...              ...  ...                   ...                ...   \n",
       "84674            2.0  ...                     8                1.0   \n",
       "84675            6.0  ...                     8                4.0   \n",
       "84676           10.0  ...                    13                1.0   \n",
       "84677            2.0  ...                     9                0.0   \n",
       "84678           15.0  ...                     5                3.0   \n",
       "\n",
       "       defensive_actions_height  dribbles_final_third      SGA      xGoT  \\\n",
       "0                     58.725000                     0  0.00000  0.000000   \n",
       "1                     40.775000                     0  0.00000  0.000000   \n",
       "2                     38.250000                     0  0.00000  0.000000   \n",
       "3                     38.600000                     0  0.00000  0.000000   \n",
       "4                      0.000000                     0  0.00000  0.000000   \n",
       "...                         ...                   ...      ...       ...   \n",
       "84674                  0.000000                     0  0.46407  0.684316   \n",
       "84675                 32.680000                     0  0.00000  0.000000   \n",
       "84676                 58.062500                     1  0.00000  0.000000   \n",
       "84677                 56.600000                     0  0.00000  0.000000   \n",
       "84678                 29.645454                     0  0.00000  0.000000   \n",
       "\n",
       "             xG  prog_carries_final_third      opxG  goals  \n",
       "0      0.075655                         2  0.075655    0.0  \n",
       "1      0.000000                         0  0.000000    0.0  \n",
       "2      0.000000                         0  0.000000    0.0  \n",
       "3      0.140282                         0  0.140282    0.0  \n",
       "4      0.000000                         0  0.000000    0.0  \n",
       "...         ...                       ...       ...    ...  \n",
       "84674  0.331423                         0  0.331423    1.0  \n",
       "84675  0.000000                         0  0.000000    0.0  \n",
       "84676  0.019835                         2  0.019835    0.0  \n",
       "84677  0.000000                         2  0.000000    0.0  \n",
       "84678  0.038219                         0  0.038219    0.0  \n",
       "\n",
       "[84679 rows x 51 columns]"
      ]
     },
     "execution_count": 75,
     "metadata": {},
     "output_type": "execute_result"
    }
   ],
   "source": [
    "players_data"
   ]
  },
  {
   "cell_type": "code",
   "execution_count": 23,
   "metadata": {},
   "outputs": [],
   "source": [
    "cluster_features_weights = get_cluster_features_weights(pd.read_feather(\"Project2-3 - match-seasonal index\\match_data.feather\"))\n",
    "cluster_features_weights = {cluster:\n",
    "                            {feature: cluster_features_weights[cluster][feature]\n",
    "                              for feature in features_weights.keys()}\n",
    "                                for cluster in cluster_features_weights.keys()}"
   ]
  },
  {
   "cell_type": "code",
   "execution_count": 56,
   "metadata": {},
   "outputs": [],
   "source": [
    "def calculate_playerank(row: pd.DataFrame | pd.Series, features_weights: dict, cluster_features_weights: dict) -> float:\n",
    "\n",
    "    # Get the cluster weights for the current player\n",
    "    cluster = row['cluster_label'].values[0]\n",
    "    cluster_weights = cluster_features_weights[cluster]\n",
    "    \n",
    "    # Calculate Goals and Assists\n",
    "    goals = row['goals']\n",
    "    assists = row['goal_assist']\n",
    "\n",
    "    # Drop indicators\n",
    "    row = row.drop(['player_id', 'game_id', 'team_id', 'team', 'season', 'full_name', 'cluster_label'], axis=1)\n",
    "    \n",
    "    # Calculate playerank by summing the products\n",
    "    playerank = (np.array(list(features_weights.values())) * np.array(list(cluster_weights.values())) * row.values).sum()\n",
    "    playerank = playerank*(1-alpha-beta) + goals*alpha + assists*beta # Fixed or by cluster?\n",
    "        \n",
    "    return playerank"
   ]
  },
  {
   "cell_type": "code",
   "execution_count": 59,
   "metadata": {},
   "outputs": [
    {
     "name": "stderr",
     "output_type": "stream",
     "text": [
      "C:\\Users\\leoac\\AppData\\Local\\Temp\\ipykernel_20160\\3753729960.py:1: DeprecationWarning:\n",
      "\n",
      "DataFrameGroupBy.apply operated on the grouping columns. This behavior is deprecated, and in a future version of pandas the grouping columns will be excluded from the operation. Either pass `include_groups=False` to exclude the groupings or explicitly select the grouping columns after groupby to silence this warning.\n",
      "\n"
     ]
    }
   ],
   "source": [
    "players_playerank = players_data[players_data['season'] == 2023].groupby(['player_id', 'game_id', 'team_id', 'team', 'season', 'full_name']).apply(lambda row: calculate_playerank(row, features_weights, cluster_features_weights))"
   ]
  },
  {
   "cell_type": "code",
   "execution_count": 65,
   "metadata": {},
   "outputs": [],
   "source": [
    "ranking = players_playerank.groupby(['player_id', 'full_name']).mean()"
   ]
  },
  {
   "cell_type": "code",
   "execution_count": 67,
   "metadata": {},
   "outputs": [
    {
     "data": {
      "text/plain": [
       "player_id  full_name         \n",
       "209244     Phil Foden            21.796842\n",
       "60307      Pascal Groß           19.073059\n",
       "461358     Julián Álvarez        18.708667\n",
       "172780     James Maddison        18.520920\n",
       "184029     Martin Ødegaard       18.198668\n",
       "141746     Bruno Fernandes       18.121635\n",
       "165809     Bernardo Silva        18.092518\n",
       "231653     Joey Veerman          16.925308\n",
       "80209      Isco                  16.908861\n",
       "223340     Bukayo Saka           16.592130\n",
       "244851     Cole Palmer           16.318300\n",
       "229596     Michel Vlap           15.927698\n",
       "519638     Johan Bakayoko        15.800244\n",
       "201658     Marcus Tavernier      15.690763\n",
       "232787     Conor Gallagher       15.437267\n",
       "59859      Ilkay Gündogan        15.218475\n",
       "424876     Dominik Szoboszlai    15.209493\n",
       "116796     Domenico Berardi      15.092657\n",
       "120638     Paulo Dybala          14.943823\n",
       "88935      Steven Berghuis       14.794689\n",
       "dtype: float64"
      ]
     },
     "execution_count": 67,
     "metadata": {},
     "output_type": "execute_result"
    }
   ],
   "source": [
    "ranking.sort_values(ascending=False).head(20)"
   ]
  }
 ],
 "metadata": {
  "kernelspec": {
   "display_name": "Python 3",
   "language": "python",
   "name": "python3"
  },
  "language_info": {
   "codemirror_mode": {
    "name": "ipython",
    "version": 3
   },
   "file_extension": ".py",
   "mimetype": "text/x-python",
   "name": "python",
   "nbconvert_exporter": "python",
   "pygments_lexer": "ipython3",
   "version": "3.11.5"
  }
 },
 "nbformat": 4,
 "nbformat_minor": 2
}
