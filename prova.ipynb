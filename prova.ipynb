{
 "cells": [
  {
   "cell_type": "code",
   "execution_count": 138,
   "metadata": {},
   "outputs": [],
   "source": [
    "from functions import *\n",
    "\n",
    "# Models\n",
    "from sklearn import svm\n",
    "from sklearn.linear_model import LogisticRegression\n",
    "import pickle\n",
    "\n",
    "# Data\n",
    "import pandas as pd\n",
    "import numpy as np\n",
    "\n",
    "# Dataviz\n",
    "import plotly.express as px\n",
    "\n",
    "# ML\n",
    "from sklearn.model_selection import train_test_split, cross_val_score\n",
    "from sklearn.metrics import accuracy_score, classification_report, confusion_matrix\n",
    "from sklearn.preprocessing import StandardScaler"
   ]
  },
  {
   "cell_type": "code",
   "execution_count": 269,
   "metadata": {},
   "outputs": [],
   "source": [
    "dataset_with_goals_and_assists = pd.read_feather(\"dataset_with_goals_and_assists.feather\")\n",
    "# dataset = dataset_with_goals_and_assists.drop(['goals', 'goal_assist'], axis=1)\n",
    "dataset = dataset_with_goals_and_assists"
   ]
  },
  {
   "cell_type": "code",
   "execution_count": 280,
   "metadata": {},
   "outputs": [],
   "source": [
    "selected_features = feature_selection(df=dataset, alpha=0.01).columns\n",
    "X = dataset[selected_features]\n",
    "y = dataset['win']"
   ]
  },
  {
   "cell_type": "code",
   "execution_count": 281,
   "metadata": {},
   "outputs": [],
   "source": [
    "X_train, X_test, y_train, y_test = train_test_split(X, y, test_size=0.2, random_state=42)\n",
    "\n",
    "std_scaler = StandardScaler()\n",
    "X_train_scaled = std_scaler.fit_transform(X_train)\n",
    "X_test_scaled = std_scaler.fit_transform(X_test)"
   ]
  },
  {
   "cell_type": "code",
   "execution_count": 282,
   "metadata": {},
   "outputs": [
    {
     "name": "stdout",
     "output_type": "stream",
     "text": [
      "Cross-validation scores: [1. 1. 1. 1. 1.]\n",
      "Mean cross-validation score: 1.0\n",
      "Accuracy on test set: 1.0\n",
      "              precision    recall  f1-score   support\n",
      "\n",
      "           0       1.00      1.00      1.00       674\n",
      "           1       1.00      1.00      1.00       393\n",
      "\n",
      "    accuracy                           1.00      1067\n",
      "   macro avg       1.00      1.00      1.00      1067\n",
      "weighted avg       1.00      1.00      1.00      1067\n",
      "\n",
      "[[674   0]\n",
      " [  0 393]]\n"
     ]
    }
   ],
   "source": [
    "# Create the Logistic Regression model\n",
    "LOG_clf = LogisticRegression(max_iter=1000)\n",
    "\n",
    "# Perform cross-validation\n",
    "# Here, we use 5-fold cross-validation, but you can adjust the number of folds as needed\n",
    "LOG_scores = cross_val_score(LOG_clf, X_train_scaled, y_train, cv=5, scoring='accuracy', n_jobs=8)\n",
    "\n",
    "# Print the cross-validation scores\n",
    "print(\"Cross-validation scores:\", LOG_scores)\n",
    "print(\"Mean cross-validation score:\", np.mean(LOG_scores))\n",
    "\n",
    "# Train the model on the entire training set\n",
    "LOG_clf.fit(X_train_scaled, y_train)\n",
    "\n",
    "# Evaluate the model on the test set\n",
    "LOG_pred = LOG_clf.predict(X_test_scaled)\n",
    "print(\"Accuracy on test set:\", accuracy_score(y_test, LOG_pred))\n",
    "print(classification_report(y_test, LOG_pred))\n",
    "print(confusion_matrix(y_test, LOG_pred))"
   ]
  },
  {
   "cell_type": "code",
   "execution_count": 283,
   "metadata": {},
   "outputs": [],
   "source": [
    "coefficients = LOG_clf.coef_[0]\n",
    "features_weights = {col: coeff for col, coeff in zip(X, coefficients)}"
   ]
  },
  {
   "cell_type": "code",
   "execution_count": 284,
   "metadata": {},
   "outputs": [
    {
     "data": {
      "application/vnd.plotly.v1+json": {
       "config": {
        "plotlyServerURL": "https://plot.ly"
       },
       "data": [
        {
         "alignmentgroup": "True",
         "hovertemplate": "x=%{x}<br>y=%{y}<extra></extra>",
         "legendgroup": "",
         "marker": {
          "color": "#636efa",
          "pattern": {
           "shape": ""
          }
         },
         "name": "",
         "offsetgroup": "",
         "orientation": "v",
         "showlegend": false,
         "textposition": "auto",
         "type": "bar",
         "x": [
          "crosses_18yardplus",
          "red_card",
          "total_sub_off",
          "touches_defensive_third",
          "poss_won_att_3rd",
          "aerial_won",
          "fouled_final_third",
          "accurate_pull_back",
          "xg_blocked",
          "ball_recovery",
          "fifty_fifty",
          "tackles_out_def_third",
          "total_clearance",
          "effective_clearance",
          "defensive_aerials",
          "head_clearance",
          "effective_head_clearance",
          "defensive_actions_height",
          "shot_fastbreak",
          "xG",
          "goals"
         ],
         "xaxis": "x",
         "y": [
          -0.17332484646096555,
          -0.07777996152363394,
          -0.06726229667802602,
          -0.04023726390134381,
          0.00729668408473526,
          0.017188227151038724,
          0.024866263246967814,
          0.033047263706831816,
          0.03588912341263361,
          0.037379332683844975,
          0.04091555544380222,
          0.04903489978105209,
          0.05835671488670708,
          0.05835671488670708,
          0.05985582331647314,
          0.06546740154941276,
          0.06546740154941276,
          0.07544887939293433,
          0.0825283995906055,
          0.5269742721548243,
          12.966163100724476
         ],
         "yaxis": "y"
        }
       ],
       "layout": {
        "barmode": "relative",
        "legend": {
         "tracegroupgap": 0
        },
        "margin": {
         "t": 60
        },
        "template": {
         "data": {
          "bar": [
           {
            "error_x": {
             "color": "#2a3f5f"
            },
            "error_y": {
             "color": "#2a3f5f"
            },
            "marker": {
             "line": {
              "color": "#E5ECF6",
              "width": 0.5
             },
             "pattern": {
              "fillmode": "overlay",
              "size": 10,
              "solidity": 0.2
             }
            },
            "type": "bar"
           }
          ],
          "barpolar": [
           {
            "marker": {
             "line": {
              "color": "#E5ECF6",
              "width": 0.5
             },
             "pattern": {
              "fillmode": "overlay",
              "size": 10,
              "solidity": 0.2
             }
            },
            "type": "barpolar"
           }
          ],
          "carpet": [
           {
            "aaxis": {
             "endlinecolor": "#2a3f5f",
             "gridcolor": "white",
             "linecolor": "white",
             "minorgridcolor": "white",
             "startlinecolor": "#2a3f5f"
            },
            "baxis": {
             "endlinecolor": "#2a3f5f",
             "gridcolor": "white",
             "linecolor": "white",
             "minorgridcolor": "white",
             "startlinecolor": "#2a3f5f"
            },
            "type": "carpet"
           }
          ],
          "choropleth": [
           {
            "colorbar": {
             "outlinewidth": 0,
             "ticks": ""
            },
            "type": "choropleth"
           }
          ],
          "contour": [
           {
            "colorbar": {
             "outlinewidth": 0,
             "ticks": ""
            },
            "colorscale": [
             [
              0,
              "#0d0887"
             ],
             [
              0.1111111111111111,
              "#46039f"
             ],
             [
              0.2222222222222222,
              "#7201a8"
             ],
             [
              0.3333333333333333,
              "#9c179e"
             ],
             [
              0.4444444444444444,
              "#bd3786"
             ],
             [
              0.5555555555555556,
              "#d8576b"
             ],
             [
              0.6666666666666666,
              "#ed7953"
             ],
             [
              0.7777777777777778,
              "#fb9f3a"
             ],
             [
              0.8888888888888888,
              "#fdca26"
             ],
             [
              1,
              "#f0f921"
             ]
            ],
            "type": "contour"
           }
          ],
          "contourcarpet": [
           {
            "colorbar": {
             "outlinewidth": 0,
             "ticks": ""
            },
            "type": "contourcarpet"
           }
          ],
          "heatmap": [
           {
            "colorbar": {
             "outlinewidth": 0,
             "ticks": ""
            },
            "colorscale": [
             [
              0,
              "#0d0887"
             ],
             [
              0.1111111111111111,
              "#46039f"
             ],
             [
              0.2222222222222222,
              "#7201a8"
             ],
             [
              0.3333333333333333,
              "#9c179e"
             ],
             [
              0.4444444444444444,
              "#bd3786"
             ],
             [
              0.5555555555555556,
              "#d8576b"
             ],
             [
              0.6666666666666666,
              "#ed7953"
             ],
             [
              0.7777777777777778,
              "#fb9f3a"
             ],
             [
              0.8888888888888888,
              "#fdca26"
             ],
             [
              1,
              "#f0f921"
             ]
            ],
            "type": "heatmap"
           }
          ],
          "heatmapgl": [
           {
            "colorbar": {
             "outlinewidth": 0,
             "ticks": ""
            },
            "colorscale": [
             [
              0,
              "#0d0887"
             ],
             [
              0.1111111111111111,
              "#46039f"
             ],
             [
              0.2222222222222222,
              "#7201a8"
             ],
             [
              0.3333333333333333,
              "#9c179e"
             ],
             [
              0.4444444444444444,
              "#bd3786"
             ],
             [
              0.5555555555555556,
              "#d8576b"
             ],
             [
              0.6666666666666666,
              "#ed7953"
             ],
             [
              0.7777777777777778,
              "#fb9f3a"
             ],
             [
              0.8888888888888888,
              "#fdca26"
             ],
             [
              1,
              "#f0f921"
             ]
            ],
            "type": "heatmapgl"
           }
          ],
          "histogram": [
           {
            "marker": {
             "pattern": {
              "fillmode": "overlay",
              "size": 10,
              "solidity": 0.2
             }
            },
            "type": "histogram"
           }
          ],
          "histogram2d": [
           {
            "colorbar": {
             "outlinewidth": 0,
             "ticks": ""
            },
            "colorscale": [
             [
              0,
              "#0d0887"
             ],
             [
              0.1111111111111111,
              "#46039f"
             ],
             [
              0.2222222222222222,
              "#7201a8"
             ],
             [
              0.3333333333333333,
              "#9c179e"
             ],
             [
              0.4444444444444444,
              "#bd3786"
             ],
             [
              0.5555555555555556,
              "#d8576b"
             ],
             [
              0.6666666666666666,
              "#ed7953"
             ],
             [
              0.7777777777777778,
              "#fb9f3a"
             ],
             [
              0.8888888888888888,
              "#fdca26"
             ],
             [
              1,
              "#f0f921"
             ]
            ],
            "type": "histogram2d"
           }
          ],
          "histogram2dcontour": [
           {
            "colorbar": {
             "outlinewidth": 0,
             "ticks": ""
            },
            "colorscale": [
             [
              0,
              "#0d0887"
             ],
             [
              0.1111111111111111,
              "#46039f"
             ],
             [
              0.2222222222222222,
              "#7201a8"
             ],
             [
              0.3333333333333333,
              "#9c179e"
             ],
             [
              0.4444444444444444,
              "#bd3786"
             ],
             [
              0.5555555555555556,
              "#d8576b"
             ],
             [
              0.6666666666666666,
              "#ed7953"
             ],
             [
              0.7777777777777778,
              "#fb9f3a"
             ],
             [
              0.8888888888888888,
              "#fdca26"
             ],
             [
              1,
              "#f0f921"
             ]
            ],
            "type": "histogram2dcontour"
           }
          ],
          "mesh3d": [
           {
            "colorbar": {
             "outlinewidth": 0,
             "ticks": ""
            },
            "type": "mesh3d"
           }
          ],
          "parcoords": [
           {
            "line": {
             "colorbar": {
              "outlinewidth": 0,
              "ticks": ""
             }
            },
            "type": "parcoords"
           }
          ],
          "pie": [
           {
            "automargin": true,
            "type": "pie"
           }
          ],
          "scatter": [
           {
            "fillpattern": {
             "fillmode": "overlay",
             "size": 10,
             "solidity": 0.2
            },
            "type": "scatter"
           }
          ],
          "scatter3d": [
           {
            "line": {
             "colorbar": {
              "outlinewidth": 0,
              "ticks": ""
             }
            },
            "marker": {
             "colorbar": {
              "outlinewidth": 0,
              "ticks": ""
             }
            },
            "type": "scatter3d"
           }
          ],
          "scattercarpet": [
           {
            "marker": {
             "colorbar": {
              "outlinewidth": 0,
              "ticks": ""
             }
            },
            "type": "scattercarpet"
           }
          ],
          "scattergeo": [
           {
            "marker": {
             "colorbar": {
              "outlinewidth": 0,
              "ticks": ""
             }
            },
            "type": "scattergeo"
           }
          ],
          "scattergl": [
           {
            "marker": {
             "colorbar": {
              "outlinewidth": 0,
              "ticks": ""
             }
            },
            "type": "scattergl"
           }
          ],
          "scattermapbox": [
           {
            "marker": {
             "colorbar": {
              "outlinewidth": 0,
              "ticks": ""
             }
            },
            "type": "scattermapbox"
           }
          ],
          "scatterpolar": [
           {
            "marker": {
             "colorbar": {
              "outlinewidth": 0,
              "ticks": ""
             }
            },
            "type": "scatterpolar"
           }
          ],
          "scatterpolargl": [
           {
            "marker": {
             "colorbar": {
              "outlinewidth": 0,
              "ticks": ""
             }
            },
            "type": "scatterpolargl"
           }
          ],
          "scatterternary": [
           {
            "marker": {
             "colorbar": {
              "outlinewidth": 0,
              "ticks": ""
             }
            },
            "type": "scatterternary"
           }
          ],
          "surface": [
           {
            "colorbar": {
             "outlinewidth": 0,
             "ticks": ""
            },
            "colorscale": [
             [
              0,
              "#0d0887"
             ],
             [
              0.1111111111111111,
              "#46039f"
             ],
             [
              0.2222222222222222,
              "#7201a8"
             ],
             [
              0.3333333333333333,
              "#9c179e"
             ],
             [
              0.4444444444444444,
              "#bd3786"
             ],
             [
              0.5555555555555556,
              "#d8576b"
             ],
             [
              0.6666666666666666,
              "#ed7953"
             ],
             [
              0.7777777777777778,
              "#fb9f3a"
             ],
             [
              0.8888888888888888,
              "#fdca26"
             ],
             [
              1,
              "#f0f921"
             ]
            ],
            "type": "surface"
           }
          ],
          "table": [
           {
            "cells": {
             "fill": {
              "color": "#EBF0F8"
             },
             "line": {
              "color": "white"
             }
            },
            "header": {
             "fill": {
              "color": "#C8D4E3"
             },
             "line": {
              "color": "white"
             }
            },
            "type": "table"
           }
          ]
         },
         "layout": {
          "annotationdefaults": {
           "arrowcolor": "#2a3f5f",
           "arrowhead": 0,
           "arrowwidth": 1
          },
          "autotypenumbers": "strict",
          "coloraxis": {
           "colorbar": {
            "outlinewidth": 0,
            "ticks": ""
           }
          },
          "colorscale": {
           "diverging": [
            [
             0,
             "#8e0152"
            ],
            [
             0.1,
             "#c51b7d"
            ],
            [
             0.2,
             "#de77ae"
            ],
            [
             0.3,
             "#f1b6da"
            ],
            [
             0.4,
             "#fde0ef"
            ],
            [
             0.5,
             "#f7f7f7"
            ],
            [
             0.6,
             "#e6f5d0"
            ],
            [
             0.7,
             "#b8e186"
            ],
            [
             0.8,
             "#7fbc41"
            ],
            [
             0.9,
             "#4d9221"
            ],
            [
             1,
             "#276419"
            ]
           ],
           "sequential": [
            [
             0,
             "#0d0887"
            ],
            [
             0.1111111111111111,
             "#46039f"
            ],
            [
             0.2222222222222222,
             "#7201a8"
            ],
            [
             0.3333333333333333,
             "#9c179e"
            ],
            [
             0.4444444444444444,
             "#bd3786"
            ],
            [
             0.5555555555555556,
             "#d8576b"
            ],
            [
             0.6666666666666666,
             "#ed7953"
            ],
            [
             0.7777777777777778,
             "#fb9f3a"
            ],
            [
             0.8888888888888888,
             "#fdca26"
            ],
            [
             1,
             "#f0f921"
            ]
           ],
           "sequentialminus": [
            [
             0,
             "#0d0887"
            ],
            [
             0.1111111111111111,
             "#46039f"
            ],
            [
             0.2222222222222222,
             "#7201a8"
            ],
            [
             0.3333333333333333,
             "#9c179e"
            ],
            [
             0.4444444444444444,
             "#bd3786"
            ],
            [
             0.5555555555555556,
             "#d8576b"
            ],
            [
             0.6666666666666666,
             "#ed7953"
            ],
            [
             0.7777777777777778,
             "#fb9f3a"
            ],
            [
             0.8888888888888888,
             "#fdca26"
            ],
            [
             1,
             "#f0f921"
            ]
           ]
          },
          "colorway": [
           "#636efa",
           "#EF553B",
           "#00cc96",
           "#ab63fa",
           "#FFA15A",
           "#19d3f3",
           "#FF6692",
           "#B6E880",
           "#FF97FF",
           "#FECB52"
          ],
          "font": {
           "color": "#2a3f5f"
          },
          "geo": {
           "bgcolor": "white",
           "lakecolor": "white",
           "landcolor": "#E5ECF6",
           "showlakes": true,
           "showland": true,
           "subunitcolor": "white"
          },
          "hoverlabel": {
           "align": "left"
          },
          "hovermode": "closest",
          "mapbox": {
           "style": "light"
          },
          "paper_bgcolor": "white",
          "plot_bgcolor": "#E5ECF6",
          "polar": {
           "angularaxis": {
            "gridcolor": "white",
            "linecolor": "white",
            "ticks": ""
           },
           "bgcolor": "#E5ECF6",
           "radialaxis": {
            "gridcolor": "white",
            "linecolor": "white",
            "ticks": ""
           }
          },
          "scene": {
           "xaxis": {
            "backgroundcolor": "#E5ECF6",
            "gridcolor": "white",
            "gridwidth": 2,
            "linecolor": "white",
            "showbackground": true,
            "ticks": "",
            "zerolinecolor": "white"
           },
           "yaxis": {
            "backgroundcolor": "#E5ECF6",
            "gridcolor": "white",
            "gridwidth": 2,
            "linecolor": "white",
            "showbackground": true,
            "ticks": "",
            "zerolinecolor": "white"
           },
           "zaxis": {
            "backgroundcolor": "#E5ECF6",
            "gridcolor": "white",
            "gridwidth": 2,
            "linecolor": "white",
            "showbackground": true,
            "ticks": "",
            "zerolinecolor": "white"
           }
          },
          "shapedefaults": {
           "line": {
            "color": "#2a3f5f"
           }
          },
          "ternary": {
           "aaxis": {
            "gridcolor": "white",
            "linecolor": "white",
            "ticks": ""
           },
           "baxis": {
            "gridcolor": "white",
            "linecolor": "white",
            "ticks": ""
           },
           "bgcolor": "#E5ECF6",
           "caxis": {
            "gridcolor": "white",
            "linecolor": "white",
            "ticks": ""
           }
          },
          "title": {
           "x": 0.05
          },
          "xaxis": {
           "automargin": true,
           "gridcolor": "white",
           "linecolor": "white",
           "ticks": "",
           "title": {
            "standoff": 15
           },
           "zerolinecolor": "white",
           "zerolinewidth": 2
          },
          "yaxis": {
           "automargin": true,
           "gridcolor": "white",
           "linecolor": "white",
           "ticks": "",
           "title": {
            "standoff": 15
           },
           "zerolinecolor": "white",
           "zerolinewidth": 2
          }
         }
        },
        "xaxis": {
         "anchor": "y",
         "domain": [
          0,
          1
         ],
         "title": {
          "text": "x"
         }
        },
        "yaxis": {
         "anchor": "x",
         "domain": [
          0,
          1
         ],
         "title": {
          "text": "y"
         }
        }
       }
      }
     },
     "metadata": {},
     "output_type": "display_data"
    }
   ],
   "source": [
    "# Example column names, replace these with your actual column names\n",
    "column_names = X_train.columns\n",
    "\n",
    "# Ensure the lengths match\n",
    "assert len(coefficients) == len(column_names), \"Coefficients and column names must have the same length.\"\n",
    "\n",
    "# Sort coefficients and column names by the coefficients\n",
    "sorted_indices = np.argsort((coefficients))\n",
    "sorted_coefficients = coefficients[sorted_indices]\n",
    "sorted_column_names = [column_names[i] for i in sorted_indices]\n",
    "\n",
    "# Plot using Plotly Express\n",
    "fig = px.bar(x=sorted_column_names, y=sorted_coefficients)\n",
    "fig.show()"
   ]
  },
  {
   "cell_type": "markdown",
   "metadata": {},
   "source": [
    "# Prediction"
   ]
  },
  {
   "cell_type": "code",
   "execution_count": 329,
   "metadata": {},
   "outputs": [],
   "source": [
    "players = pd.read_feather(r\"C:\\Users\\leoac\\OneDrive - Università degli Studi di Milano\\Unimi\\Subjects\\Labs\\Football analytics\\SPR - Project\\Seasonal-Player-Rating\\Project2-3 - match-seasonal index\\match_data.feather\")\n",
    "players['mins_played'] = players['end_minute'] - players['start_minute']\n",
    "# + ['goals', 'goal_assist'] at the end if you want to use them separatedly wrt the logistic\n",
    "# players_data = players[['player_id','game_id','team_id','team','season','full_name','cluster_label'] + list(selected_features) + ['goals', 'goal_assist']].fillna(0)\n",
    "players_data = players[['competition','mins_played'] + ['player_id','game_id','team_id','team','season','full_name','cluster_label'] + list(selected_features)].fillna(0)"
   ]
  },
  {
   "cell_type": "code",
   "execution_count": 330,
   "metadata": {},
   "outputs": [],
   "source": [
    "cluster_features_weights = get_cluster_features_weights(pd.read_feather(\"Project2-3 - match-seasonal index\\match_data.feather\"))\n",
    "cluster_features_weights = {cluster:\n",
    "                            {feature: cluster_features_weights[cluster][feature]\n",
    "                              for feature in features_weights.keys()}\n",
    "                                for cluster in cluster_features_weights.keys()}"
   ]
  },
  {
   "cell_type": "code",
   "execution_count": 287,
   "metadata": {},
   "outputs": [],
   "source": [
    "# def calculate_playerank(row: pd.DataFrame | pd.Series, features_weights: dict, cluster_features_weights: dict) -> float:\n",
    "\n",
    "#     # Get the cluster weights for the current player\n",
    "#     cluster = row['cluster_label'].values[0]\n",
    "#     cluster_weights = cluster_features_weights[cluster]\n",
    "#     # Usa alpha and beta as the same weights of xG and xA for goals and assists\n",
    "#     alpha = cluster_features_weights[cluster]['xG']\n",
    "#     beta = 0 # cluster_features_weights[cluster]['xA']\n",
    "    \n",
    "#     # Calculate Goals and Assists\n",
    "#     goals = row['goals']\n",
    "#     assists = row['goal_assist']\n",
    "\n",
    "#     # Drop goals and assists\n",
    "#     row = row.drop(['goals', 'goal_assist'], axis=1)\n",
    "\n",
    "#     # Drop indicators\n",
    "#     row = row.drop(['player_id', 'game_id', 'team_id', 'team', 'season', 'full_name', 'cluster_label'], axis=1)\n",
    "    \n",
    "#     # Calculate playerank by summing the products\n",
    "#     playerank = (np.array(list(features_weights.values())) * np.array(list(cluster_weights.values())) * row.values).sum()\n",
    "#     # Add the weighted goals and assists values. Weights are chosen as the same weights of xG and xA cluster-wise\n",
    "#     playerank = playerank*(1-alpha-beta) + goals*alpha + assists*beta\n",
    "        \n",
    "#     return playerank"
   ]
  },
  {
   "cell_type": "code",
   "execution_count": 332,
   "metadata": {},
   "outputs": [],
   "source": [
    "def calculate_playerank(row: pd.DataFrame | pd.Series, features_weights: dict, cluster_features_weights: dict) -> float:\n",
    "\n",
    "    # Get the cluster weights for the current player\n",
    "    cluster = row['cluster_label'].values[0]\n",
    "    cluster_weights = cluster_features_weights[cluster]\n",
    "    # cluster_weights['goals'] = cluster_weights['goals'] * cluster_features_weights[cluster]['xG']\n",
    "    # cluster_weights['goal_assist'] = cluster_weights['goal_assist'] * cluster_features_weights[cluster]['xA']\n",
    "\n",
    "    # Drop indicators\n",
    "    row = row.drop(['player_id', 'game_id', 'team_id', 'team', 'season', 'full_name', 'cluster_label'] + ['competition','mins_played'], axis=1)\n",
    "    \n",
    "    # Calculate playerank by summing the products\n",
    "    playerank = (np.array(list(features_weights.values())) * np.array(list(cluster_weights.values())) * row.values).sum()\n",
    "\n",
    "    return playerank"
   ]
  },
  {
   "cell_type": "code",
   "execution_count": 333,
   "metadata": {},
   "outputs": [
    {
     "name": "stderr",
     "output_type": "stream",
     "text": [
      "C:\\Users\\leoac\\AppData\\Local\\Temp\\ipykernel_16956\\3753729960.py:1: DeprecationWarning:\n",
      "\n",
      "DataFrameGroupBy.apply operated on the grouping columns. This behavior is deprecated, and in a future version of pandas the grouping columns will be excluded from the operation. Either pass `include_groups=False` to exclude the groupings or explicitly select the grouping columns after groupby to silence this warning.\n",
      "\n"
     ]
    }
   ],
   "source": [
    "players_playerank = players_data[players_data['season'] == 2023].groupby(['player_id', 'game_id', 'team_id', 'team', 'season', 'full_name']).apply(lambda row: calculate_playerank(row, features_weights, cluster_features_weights))"
   ]
  },
  {
   "cell_type": "code",
   "execution_count": 347,
   "metadata": {},
   "outputs": [],
   "source": [
    "player_cluster = players_data[['player_id', 'cluster_label', 'competition',]].groupby('player_id').last()\n",
    "player_cluster = pd.merge(player_cluster, players_data[['player_id', 'mins_played']].groupby('player_id').sum(), right_on='player_id', left_index=True)"
   ]
  },
  {
   "cell_type": "code",
   "execution_count": 348,
   "metadata": {},
   "outputs": [],
   "source": [
    "players_playerank_series = pd.Series(players_playerank.groupby(['player_id', 'full_name']).mean(), name='playerank')\n",
    "ranking = pd.merge(player_cluster, players_playerank_series, right_on='player_id', left_index=True)"
   ]
  },
  {
   "cell_type": "code",
   "execution_count": 336,
   "metadata": {},
   "outputs": [
    {
     "ename": "TypeError",
     "evalue": "unsupported operand type(s) for /: 'str' and 'int'",
     "output_type": "error",
     "traceback": [
      "\u001b[1;31m---------------------------------------------------------------------------\u001b[0m",
      "\u001b[1;31mTypeError\u001b[0m                                 Traceback (most recent call last)",
      "File \u001b[1;32mc:\\Users\\leoac\\AppData\\Local\\Programs\\Python\\Python311\\Lib\\site-packages\\pandas\\core\\ops\\array_ops.py:218\u001b[0m, in \u001b[0;36m_na_arithmetic_op\u001b[1;34m(left, right, op, is_cmp)\u001b[0m\n\u001b[0;32m    217\u001b[0m \u001b[38;5;28;01mtry\u001b[39;00m:\n\u001b[1;32m--> 218\u001b[0m     result \u001b[38;5;241m=\u001b[39m \u001b[43mfunc\u001b[49m\u001b[43m(\u001b[49m\u001b[43mleft\u001b[49m\u001b[43m,\u001b[49m\u001b[43m \u001b[49m\u001b[43mright\u001b[49m\u001b[43m)\u001b[49m\n\u001b[0;32m    219\u001b[0m \u001b[38;5;28;01mexcept\u001b[39;00m \u001b[38;5;167;01mTypeError\u001b[39;00m:\n",
      "File \u001b[1;32mc:\\Users\\leoac\\AppData\\Local\\Programs\\Python\\Python311\\Lib\\site-packages\\pandas\\core\\computation\\expressions.py:242\u001b[0m, in \u001b[0;36mevaluate\u001b[1;34m(op, a, b, use_numexpr)\u001b[0m\n\u001b[0;32m    240\u001b[0m     \u001b[38;5;28;01mif\u001b[39;00m use_numexpr:\n\u001b[0;32m    241\u001b[0m         \u001b[38;5;66;03m# error: \"None\" not callable\u001b[39;00m\n\u001b[1;32m--> 242\u001b[0m         \u001b[38;5;28;01mreturn\u001b[39;00m \u001b[43m_evaluate\u001b[49m\u001b[43m(\u001b[49m\u001b[43mop\u001b[49m\u001b[43m,\u001b[49m\u001b[43m \u001b[49m\u001b[43mop_str\u001b[49m\u001b[43m,\u001b[49m\u001b[43m \u001b[49m\u001b[43ma\u001b[49m\u001b[43m,\u001b[49m\u001b[43m \u001b[49m\u001b[43mb\u001b[49m\u001b[43m)\u001b[49m  \u001b[38;5;66;03m# type: ignore[misc]\u001b[39;00m\n\u001b[0;32m    243\u001b[0m \u001b[38;5;28;01mreturn\u001b[39;00m _evaluate_standard(op, op_str, a, b)\n",
      "File \u001b[1;32mc:\\Users\\leoac\\AppData\\Local\\Programs\\Python\\Python311\\Lib\\site-packages\\pandas\\core\\computation\\expressions.py:73\u001b[0m, in \u001b[0;36m_evaluate_standard\u001b[1;34m(op, op_str, a, b)\u001b[0m\n\u001b[0;32m     72\u001b[0m     _store_test_result(\u001b[38;5;28;01mFalse\u001b[39;00m)\n\u001b[1;32m---> 73\u001b[0m \u001b[38;5;28;01mreturn\u001b[39;00m op(a, b)\n",
      "\u001b[1;31mTypeError\u001b[0m: unsupported operand type(s) for /: 'str' and 'int'",
      "\nDuring handling of the above exception, another exception occurred:\n",
      "\u001b[1;31mTypeError\u001b[0m                                 Traceback (most recent call last)",
      "Cell \u001b[1;32mIn[336], line 1\u001b[0m\n\u001b[1;32m----> 1\u001b[0m \u001b[43mranking\u001b[49m\u001b[38;5;241;43m.\u001b[39;49m\u001b[43mgroupby\u001b[49m\u001b[43m(\u001b[49m\u001b[38;5;124;43m'\u001b[39;49m\u001b[38;5;124;43mcluster_label\u001b[39;49m\u001b[38;5;124;43m'\u001b[39;49m\u001b[43m)\u001b[49m\u001b[38;5;241;43m.\u001b[39;49m\u001b[43msum\u001b[49m\u001b[43m(\u001b[49m\u001b[43m)\u001b[49m\u001b[43m \u001b[49m\u001b[38;5;241;43m/\u001b[39;49m\u001b[43m \u001b[49m\u001b[43mranking\u001b[49m\u001b[38;5;241;43m.\u001b[39;49m\u001b[43mgroupby\u001b[49m\u001b[43m(\u001b[49m\u001b[38;5;124;43m'\u001b[39;49m\u001b[38;5;124;43mcluster_label\u001b[39;49m\u001b[38;5;124;43m'\u001b[39;49m\u001b[43m)\u001b[49m\u001b[38;5;241;43m.\u001b[39;49m\u001b[43mcount\u001b[49m\u001b[43m(\u001b[49m\u001b[43m)\u001b[49m\n",
      "File \u001b[1;32mc:\\Users\\leoac\\AppData\\Local\\Programs\\Python\\Python311\\Lib\\site-packages\\pandas\\core\\ops\\common.py:76\u001b[0m, in \u001b[0;36m_unpack_zerodim_and_defer.<locals>.new_method\u001b[1;34m(self, other)\u001b[0m\n\u001b[0;32m     72\u001b[0m             \u001b[38;5;28;01mreturn\u001b[39;00m \u001b[38;5;28mNotImplemented\u001b[39m\n\u001b[0;32m     74\u001b[0m other \u001b[38;5;241m=\u001b[39m item_from_zerodim(other)\n\u001b[1;32m---> 76\u001b[0m \u001b[38;5;28;01mreturn\u001b[39;00m \u001b[43mmethod\u001b[49m\u001b[43m(\u001b[49m\u001b[38;5;28;43mself\u001b[39;49m\u001b[43m,\u001b[49m\u001b[43m \u001b[49m\u001b[43mother\u001b[49m\u001b[43m)\u001b[49m\n",
      "File \u001b[1;32mc:\\Users\\leoac\\AppData\\Local\\Programs\\Python\\Python311\\Lib\\site-packages\\pandas\\core\\arraylike.py:210\u001b[0m, in \u001b[0;36mOpsMixin.__truediv__\u001b[1;34m(self, other)\u001b[0m\n\u001b[0;32m    208\u001b[0m \u001b[38;5;129m@unpack_zerodim_and_defer\u001b[39m(\u001b[38;5;124m\"\u001b[39m\u001b[38;5;124m__truediv__\u001b[39m\u001b[38;5;124m\"\u001b[39m)\n\u001b[0;32m    209\u001b[0m \u001b[38;5;28;01mdef\u001b[39;00m \u001b[38;5;21m__truediv__\u001b[39m(\u001b[38;5;28mself\u001b[39m, other):\n\u001b[1;32m--> 210\u001b[0m     \u001b[38;5;28;01mreturn\u001b[39;00m \u001b[38;5;28;43mself\u001b[39;49m\u001b[38;5;241;43m.\u001b[39;49m\u001b[43m_arith_method\u001b[49m\u001b[43m(\u001b[49m\u001b[43mother\u001b[49m\u001b[43m,\u001b[49m\u001b[43m \u001b[49m\u001b[43moperator\u001b[49m\u001b[38;5;241;43m.\u001b[39;49m\u001b[43mtruediv\u001b[49m\u001b[43m)\u001b[49m\n",
      "File \u001b[1;32mc:\\Users\\leoac\\AppData\\Local\\Programs\\Python\\Python311\\Lib\\site-packages\\pandas\\core\\frame.py:7897\u001b[0m, in \u001b[0;36mDataFrame._arith_method\u001b[1;34m(self, other, op)\u001b[0m\n\u001b[0;32m   7894\u001b[0m \u001b[38;5;28mself\u001b[39m, other \u001b[38;5;241m=\u001b[39m \u001b[38;5;28mself\u001b[39m\u001b[38;5;241m.\u001b[39m_align_for_op(other, axis, flex\u001b[38;5;241m=\u001b[39m\u001b[38;5;28;01mTrue\u001b[39;00m, level\u001b[38;5;241m=\u001b[39m\u001b[38;5;28;01mNone\u001b[39;00m)\n\u001b[0;32m   7896\u001b[0m \u001b[38;5;28;01mwith\u001b[39;00m np\u001b[38;5;241m.\u001b[39merrstate(\u001b[38;5;28mall\u001b[39m\u001b[38;5;241m=\u001b[39m\u001b[38;5;124m\"\u001b[39m\u001b[38;5;124mignore\u001b[39m\u001b[38;5;124m\"\u001b[39m):\n\u001b[1;32m-> 7897\u001b[0m     new_data \u001b[38;5;241m=\u001b[39m \u001b[38;5;28;43mself\u001b[39;49m\u001b[38;5;241;43m.\u001b[39;49m\u001b[43m_dispatch_frame_op\u001b[49m\u001b[43m(\u001b[49m\u001b[43mother\u001b[49m\u001b[43m,\u001b[49m\u001b[43m \u001b[49m\u001b[43mop\u001b[49m\u001b[43m,\u001b[49m\u001b[43m \u001b[49m\u001b[43maxis\u001b[49m\u001b[38;5;241;43m=\u001b[39;49m\u001b[43maxis\u001b[49m\u001b[43m)\u001b[49m\n\u001b[0;32m   7898\u001b[0m \u001b[38;5;28;01mreturn\u001b[39;00m \u001b[38;5;28mself\u001b[39m\u001b[38;5;241m.\u001b[39m_construct_result(new_data)\n",
      "File \u001b[1;32mc:\\Users\\leoac\\AppData\\Local\\Programs\\Python\\Python311\\Lib\\site-packages\\pandas\\core\\frame.py:7940\u001b[0m, in \u001b[0;36mDataFrame._dispatch_frame_op\u001b[1;34m(self, right, func, axis)\u001b[0m\n\u001b[0;32m   7934\u001b[0m     \u001b[38;5;28;01massert\u001b[39;00m \u001b[38;5;28mself\u001b[39m\u001b[38;5;241m.\u001b[39mcolumns\u001b[38;5;241m.\u001b[39mequals(right\u001b[38;5;241m.\u001b[39mcolumns)\n\u001b[0;32m   7935\u001b[0m     \u001b[38;5;66;03m# TODO: The previous assertion `assert right._indexed_same(self)`\u001b[39;00m\n\u001b[0;32m   7936\u001b[0m     \u001b[38;5;66;03m#  fails in cases with empty columns reached via\u001b[39;00m\n\u001b[0;32m   7937\u001b[0m     \u001b[38;5;66;03m#  _frame_arith_method_with_reindex\u001b[39;00m\n\u001b[0;32m   7938\u001b[0m \n\u001b[0;32m   7939\u001b[0m     \u001b[38;5;66;03m# TODO operate_blockwise expects a manager of the same type\u001b[39;00m\n\u001b[1;32m-> 7940\u001b[0m     bm \u001b[38;5;241m=\u001b[39m \u001b[38;5;28;43mself\u001b[39;49m\u001b[38;5;241;43m.\u001b[39;49m\u001b[43m_mgr\u001b[49m\u001b[38;5;241;43m.\u001b[39;49m\u001b[43moperate_blockwise\u001b[49m\u001b[43m(\u001b[49m\n\u001b[0;32m   7941\u001b[0m \u001b[43m        \u001b[49m\u001b[38;5;66;43;03m# error: Argument 1 to \"operate_blockwise\" of \"ArrayManager\" has\u001b[39;49;00m\n\u001b[0;32m   7942\u001b[0m \u001b[43m        \u001b[49m\u001b[38;5;66;43;03m# incompatible type \"Union[ArrayManager, BlockManager]\"; expected\u001b[39;49;00m\n\u001b[0;32m   7943\u001b[0m \u001b[43m        \u001b[49m\u001b[38;5;66;43;03m# \"ArrayManager\"\u001b[39;49;00m\n\u001b[0;32m   7944\u001b[0m \u001b[43m        \u001b[49m\u001b[38;5;66;43;03m# error: Argument 1 to \"operate_blockwise\" of \"BlockManager\" has\u001b[39;49;00m\n\u001b[0;32m   7945\u001b[0m \u001b[43m        \u001b[49m\u001b[38;5;66;43;03m# incompatible type \"Union[ArrayManager, BlockManager]\"; expected\u001b[39;49;00m\n\u001b[0;32m   7946\u001b[0m \u001b[43m        \u001b[49m\u001b[38;5;66;43;03m# \"BlockManager\"\u001b[39;49;00m\n\u001b[0;32m   7947\u001b[0m \u001b[43m        \u001b[49m\u001b[43mright\u001b[49m\u001b[38;5;241;43m.\u001b[39;49m\u001b[43m_mgr\u001b[49m\u001b[43m,\u001b[49m\u001b[43m  \u001b[49m\u001b[38;5;66;43;03m# type: ignore[arg-type]\u001b[39;49;00m\n\u001b[0;32m   7948\u001b[0m \u001b[43m        \u001b[49m\u001b[43marray_op\u001b[49m\u001b[43m,\u001b[49m\n\u001b[0;32m   7949\u001b[0m \u001b[43m    \u001b[49m\u001b[43m)\u001b[49m\n\u001b[0;32m   7950\u001b[0m     \u001b[38;5;28;01mreturn\u001b[39;00m \u001b[38;5;28mself\u001b[39m\u001b[38;5;241m.\u001b[39m_constructor_from_mgr(bm, axes\u001b[38;5;241m=\u001b[39mbm\u001b[38;5;241m.\u001b[39maxes)\n\u001b[0;32m   7952\u001b[0m \u001b[38;5;28;01melif\u001b[39;00m \u001b[38;5;28misinstance\u001b[39m(right, Series) \u001b[38;5;129;01mand\u001b[39;00m axis \u001b[38;5;241m==\u001b[39m \u001b[38;5;241m1\u001b[39m:\n\u001b[0;32m   7953\u001b[0m     \u001b[38;5;66;03m# axis=1 means we want to operate row-by-row\u001b[39;00m\n",
      "File \u001b[1;32mc:\\Users\\leoac\\AppData\\Local\\Programs\\Python\\Python311\\Lib\\site-packages\\pandas\\core\\internals\\managers.py:1512\u001b[0m, in \u001b[0;36mBlockManager.operate_blockwise\u001b[1;34m(self, other, array_op)\u001b[0m\n\u001b[0;32m   1508\u001b[0m \u001b[38;5;28;01mdef\u001b[39;00m \u001b[38;5;21moperate_blockwise\u001b[39m(\u001b[38;5;28mself\u001b[39m, other: BlockManager, array_op) \u001b[38;5;241m-\u001b[39m\u001b[38;5;241m>\u001b[39m BlockManager:\n\u001b[0;32m   1509\u001b[0m \u001b[38;5;250m    \u001b[39m\u001b[38;5;124;03m\"\"\"\u001b[39;00m\n\u001b[0;32m   1510\u001b[0m \u001b[38;5;124;03m    Apply array_op blockwise with another (aligned) BlockManager.\u001b[39;00m\n\u001b[0;32m   1511\u001b[0m \u001b[38;5;124;03m    \"\"\"\u001b[39;00m\n\u001b[1;32m-> 1512\u001b[0m     \u001b[38;5;28;01mreturn\u001b[39;00m \u001b[43moperate_blockwise\u001b[49m\u001b[43m(\u001b[49m\u001b[38;5;28;43mself\u001b[39;49m\u001b[43m,\u001b[49m\u001b[43m \u001b[49m\u001b[43mother\u001b[49m\u001b[43m,\u001b[49m\u001b[43m \u001b[49m\u001b[43marray_op\u001b[49m\u001b[43m)\u001b[49m\n",
      "File \u001b[1;32mc:\\Users\\leoac\\AppData\\Local\\Programs\\Python\\Python311\\Lib\\site-packages\\pandas\\core\\internals\\ops.py:65\u001b[0m, in \u001b[0;36moperate_blockwise\u001b[1;34m(left, right, array_op)\u001b[0m\n\u001b[0;32m     63\u001b[0m res_blks: \u001b[38;5;28mlist\u001b[39m[Block] \u001b[38;5;241m=\u001b[39m []\n\u001b[0;32m     64\u001b[0m \u001b[38;5;28;01mfor\u001b[39;00m lvals, rvals, locs, left_ea, right_ea, rblk \u001b[38;5;129;01min\u001b[39;00m _iter_block_pairs(left, right):\n\u001b[1;32m---> 65\u001b[0m     res_values \u001b[38;5;241m=\u001b[39m \u001b[43marray_op\u001b[49m\u001b[43m(\u001b[49m\u001b[43mlvals\u001b[49m\u001b[43m,\u001b[49m\u001b[43m \u001b[49m\u001b[43mrvals\u001b[49m\u001b[43m)\u001b[49m\n\u001b[0;32m     66\u001b[0m     \u001b[38;5;28;01mif\u001b[39;00m (\n\u001b[0;32m     67\u001b[0m         left_ea\n\u001b[0;32m     68\u001b[0m         \u001b[38;5;129;01mand\u001b[39;00m \u001b[38;5;129;01mnot\u001b[39;00m right_ea\n\u001b[0;32m     69\u001b[0m         \u001b[38;5;129;01mand\u001b[39;00m \u001b[38;5;28mhasattr\u001b[39m(res_values, \u001b[38;5;124m\"\u001b[39m\u001b[38;5;124mreshape\u001b[39m\u001b[38;5;124m\"\u001b[39m)\n\u001b[0;32m     70\u001b[0m         \u001b[38;5;129;01mand\u001b[39;00m \u001b[38;5;129;01mnot\u001b[39;00m is_1d_only_ea_dtype(res_values\u001b[38;5;241m.\u001b[39mdtype)\n\u001b[0;32m     71\u001b[0m     ):\n\u001b[0;32m     72\u001b[0m         res_values \u001b[38;5;241m=\u001b[39m res_values\u001b[38;5;241m.\u001b[39mreshape(\u001b[38;5;241m1\u001b[39m, \u001b[38;5;241m-\u001b[39m\u001b[38;5;241m1\u001b[39m)\n",
      "File \u001b[1;32mc:\\Users\\leoac\\AppData\\Local\\Programs\\Python\\Python311\\Lib\\site-packages\\pandas\\core\\ops\\array_ops.py:283\u001b[0m, in \u001b[0;36marithmetic_op\u001b[1;34m(left, right, op)\u001b[0m\n\u001b[0;32m    279\u001b[0m     _bool_arith_check(op, left, right)  \u001b[38;5;66;03m# type: ignore[arg-type]\u001b[39;00m\n\u001b[0;32m    281\u001b[0m     \u001b[38;5;66;03m# error: Argument 1 to \"_na_arithmetic_op\" has incompatible type\u001b[39;00m\n\u001b[0;32m    282\u001b[0m     \u001b[38;5;66;03m# \"Union[ExtensionArray, ndarray[Any, Any]]\"; expected \"ndarray[Any, Any]\"\u001b[39;00m\n\u001b[1;32m--> 283\u001b[0m     res_values \u001b[38;5;241m=\u001b[39m \u001b[43m_na_arithmetic_op\u001b[49m\u001b[43m(\u001b[49m\u001b[43mleft\u001b[49m\u001b[43m,\u001b[49m\u001b[43m \u001b[49m\u001b[43mright\u001b[49m\u001b[43m,\u001b[49m\u001b[43m \u001b[49m\u001b[43mop\u001b[49m\u001b[43m)\u001b[49m  \u001b[38;5;66;03m# type: ignore[arg-type]\u001b[39;00m\n\u001b[0;32m    285\u001b[0m \u001b[38;5;28;01mreturn\u001b[39;00m res_values\n",
      "File \u001b[1;32mc:\\Users\\leoac\\AppData\\Local\\Programs\\Python\\Python311\\Lib\\site-packages\\pandas\\core\\ops\\array_ops.py:227\u001b[0m, in \u001b[0;36m_na_arithmetic_op\u001b[1;34m(left, right, op, is_cmp)\u001b[0m\n\u001b[0;32m    219\u001b[0m \u001b[38;5;28;01mexcept\u001b[39;00m \u001b[38;5;167;01mTypeError\u001b[39;00m:\n\u001b[0;32m    220\u001b[0m     \u001b[38;5;28;01mif\u001b[39;00m \u001b[38;5;129;01mnot\u001b[39;00m is_cmp \u001b[38;5;129;01mand\u001b[39;00m (\n\u001b[0;32m    221\u001b[0m         left\u001b[38;5;241m.\u001b[39mdtype \u001b[38;5;241m==\u001b[39m \u001b[38;5;28mobject\u001b[39m \u001b[38;5;129;01mor\u001b[39;00m \u001b[38;5;28mgetattr\u001b[39m(right, \u001b[38;5;124m\"\u001b[39m\u001b[38;5;124mdtype\u001b[39m\u001b[38;5;124m\"\u001b[39m, \u001b[38;5;28;01mNone\u001b[39;00m) \u001b[38;5;241m==\u001b[39m \u001b[38;5;28mobject\u001b[39m\n\u001b[0;32m    222\u001b[0m     ):\n\u001b[1;32m   (...)\u001b[0m\n\u001b[0;32m    225\u001b[0m         \u001b[38;5;66;03m# Don't do this for comparisons, as that will handle complex numbers\u001b[39;00m\n\u001b[0;32m    226\u001b[0m         \u001b[38;5;66;03m#  incorrectly, see GH#32047\u001b[39;00m\n\u001b[1;32m--> 227\u001b[0m         result \u001b[38;5;241m=\u001b[39m \u001b[43m_masked_arith_op\u001b[49m\u001b[43m(\u001b[49m\u001b[43mleft\u001b[49m\u001b[43m,\u001b[49m\u001b[43m \u001b[49m\u001b[43mright\u001b[49m\u001b[43m,\u001b[49m\u001b[43m \u001b[49m\u001b[43mop\u001b[49m\u001b[43m)\u001b[49m\n\u001b[0;32m    228\u001b[0m     \u001b[38;5;28;01melse\u001b[39;00m:\n\u001b[0;32m    229\u001b[0m         \u001b[38;5;28;01mraise\u001b[39;00m\n",
      "File \u001b[1;32mc:\\Users\\leoac\\AppData\\Local\\Programs\\Python\\Python311\\Lib\\site-packages\\pandas\\core\\ops\\array_ops.py:163\u001b[0m, in \u001b[0;36m_masked_arith_op\u001b[1;34m(x, y, op)\u001b[0m\n\u001b[0;32m    161\u001b[0m     \u001b[38;5;66;03m# See GH#5284, GH#5035, GH#19448 for historical reference\u001b[39;00m\n\u001b[0;32m    162\u001b[0m     \u001b[38;5;28;01mif\u001b[39;00m mask\u001b[38;5;241m.\u001b[39many():\n\u001b[1;32m--> 163\u001b[0m         result[mask] \u001b[38;5;241m=\u001b[39m \u001b[43mop\u001b[49m\u001b[43m(\u001b[49m\u001b[43mxrav\u001b[49m\u001b[43m[\u001b[49m\u001b[43mmask\u001b[49m\u001b[43m]\u001b[49m\u001b[43m,\u001b[49m\u001b[43m \u001b[49m\u001b[43myrav\u001b[49m\u001b[43m[\u001b[49m\u001b[43mmask\u001b[49m\u001b[43m]\u001b[49m\u001b[43m)\u001b[49m\n\u001b[0;32m    165\u001b[0m \u001b[38;5;28;01melse\u001b[39;00m:\n\u001b[0;32m    166\u001b[0m     \u001b[38;5;28;01mif\u001b[39;00m \u001b[38;5;129;01mnot\u001b[39;00m is_scalar(y):\n",
      "\u001b[1;31mTypeError\u001b[0m: unsupported operand type(s) for /: 'str' and 'int'"
     ]
    }
   ],
   "source": [
    "# ranking.groupby('cluster_label').sum() / ranking.groupby('cluster_label').count()"
   ]
  },
  {
   "cell_type": "code",
   "execution_count": 337,
   "metadata": {},
   "outputs": [
    {
     "name": "stdout",
     "output_type": "stream",
     "text": [
      "                                     cluster_label competition  playerank\n",
      "player_id full_name                                                      \n",
      "247359    Alessandro Buongiorno  Buildup initiator     Serie A   1.562528\n",
      "543612    Federico Gatti         Buildup initiator     Serie A   1.559263\n",
      "510162    Ryan Flamingo          Buildup initiator  Eredivisie   1.351816\n",
      "554605    Dean Huijsen           Buildup initiator     Serie A   1.319025\n",
      "170856    Damon Mirani           Buildup initiator  Eredivisie   1.183828\n",
      "                           cluster_label     competition  playerank\n",
      "player_id full_name                                                \n",
      "207283    Mathias Jensen    Wide creator  Premier League   2.225117\n",
      "161919    Federico Dimarco  Wide creator         Serie A   0.926953\n",
      "202072    Bart Nieuwkoop    Wide creator      Eredivisie   0.915947\n",
      "219435    Jordy Bruijn      Wide creator      Eredivisie   0.908626\n",
      "466044    Jesús Vázquez     Wide creator         La Liga   0.882150\n",
      "                         cluster_label     competition  playerank\n",
      "player_id full_name                                              \n",
      "220233    Kik Pierie      Ball stopper      Eredivisie   1.712772\n",
      "108796    Tom Lockyer     Ball stopper  Premier League   1.316249\n",
      "56409     Bart Vriends    Ball stopper      Eredivisie   1.293187\n",
      "105571    Antonio Raíllo  Ball stopper         La Liga   1.258712\n",
      "17861     Sergio Ramos    Ball stopper         La Liga   1.234711\n",
      "                             cluster_label     competition  playerank\n",
      "player_id full_name                                                  \n",
      "515759    Andrea Cambiaso  Wide controller         Serie A   1.435689\n",
      "472713    Aaron Hickey     Wide controller  Premier League   1.109185\n",
      "220325    Jules Koundé     Wide controller         La Liga   0.857165\n",
      "42670     Yuri Berchiche   Wide controller         La Liga   0.732727\n",
      "489209    Nadir Zortea     Wide controller         Serie A   0.730958\n",
      "                                      cluster_label     competition  playerank\n",
      "player_id full_name                                                           \n",
      "208749    Luuk Brouwers            Buildup director      Eredivisie   3.479902\n",
      "230046    Douglas Luiz             Buildup director  Premier League   3.468270\n",
      "441092    Joshua Kitolano          Buildup director      Eredivisie   2.912931\n",
      "96736     Íñigo Ruíz de Galarreta  Buildup director         La Liga   2.284035\n",
      "467779    Mats Wieffer             Buildup director      Eredivisie   2.044426\n",
      "                                  cluster_label     competition  playerank\n",
      "player_id full_name                                                       \n",
      "121599    Abdoulaye Doucouré  Roaming playmaker  Premier League   4.057276\n",
      "178974    Arno Verschueren    Roaming playmaker      Eredivisie   3.955407\n",
      "427148    Szymon Zurkowski    Roaming playmaker         Serie A   3.804626\n",
      "422078    Willum Willumsson   Roaming playmaker      Eredivisie   3.273617\n",
      "450063    Quinten Timber      Roaming playmaker      Eredivisie   3.170788\n",
      "                                   cluster_label     competition  playerank\n",
      "player_id full_name                                                        \n",
      "219168    Alexander Isak         Mobile finisher  Premier League   8.740374\n",
      "244855    Jude Bellingham        Mobile finisher         La Liga   8.271612\n",
      "199248    Borja Mayoral          Mobile finisher         La Liga   7.628569\n",
      "50165     Ricky van Wolfswinkel  Mobile finisher      Eredivisie   6.816065\n",
      "215145    Sam Lammers            Mobile finisher         Serie A   6.188773\n",
      "                                 cluster_label     competition  playerank\n",
      "player_id full_name                                                      \n",
      "78916     Dan Burn          First line breaker  Premier League   1.203535\n",
      "191866    Kristoffer Ajer   First line breaker  Premier League   1.131734\n",
      "588093    Niccolò Pierozzi  First line breaker         Serie A   1.043792\n",
      "220234    Joey Jacobs       First line breaker      Eredivisie   0.992601\n",
      "221632    Cristian Romero   First line breaker  Premier League   0.907195\n",
      "                             cluster_label competition  playerank\n",
      "player_id full_name                                              \n",
      "433957    Magnus Mattsson   Chance creator  Eredivisie   5.405561\n",
      "120638    Paulo Dybala      Chance creator     Serie A   5.006822\n",
      "219000    Mikel Oyarzabal   Chance creator     La Liga   4.955760\n",
      "116796    Domenico Berardi  Chance creator     Serie A   4.556105\n",
      "437780    Gianluca Gaetano  Chance creator     Serie A   4.555842\n",
      "                         cluster_label competition  playerank\n",
      "player_id full_name                                          \n",
      "53041     Luuk de Jong      Target man  Eredivisie   8.436229\n",
      "441441    Jizz Hornkamp     Target man  Eredivisie   6.833841\n",
      "225479    Dusan Vlahovic    Target man     Serie A   5.704125\n",
      "94273     Ante Budimir      Target man     La Liga   5.545988\n",
      "88482     Álvaro Morata     Target man     La Liga   5.315735\n",
      "                                  cluster_label     competition  playerank\n",
      "player_id full_name                                                       \n",
      "178186    Jarrod Bowen      One-to-one explorer  Premier League   6.694888\n",
      "244851    Cole Palmer       One-to-one explorer  Premier League   6.271904\n",
      "118748    Mohamed Salah     One-to-one explorer  Premier League   4.229316\n",
      "224444    Ferran Torres     One-to-one explorer         La Liga   4.047281\n",
      "116216    Leandro Trossard  One-to-one explorer  Premier League   3.835212\n",
      "                                  cluster_label     competition  playerank\n",
      "player_id full_name                                                       \n",
      "212690    Vangelis Pavlidis  All-round finisher      Eredivisie   9.146347\n",
      "209737    Lautaro Martínez   All-round finisher         Serie A   8.546492\n",
      "432234    Santiago Giménez   All-round finisher      Eredivisie   7.698179\n",
      "223094    Erling Haaland     All-round finisher  Premier League   7.567882\n",
      "441264    Brian Brobbey      All-round finisher      Eredivisie   7.316518\n",
      "                               cluster_label     competition  playerank\n",
      "player_id full_name                                                    \n",
      "151086    Mario Lemina          Ball stealer  Premier League   1.606761\n",
      "152551    Jefferson Lerma       Ball stealer  Premier League   1.522699\n",
      "246074    Melle Meulensteen     Ball stealer      Eredivisie   1.391284\n",
      "437742    Albert Sambi Lokonga  Ball stealer  Premier League   1.310472\n",
      "211975    Manuel Akanji         Ball stealer  Premier League   1.166593\n"
     ]
    }
   ],
   "source": [
    "for cluster in ranking.cluster_label.unique():\n",
    "    print(ranking[ranking.cluster_label == cluster].sort_values(by='playerank', ascending=False).head(5))"
   ]
  },
  {
   "cell_type": "code",
   "execution_count": 349,
   "metadata": {},
   "outputs": [
    {
     "data": {
      "text/html": [
       "<div>\n",
       "<style scoped>\n",
       "    .dataframe tbody tr th:only-of-type {\n",
       "        vertical-align: middle;\n",
       "    }\n",
       "\n",
       "    .dataframe tbody tr th {\n",
       "        vertical-align: top;\n",
       "    }\n",
       "\n",
       "    .dataframe thead th {\n",
       "        text-align: right;\n",
       "    }\n",
       "</style>\n",
       "<table border=\"1\" class=\"dataframe\">\n",
       "  <thead>\n",
       "    <tr style=\"text-align: right;\">\n",
       "      <th></th>\n",
       "      <th></th>\n",
       "      <th>cluster_label</th>\n",
       "      <th>competition</th>\n",
       "      <th>mins_played</th>\n",
       "      <th>playerank</th>\n",
       "    </tr>\n",
       "    <tr>\n",
       "      <th>player_id</th>\n",
       "      <th>full_name</th>\n",
       "      <th></th>\n",
       "      <th></th>\n",
       "      <th></th>\n",
       "      <th></th>\n",
       "    </tr>\n",
       "  </thead>\n",
       "  <tbody>\n",
       "    <tr>\n",
       "      <th>209737</th>\n",
       "      <th>Lautaro Martínez</th>\n",
       "      <td>All-round finisher</td>\n",
       "      <td>Serie A</td>\n",
       "      <td>5048.0</td>\n",
       "      <td>8.546492</td>\n",
       "    </tr>\n",
       "    <tr>\n",
       "      <th>218329</th>\n",
       "      <th>Victor Osimhen</th>\n",
       "      <td>All-round finisher</td>\n",
       "      <td>Serie A</td>\n",
       "      <td>4327.0</td>\n",
       "      <td>6.824948</td>\n",
       "    </tr>\n",
       "    <tr>\n",
       "      <th>215145</th>\n",
       "      <th>Sam Lammers</th>\n",
       "      <td>Mobile finisher</td>\n",
       "      <td>Serie A</td>\n",
       "      <td>3342.0</td>\n",
       "      <td>6.188773</td>\n",
       "    </tr>\n",
       "    <tr>\n",
       "      <th>225479</th>\n",
       "      <th>Dusan Vlahovic</th>\n",
       "      <td>Target man</td>\n",
       "      <td>Serie A</td>\n",
       "      <td>3988.0</td>\n",
       "      <td>5.704125</td>\n",
       "    </tr>\n",
       "    <tr>\n",
       "      <th>195899</th>\n",
       "      <th>Gianluca Scamacca</th>\n",
       "      <td>Mobile finisher</td>\n",
       "      <td>Serie A</td>\n",
       "      <td>2105.0</td>\n",
       "      <td>5.183011</td>\n",
       "    </tr>\n",
       "    <tr>\n",
       "      <th>458249</th>\n",
       "      <th>Joshua Zirkzee</th>\n",
       "      <td>Mobile finisher</td>\n",
       "      <td>Serie A</td>\n",
       "      <td>3387.0</td>\n",
       "      <td>5.167730</td>\n",
       "    </tr>\n",
       "    <tr>\n",
       "      <th>120638</th>\n",
       "      <th>Paulo Dybala</th>\n",
       "      <td>Chance creator</td>\n",
       "      <td>Serie A</td>\n",
       "      <td>3436.0</td>\n",
       "      <td>5.006822</td>\n",
       "    </tr>\n",
       "    <tr>\n",
       "      <th>44346</th>\n",
       "      <th>Olivier Giroud</th>\n",
       "      <td>Target man</td>\n",
       "      <td>Serie A</td>\n",
       "      <td>4291.0</td>\n",
       "      <td>4.815105</td>\n",
       "    </tr>\n",
       "    <tr>\n",
       "      <th>103086</th>\n",
       "      <th>Duván Zapata</th>\n",
       "      <td>All-round finisher</td>\n",
       "      <td>Serie A</td>\n",
       "      <td>3967.0</td>\n",
       "      <td>4.771592</td>\n",
       "    </tr>\n",
       "    <tr>\n",
       "      <th>116796</th>\n",
       "      <th>Domenico Berardi</th>\n",
       "      <td>Chance creator</td>\n",
       "      <td>Serie A</td>\n",
       "      <td>3443.0</td>\n",
       "      <td>4.556105</td>\n",
       "    </tr>\n",
       "    <tr>\n",
       "      <th>437780</th>\n",
       "      <th>Gianluca Gaetano</th>\n",
       "      <td>Chance creator</td>\n",
       "      <td>Serie A</td>\n",
       "      <td>490.0</td>\n",
       "      <td>4.555842</td>\n",
       "    </tr>\n",
       "    <tr>\n",
       "      <th>96764</th>\n",
       "      <th>M'Baye Niang</th>\n",
       "      <td>All-round finisher</td>\n",
       "      <td>Serie A</td>\n",
       "      <td>415.0</td>\n",
       "      <td>4.415745</td>\n",
       "    </tr>\n",
       "    <tr>\n",
       "      <th>205880</th>\n",
       "      <th>Marcus Thuram</th>\n",
       "      <td>All-round finisher</td>\n",
       "      <td>Serie A</td>\n",
       "      <td>2334.0</td>\n",
       "      <td>4.399479</td>\n",
       "    </tr>\n",
       "    <tr>\n",
       "      <th>544865</th>\n",
       "      <th>Tijjani Noslin</th>\n",
       "      <td>Mobile finisher</td>\n",
       "      <td>Serie A</td>\n",
       "      <td>3532.0</td>\n",
       "      <td>4.368877</td>\n",
       "    </tr>\n",
       "    <tr>\n",
       "      <th>231004</th>\n",
       "      <th>Nicolás González</th>\n",
       "      <td>Mobile finisher</td>\n",
       "      <td>Serie A</td>\n",
       "      <td>3032.0</td>\n",
       "      <td>4.283372</td>\n",
       "    </tr>\n",
       "    <tr>\n",
       "      <th>66749</th>\n",
       "      <th>Romelu Lukaku</th>\n",
       "      <td>All-round finisher</td>\n",
       "      <td>Serie A</td>\n",
       "      <td>4188.0</td>\n",
       "      <td>4.221724</td>\n",
       "    </tr>\n",
       "    <tr>\n",
       "      <th>215147</th>\n",
       "      <th>Albert Gudmundsson</th>\n",
       "      <td>Chance creator</td>\n",
       "      <td>Serie A</td>\n",
       "      <td>2837.0</td>\n",
       "      <td>4.207428</td>\n",
       "    </tr>\n",
       "    <tr>\n",
       "      <th>204644</th>\n",
       "      <th>Teun Koopmeiners</th>\n",
       "      <td>Chance creator</td>\n",
       "      <td>Serie A</td>\n",
       "      <td>5402.0</td>\n",
       "      <td>3.994684</td>\n",
       "    </tr>\n",
       "    <tr>\n",
       "      <th>216040</th>\n",
       "      <th>Andrea Pinamonti</th>\n",
       "      <td>Target man</td>\n",
       "      <td>Serie A</td>\n",
       "      <td>4909.0</td>\n",
       "      <td>3.925324</td>\n",
       "    </tr>\n",
       "    <tr>\n",
       "      <th>497894</th>\n",
       "      <th>Rasmus Højlund</th>\n",
       "      <td>Mobile finisher</td>\n",
       "      <td>Serie A</td>\n",
       "      <td>3736.0</td>\n",
       "      <td>3.909762</td>\n",
       "    </tr>\n",
       "    <tr>\n",
       "      <th>448040</th>\n",
       "      <th>Lucas Beltrán</th>\n",
       "      <td>Mobile finisher</td>\n",
       "      <td>Serie A</td>\n",
       "      <td>1499.0</td>\n",
       "      <td>3.819883</td>\n",
       "    </tr>\n",
       "    <tr>\n",
       "      <th>427148</th>\n",
       "      <th>Szymon Zurkowski</th>\n",
       "      <td>Roaming playmaker</td>\n",
       "      <td>Serie A</td>\n",
       "      <td>1279.0</td>\n",
       "      <td>3.804626</td>\n",
       "    </tr>\n",
       "    <tr>\n",
       "      <th>126187</th>\n",
       "      <th>Ruben Loftus-Cheek</th>\n",
       "      <td>Mobile finisher</td>\n",
       "      <td>Serie A</td>\n",
       "      <td>3580.0</td>\n",
       "      <td>3.614942</td>\n",
       "    </tr>\n",
       "    <tr>\n",
       "      <th>435997</th>\n",
       "      <th>Noah Okafor</th>\n",
       "      <td>Mobile finisher</td>\n",
       "      <td>Serie A</td>\n",
       "      <td>715.0</td>\n",
       "      <td>3.474198</td>\n",
       "    </tr>\n",
       "    <tr>\n",
       "      <th>441463</th>\n",
       "      <th>Mateo Retegui</th>\n",
       "      <td>Target man</td>\n",
       "      <td>Serie A</td>\n",
       "      <td>1840.0</td>\n",
       "      <td>3.324734</td>\n",
       "    </tr>\n",
       "    <tr>\n",
       "      <th>468488</th>\n",
       "      <th>Boulaye Dia</th>\n",
       "      <td>Mobile finisher</td>\n",
       "      <td>Serie A</td>\n",
       "      <td>3819.0</td>\n",
       "      <td>3.270103</td>\n",
       "    </tr>\n",
       "    <tr>\n",
       "      <th>184441</th>\n",
       "      <th>Lorenzo Pellegrini</th>\n",
       "      <td>Chance creator</td>\n",
       "      <td>Serie A</td>\n",
       "      <td>4120.0</td>\n",
       "      <td>3.220080</td>\n",
       "    </tr>\n",
       "    <tr>\n",
       "      <th>469130</th>\n",
       "      <th>Lorenzo Lucca</th>\n",
       "      <td>Target man</td>\n",
       "      <td>Serie A</td>\n",
       "      <td>2111.0</td>\n",
       "      <td>3.100531</td>\n",
       "    </tr>\n",
       "    <tr>\n",
       "      <th>439492</th>\n",
       "      <th>Lewis Ferguson</th>\n",
       "      <td>Roaming playmaker</td>\n",
       "      <td>Serie A</td>\n",
       "      <td>5294.0</td>\n",
       "      <td>3.090870</td>\n",
       "    </tr>\n",
       "    <tr>\n",
       "      <th>59046</th>\n",
       "      <th>Ciro Immobile</th>\n",
       "      <td>All-round finisher</td>\n",
       "      <td>Serie A</td>\n",
       "      <td>3863.0</td>\n",
       "      <td>3.069033</td>\n",
       "    </tr>\n",
       "    <tr>\n",
       "      <th>168598</th>\n",
       "      <th>Antonio Sanabria</th>\n",
       "      <td>Mobile finisher</td>\n",
       "      <td>Serie A</td>\n",
       "      <td>4443.0</td>\n",
       "      <td>3.060116</td>\n",
       "    </tr>\n",
       "    <tr>\n",
       "      <th>49417</th>\n",
       "      <th>Giacomo Bonaventura</th>\n",
       "      <td>Chance creator</td>\n",
       "      <td>Serie A</td>\n",
       "      <td>4146.0</td>\n",
       "      <td>2.921014</td>\n",
       "    </tr>\n",
       "    <tr>\n",
       "      <th>445043</th>\n",
       "      <th>Kristian Thorstvedt</th>\n",
       "      <td>Roaming playmaker</td>\n",
       "      <td>Serie A</td>\n",
       "      <td>3161.0</td>\n",
       "      <td>2.852263</td>\n",
       "    </tr>\n",
       "    <tr>\n",
       "      <th>233723</th>\n",
       "      <th>Nikola Krstovic</th>\n",
       "      <td>Target man</td>\n",
       "      <td>Serie A</td>\n",
       "      <td>1929.0</td>\n",
       "      <td>2.701654</td>\n",
       "    </tr>\n",
       "    <tr>\n",
       "      <th>120743</th>\n",
       "      <th>Adrien Rabiot</th>\n",
       "      <td>Roaming playmaker</td>\n",
       "      <td>Serie A</td>\n",
       "      <td>5287.0</td>\n",
       "      <td>2.685859</td>\n",
       "    </tr>\n",
       "    <tr>\n",
       "      <th>219352</th>\n",
       "      <th>Ademola Lookman</th>\n",
       "      <td>One-to-one explorer</td>\n",
       "      <td>Serie A</td>\n",
       "      <td>3231.0</td>\n",
       "      <td>2.681681</td>\n",
       "    </tr>\n",
       "    <tr>\n",
       "      <th>440668</th>\n",
       "      <th>Khvicha Kvaratskhelia</th>\n",
       "      <td>One-to-one explorer</td>\n",
       "      <td>Serie A</td>\n",
       "      <td>5002.0</td>\n",
       "      <td>2.672601</td>\n",
       "    </tr>\n",
       "    <tr>\n",
       "      <th>247050</th>\n",
       "      <th>Michael Folorunsho</th>\n",
       "      <td>Roaming playmaker</td>\n",
       "      <td>Serie A</td>\n",
       "      <td>2572.0</td>\n",
       "      <td>2.663156</td>\n",
       "    </tr>\n",
       "    <tr>\n",
       "      <th>49203</th>\n",
       "      <th>Milan Djuric</th>\n",
       "      <td>Target man</td>\n",
       "      <td>Serie A</td>\n",
       "      <td>3500.0</td>\n",
       "      <td>2.655323</td>\n",
       "    </tr>\n",
       "    <tr>\n",
       "      <th>152905</th>\n",
       "      <th>Caleb Ekuban</th>\n",
       "      <td>Mobile finisher</td>\n",
       "      <td>Serie A</td>\n",
       "      <td>853.0</td>\n",
       "      <td>2.614247</td>\n",
       "    </tr>\n",
       "  </tbody>\n",
       "</table>\n",
       "</div>"
      ],
      "text/plain": [
       "                                       cluster_label competition  mins_played  \\\n",
       "player_id full_name                                                             \n",
       "209737    Lautaro Martínez        All-round finisher     Serie A       5048.0   \n",
       "218329    Victor Osimhen          All-round finisher     Serie A       4327.0   \n",
       "215145    Sam Lammers                Mobile finisher     Serie A       3342.0   \n",
       "225479    Dusan Vlahovic                  Target man     Serie A       3988.0   \n",
       "195899    Gianluca Scamacca          Mobile finisher     Serie A       2105.0   \n",
       "458249    Joshua Zirkzee             Mobile finisher     Serie A       3387.0   \n",
       "120638    Paulo Dybala                Chance creator     Serie A       3436.0   \n",
       "44346     Olivier Giroud                  Target man     Serie A       4291.0   \n",
       "103086    Duván Zapata            All-round finisher     Serie A       3967.0   \n",
       "116796    Domenico Berardi            Chance creator     Serie A       3443.0   \n",
       "437780    Gianluca Gaetano            Chance creator     Serie A        490.0   \n",
       "96764     M'Baye Niang            All-round finisher     Serie A        415.0   \n",
       "205880    Marcus Thuram           All-round finisher     Serie A       2334.0   \n",
       "544865    Tijjani Noslin             Mobile finisher     Serie A       3532.0   \n",
       "231004    Nicolás González           Mobile finisher     Serie A       3032.0   \n",
       "66749     Romelu Lukaku           All-round finisher     Serie A       4188.0   \n",
       "215147    Albert Gudmundsson          Chance creator     Serie A       2837.0   \n",
       "204644    Teun Koopmeiners            Chance creator     Serie A       5402.0   \n",
       "216040    Andrea Pinamonti                Target man     Serie A       4909.0   \n",
       "497894    Rasmus Højlund             Mobile finisher     Serie A       3736.0   \n",
       "448040    Lucas Beltrán              Mobile finisher     Serie A       1499.0   \n",
       "427148    Szymon Zurkowski         Roaming playmaker     Serie A       1279.0   \n",
       "126187    Ruben Loftus-Cheek         Mobile finisher     Serie A       3580.0   \n",
       "435997    Noah Okafor                Mobile finisher     Serie A        715.0   \n",
       "441463    Mateo Retegui                   Target man     Serie A       1840.0   \n",
       "468488    Boulaye Dia                Mobile finisher     Serie A       3819.0   \n",
       "184441    Lorenzo Pellegrini          Chance creator     Serie A       4120.0   \n",
       "469130    Lorenzo Lucca                   Target man     Serie A       2111.0   \n",
       "439492    Lewis Ferguson           Roaming playmaker     Serie A       5294.0   \n",
       "59046     Ciro Immobile           All-round finisher     Serie A       3863.0   \n",
       "168598    Antonio Sanabria           Mobile finisher     Serie A       4443.0   \n",
       "49417     Giacomo Bonaventura         Chance creator     Serie A       4146.0   \n",
       "445043    Kristian Thorstvedt      Roaming playmaker     Serie A       3161.0   \n",
       "233723    Nikola Krstovic                 Target man     Serie A       1929.0   \n",
       "120743    Adrien Rabiot            Roaming playmaker     Serie A       5287.0   \n",
       "219352    Ademola Lookman        One-to-one explorer     Serie A       3231.0   \n",
       "440668    Khvicha Kvaratskhelia  One-to-one explorer     Serie A       5002.0   \n",
       "247050    Michael Folorunsho       Roaming playmaker     Serie A       2572.0   \n",
       "49203     Milan Djuric                    Target man     Serie A       3500.0   \n",
       "152905    Caleb Ekuban               Mobile finisher     Serie A        853.0   \n",
       "\n",
       "                                 playerank  \n",
       "player_id full_name                         \n",
       "209737    Lautaro Martínez        8.546492  \n",
       "218329    Victor Osimhen          6.824948  \n",
       "215145    Sam Lammers             6.188773  \n",
       "225479    Dusan Vlahovic          5.704125  \n",
       "195899    Gianluca Scamacca       5.183011  \n",
       "458249    Joshua Zirkzee          5.167730  \n",
       "120638    Paulo Dybala            5.006822  \n",
       "44346     Olivier Giroud          4.815105  \n",
       "103086    Duván Zapata            4.771592  \n",
       "116796    Domenico Berardi        4.556105  \n",
       "437780    Gianluca Gaetano        4.555842  \n",
       "96764     M'Baye Niang            4.415745  \n",
       "205880    Marcus Thuram           4.399479  \n",
       "544865    Tijjani Noslin          4.368877  \n",
       "231004    Nicolás González        4.283372  \n",
       "66749     Romelu Lukaku           4.221724  \n",
       "215147    Albert Gudmundsson      4.207428  \n",
       "204644    Teun Koopmeiners        3.994684  \n",
       "216040    Andrea Pinamonti        3.925324  \n",
       "497894    Rasmus Højlund          3.909762  \n",
       "448040    Lucas Beltrán           3.819883  \n",
       "427148    Szymon Zurkowski        3.804626  \n",
       "126187    Ruben Loftus-Cheek      3.614942  \n",
       "435997    Noah Okafor             3.474198  \n",
       "441463    Mateo Retegui           3.324734  \n",
       "468488    Boulaye Dia             3.270103  \n",
       "184441    Lorenzo Pellegrini      3.220080  \n",
       "469130    Lorenzo Lucca           3.100531  \n",
       "439492    Lewis Ferguson          3.090870  \n",
       "59046     Ciro Immobile           3.069033  \n",
       "168598    Antonio Sanabria        3.060116  \n",
       "49417     Giacomo Bonaventura     2.921014  \n",
       "445043    Kristian Thorstvedt     2.852263  \n",
       "233723    Nikola Krstovic         2.701654  \n",
       "120743    Adrien Rabiot           2.685859  \n",
       "219352    Ademola Lookman         2.681681  \n",
       "440668    Khvicha Kvaratskhelia   2.672601  \n",
       "247050    Michael Folorunsho      2.663156  \n",
       "49203     Milan Djuric            2.655323  \n",
       "152905    Caleb Ekuban            2.614247  "
      ]
     },
     "execution_count": 349,
     "metadata": {},
     "output_type": "execute_result"
    }
   ],
   "source": [
    "ranking[ranking['competition'] == 'Serie A'].sort_values(by='playerank', ascending=False).head(40)"
   ]
  }
 ],
 "metadata": {
  "kernelspec": {
   "display_name": "Python 3",
   "language": "python",
   "name": "python3"
  },
  "language_info": {
   "codemirror_mode": {
    "name": "ipython",
    "version": 3
   },
   "file_extension": ".py",
   "mimetype": "text/x-python",
   "name": "python",
   "nbconvert_exporter": "python",
   "pygments_lexer": "ipython3",
   "version": "3.11.5"
  }
 },
 "nbformat": 4,
 "nbformat_minor": 2
}
