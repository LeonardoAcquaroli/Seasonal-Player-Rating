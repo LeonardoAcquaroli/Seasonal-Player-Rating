{
 "cells": [
  {
   "cell_type": "code",
   "execution_count": 12,
   "metadata": {},
   "outputs": [],
   "source": [
    "from functions import *\n",
    "\n",
    "# Models\n",
    "from sklearn import svm\n",
    "from sklearn.linear_model import LogisticRegression\n",
    "import pickle\n",
    "\n",
    "# Data\n",
    "import pandas as pd\n",
    "import numpy as np\n",
    "\n",
    "# Dataviz\n",
    "import plotly.express as px\n",
    "\n",
    "# ML\n",
    "from sklearn.model_selection import train_test_split, cross_val_score\n",
    "from sklearn.metrics import accuracy_score, classification_report, confusion_matrix\n",
    "from sklearn.preprocessing import StandardScaler"
   ]
  },
  {
   "cell_type": "code",
   "execution_count": 13,
   "metadata": {},
   "outputs": [],
   "source": [
    "dataset_with_goals_and_assists = pd.read_feather(\"dataset_with_goals_and_assists.feather\")\n",
    "# dataset = dataset_with_goals_and_assists.drop(['goals', 'goal_assist'], axis=1)\n",
    "dataset = dataset_with_goals_and_assists"
   ]
  },
  {
   "cell_type": "code",
   "execution_count": 14,
   "metadata": {},
   "outputs": [
    {
     "name": "stderr",
     "output_type": "stream",
     "text": [
      "c:\\Users\\leoac\\AppData\\Local\\Programs\\Python\\Python311\\Lib\\site-packages\\sklearn\\base.py:1152: UserWarning:\n",
      "\n",
      "With alpha=0, this algorithm does not converge well. You are advised to use the LinearRegression estimator\n",
      "\n",
      "c:\\Users\\leoac\\AppData\\Local\\Programs\\Python\\Python311\\Lib\\site-packages\\sklearn\\linear_model\\_coordinate_descent.py:628: UserWarning:\n",
      "\n",
      "Coordinate descent with no regularization may lead to unexpected results and is discouraged.\n",
      "\n",
      "c:\\Users\\leoac\\AppData\\Local\\Programs\\Python\\Python311\\Lib\\site-packages\\sklearn\\linear_model\\_coordinate_descent.py:628: ConvergenceWarning:\n",
      "\n",
      "Objective did not converge. You might want to increase the number of iterations, check the scale of the features or consider increasing regularisation. Duality gap: 2.315e+02, tolerance: 1.249e-01 Linear regression models with null weight for the l1 regularization term are more efficiently fitted using one of the solvers implemented in sklearn.linear_model.Ridge/RidgeCV instead.\n",
      "\n"
     ]
    }
   ],
   "source": [
    "selected_features = feature_selection(df=dataset, alpha=0).columns\n",
    "X = dataset[selected_features]\n",
    "y = dataset['win']"
   ]
  },
  {
   "cell_type": "code",
   "execution_count": 15,
   "metadata": {},
   "outputs": [],
   "source": [
    "X_train, X_test, y_train, y_test = train_test_split(X, y, test_size=0.2, random_state=42)\n",
    "\n",
    "std_scaler = StandardScaler()\n",
    "X_train_scaled = std_scaler.fit_transform(X_train)\n",
    "X_test_scaled = std_scaler.fit_transform(X_test)"
   ]
  },
  {
   "cell_type": "code",
   "execution_count": 16,
   "metadata": {},
   "outputs": [
    {
     "name": "stdout",
     "output_type": "stream",
     "text": [
      "Cross-validation scores: [1.         0.99882904 1.         1.         1.        ]\n",
      "Mean cross-validation score: 0.9997658079625292\n",
      "Accuracy on test set: 1.0\n",
      "              precision    recall  f1-score   support\n",
      "\n",
      "           0       1.00      1.00      1.00       674\n",
      "           1       1.00      1.00      1.00       393\n",
      "\n",
      "    accuracy                           1.00      1067\n",
      "   macro avg       1.00      1.00      1.00      1067\n",
      "weighted avg       1.00      1.00      1.00      1067\n",
      "\n",
      "[[674   0]\n",
      " [  0 393]]\n"
     ]
    }
   ],
   "source": [
    "# Create the Logistic Regression model\n",
    "LOG_clf = LogisticRegression(max_iter=1000)\n",
    "\n",
    "# Perform cross-validation\n",
    "# Here, we use 5-fold cross-validation, but you can adjust the number of folds as needed\n",
    "LOG_scores = cross_val_score(LOG_clf, X_train_scaled, y_train, cv=5, scoring='accuracy', n_jobs=8)\n",
    "\n",
    "# Print the cross-validation scores\n",
    "print(\"Cross-validation scores:\", LOG_scores)\n",
    "print(\"Mean cross-validation score:\", np.mean(LOG_scores))\n",
    "\n",
    "# Train the model on the entire training set\n",
    "LOG_clf.fit(X_train_scaled, y_train)\n",
    "\n",
    "# Evaluate the model on the test set\n",
    "LOG_pred = LOG_clf.predict(X_test_scaled)\n",
    "print(\"Accuracy on test set:\", accuracy_score(y_test, LOG_pred))\n",
    "print(classification_report(y_test, LOG_pred))\n",
    "print(confusion_matrix(y_test, LOG_pred))"
   ]
  },
  {
   "cell_type": "code",
   "execution_count": 54,
   "metadata": {},
   "outputs": [],
   "source": [
    "coefficients = LOG_clf.coef_[0]\n",
    "cbrt_coefficients = (np.cbrt(coefficients))\n",
    "features_weights = {col: coeff for col, coeff in zip(X, coefficients)}"
   ]
  },
  {
   "cell_type": "code",
   "execution_count": 55,
   "metadata": {},
   "outputs": [
    {
     "data": {
      "application/vnd.plotly.v1+json": {
       "config": {
        "plotlyServerURL": "https://plot.ly"
       },
       "data": [
        {
         "alignmentgroup": "True",
         "hovertemplate": "x=%{x}<br>y=%{y}<extra></extra>",
         "legendgroup": "",
         "marker": {
          "color": "#636efa",
          "pattern": {
           "shape": ""
          }
         },
         "name": "",
         "offsetgroup": "",
         "orientation": "v",
         "showlegend": false,
         "textposition": "auto",
         "type": "bar",
         "x": [
          "att_assist_openplay",
          "big_chance_missed",
          "lost_corners",
          "ontarget_att_assist",
          "penalty_conceded",
          "outfielder_block",
          "long_pass_own_to_opp_success",
          "error_lead_to_goal",
          "prog_carries",
          "att_assist_setplay",
          "dribbles",
          "total_chipped_pass",
          "accurate_throws",
          "xT_from_passes",
          "att_freekick_total",
          "put_through",
          "xT",
          "aerial_lost",
          "touches_buildup_third",
          "total_fastbreak",
          "through_balls_received",
          "freekick_cross",
          "crosses_18yardplus",
          "total_flick_on",
          "corner_taken",
          "final_third_entries",
          "shot_off_target",
          "attempts_obox",
          "total_back_zone_pass",
          "dribbles_widest_third",
          "total_sub_off",
          "rescinded_red_card",
          "effective_blocked_cross",
          "blocked_cross",
          "total_final_third_passes",
          "op_ibox_shots",
          "touches",
          "offensive_aerials",
          "xT_from_carries",
          "aerial_won",
          "red_card",
          "opxA_cross",
          "touches_defensive_third",
          "progressive_passes",
          "total_tackle",
          "accurate_cross",
          "total_cross",
          "accurate_corners_intobox",
          "cutbacks_received",
          "poss_lost_ctrl",
          "poss_lost_all",
          "blocked_scoring_att",
          "total_switches",
          "accurate_back_zone_pass",
          "total_cross_nocorner",
          "total_att_assist",
          "successful_fifty_fifty",
          "pen_area_entries",
          "total_corners_intobox",
          "total_progressive_switches",
          "poss_won_att_3rd",
          "yellow_card",
          "att_freekick_miss",
          "total_long_balls",
          "total_sub_on",
          "hit_woodwork",
          "touches_in_opp_box",
          "foul_throw_in",
          "att_freekick_target",
          "accurate_freekick_cross",
          "poss_won_mid_3rd",
          "triangulations_closed",
          "triangulations_made",
          "penalty_won",
          "progressive_successful_switches",
          "xg_blocked",
          "accurate_layoffs",
          "op_six_yard_shots",
          "att_corner",
          "interceptions_in_box",
          "fouls",
          "opxA",
          "total_pass",
          "ball_recovery",
          "dispossessed",
          "won_tackle",
          "carries",
          "att_freekick_post",
          "hand_ball",
          "successful_final_third_passes",
          "last_man_tackle",
          "won_corners",
          "xG_setpieces_for",
          "accurate_pass",
          "six_yard_block",
          "shield_ball_oop",
          "accurate_long_balls",
          "total_layoffs",
          "successful_put_through",
          "poss_won_def_3rd",
          "defensive_aerials",
          "total_pull_back",
          "xT_from_passes_received",
          "attempted_tackle_foul",
          "gpi",
          "total_through_ball",
          "accurate_pull_back",
          "unsuccessful_touch",
          "turnover",
          "interception",
          "interception_won",
          "accurate_fwd_zone_pass",
          "total_fwd_zone_pass",
          "accurate_flick_on",
          "duel_won",
          "att_setpiece",
          "clearance_off_line",
          "accurate_cross_nocorner",
          "overrun",
          "xA",
          "successful_switches",
          "fifty_fifty",
          "dangerous_play",
          "accurate_through_ball",
          "crosses_18yard",
          "effective_clearance",
          "total_clearance",
          "long_pass_own_to_opp",
          "op_obox_shots",
          "blocked_pass",
          "big_chance_created",
          "xA_received",
          "head_pass",
          "duel_lost",
          "open_play_pass",
          "accurate_launches",
          "was_fouled",
          "post_scoring_att",
          "total_launches",
          "att_fastbreak",
          "shot_fastbreak",
          "successful_open_play_pass",
          "times_tackled",
          "error_lead_to_shot",
          "assist_free_kick_won",
          "dribbles_final_third",
          "head_clearance",
          "effective_head_clearance",
          "own_goals",
          "offside_provoked",
          "defensive_actions_height",
          "total_throws",
          "fouled_final_third",
          "challenge_lost",
          "won_contest",
          "total_scoring_att",
          "prog_carries_final_third",
          "xOVA",
          "total_offside",
          "tackles_out_def_third",
          "assist_post",
          "npxG",
          "touches_attack_third",
          "total_contest",
          "xg_against_team",
          "assist_handball_won",
          "opxG",
          "accurate_chipped_pass",
          "backward_pass",
          "assist_pass_lost",
          "offtarget_att_assist",
          "attempts_ibox",
          "att_freekick_goal",
          "SGA",
          "fwd_pass",
          "assist_penalty_won",
          "assist_blocked_shot",
          "assist_attempt_saved",
          "xG",
          "xGoT",
          "ontarget_scoring_att",
          "goal_assist",
          "goals"
         ],
         "xaxis": "x",
         "y": [
          -0.8066396201290345,
          -0.6759223644034866,
          -0.668518666386861,
          -0.6643680506558306,
          -0.6373365423368114,
          -0.6344710859512561,
          -0.6064138954274756,
          -0.5977024283689294,
          -0.5818303935053011,
          -0.5567566932874152,
          -0.5552525569638674,
          -0.5249686804630538,
          -0.5148413062391402,
          -0.5024982078507617,
          -0.5015147958184392,
          -0.5004310911554453,
          -0.49080290655825265,
          -0.4886894852526149,
          -0.48080836535177174,
          -0.4793869729719903,
          -0.4755992079503832,
          -0.47503190606889434,
          -0.4683595029668173,
          -0.46062623389568214,
          -0.4509107808213445,
          -0.44707779295438144,
          -0.44273242119160056,
          -0.4348907740573633,
          -0.4346186087519294,
          -0.42868153581680957,
          -0.4256752009718683,
          -0.4170442929491506,
          -0.4148042286607443,
          -0.4148042286607443,
          -0.413365771860164,
          -0.41140458832187254,
          -0.4082896064434649,
          -0.4024915012080868,
          -0.3997366445924986,
          -0.3978548621818089,
          -0.39781558693154295,
          -0.3922075088663477,
          -0.3917743911624142,
          -0.3900934055130902,
          -0.3865235092590768,
          -0.3842198473733764,
          -0.3819264257294208,
          -0.36861142518382994,
          -0.3465840956937779,
          -0.33287782908879127,
          -0.33287782908879127,
          -0.32717814158506026,
          -0.32703204209778103,
          -0.32409779543837997,
          -0.3231108459627379,
          -0.31911422588849336,
          -0.3110240291382576,
          -0.3099850854845585,
          -0.30880093693478083,
          -0.3038044786416738,
          -0.3024150339271273,
          -0.29376381324363177,
          -0.2907640644211535,
          -0.2907373959988781,
          -0.2891791591498373,
          -0.28907974144815346,
          -0.2856449713781206,
          -0.2760788092112261,
          -0.27046640049070525,
          -0.2685233309812226,
          -0.2660376720025961,
          -0.2538766504274206,
          -0.2538660502818232,
          -0.2512536385529694,
          -0.24484345671535424,
          -0.23319989817537773,
          -0.22745186565111092,
          -0.21878650423976276,
          -0.21532777958377153,
          -0.20062288210829982,
          -0.19711635363503724,
          -0.18882890990548246,
          -0.1704602831076638,
          -0.14519622031348975,
          -0.14163635199701496,
          -0.10861518161440659,
          0.07611261549284738,
          0.09246100113011507,
          0.12771299053406543,
          0.13462540430822506,
          0.1375427871766997,
          0.20381838093647636,
          0.20980878044127468,
          0.22285253250218318,
          0.22858890292304102,
          0.23132865596715413,
          0.23305294561332293,
          0.24290882277965525,
          0.25615896926951454,
          0.25822823156433483,
          0.2584078005888016,
          0.27357209877750455,
          0.2914664741636651,
          0.2965315320782076,
          0.3001293557318001,
          0.3022056549152997,
          0.3094677066969961,
          0.3126312787228125,
          0.3126312787228125,
          0.3225762905896067,
          0.3225762905896067,
          0.32986778518083915,
          0.3313361858664443,
          0.3330753827040981,
          0.33500931965474745,
          0.34913926588346433,
          0.35359482738260184,
          0.35535570439662656,
          0.359792544245532,
          0.3604229624162962,
          0.3604643569474916,
          0.3611505432327602,
          0.36669142949051636,
          0.37023456012646166,
          0.37497964751172186,
          0.37733368367904374,
          0.37733368367904624,
          0.3794091005482543,
          0.38262377269335013,
          0.3838312431745571,
          0.38721436332129233,
          0.39240944165301334,
          0.39496153080996543,
          0.4148243185870716,
          0.4194429565148373,
          0.4196294077142742,
          0.42092443118011574,
          0.4224715557173494,
          0.44309844689637157,
          0.45737793989857156,
          0.45737793989857156,
          0.4583156395331479,
          0.45873688278293323,
          0.46254292687857224,
          0.46281849743305986,
          0.46604628861260594,
          0.47511773853811823,
          0.4751177385381189,
          0.47860735692761563,
          0.4787059163357995,
          0.48278618372522936,
          0.4834673723449309,
          0.4845809433426541,
          0.48753549720881534,
          0.4949656999975587,
          0.49880995731859845,
          0.5024459303690458,
          0.5192746307108631,
          0.5353759005702067,
          0.5362668554334447,
          0.5424083921711232,
          0.5429681583640438,
          0.5431360717743463,
          0.5458478748396727,
          0.5459937120607938,
          0.5483601973358263,
          0.5801231472963639,
          0.5912432387436775,
          0.593711235382567,
          0.6037236756694091,
          0.6053875402223872,
          0.6064735403756218,
          0.6132098839037341,
          0.6250996651589131,
          0.6358678724855545,
          0.6445622818232424,
          0.6574446151080025,
          0.6682689025838772,
          0.7186936484869382,
          0.7215640244575449,
          0.7426109489109636,
          1.238645343638232,
          2.263708043782317
         ],
         "yaxis": "y"
        }
       ],
       "layout": {
        "barmode": "relative",
        "legend": {
         "tracegroupgap": 0
        },
        "margin": {
         "t": 60
        },
        "template": {
         "data": {
          "bar": [
           {
            "error_x": {
             "color": "#2a3f5f"
            },
            "error_y": {
             "color": "#2a3f5f"
            },
            "marker": {
             "line": {
              "color": "#E5ECF6",
              "width": 0.5
             },
             "pattern": {
              "fillmode": "overlay",
              "size": 10,
              "solidity": 0.2
             }
            },
            "type": "bar"
           }
          ],
          "barpolar": [
           {
            "marker": {
             "line": {
              "color": "#E5ECF6",
              "width": 0.5
             },
             "pattern": {
              "fillmode": "overlay",
              "size": 10,
              "solidity": 0.2
             }
            },
            "type": "barpolar"
           }
          ],
          "carpet": [
           {
            "aaxis": {
             "endlinecolor": "#2a3f5f",
             "gridcolor": "white",
             "linecolor": "white",
             "minorgridcolor": "white",
             "startlinecolor": "#2a3f5f"
            },
            "baxis": {
             "endlinecolor": "#2a3f5f",
             "gridcolor": "white",
             "linecolor": "white",
             "minorgridcolor": "white",
             "startlinecolor": "#2a3f5f"
            },
            "type": "carpet"
           }
          ],
          "choropleth": [
           {
            "colorbar": {
             "outlinewidth": 0,
             "ticks": ""
            },
            "type": "choropleth"
           }
          ],
          "contour": [
           {
            "colorbar": {
             "outlinewidth": 0,
             "ticks": ""
            },
            "colorscale": [
             [
              0,
              "#0d0887"
             ],
             [
              0.1111111111111111,
              "#46039f"
             ],
             [
              0.2222222222222222,
              "#7201a8"
             ],
             [
              0.3333333333333333,
              "#9c179e"
             ],
             [
              0.4444444444444444,
              "#bd3786"
             ],
             [
              0.5555555555555556,
              "#d8576b"
             ],
             [
              0.6666666666666666,
              "#ed7953"
             ],
             [
              0.7777777777777778,
              "#fb9f3a"
             ],
             [
              0.8888888888888888,
              "#fdca26"
             ],
             [
              1,
              "#f0f921"
             ]
            ],
            "type": "contour"
           }
          ],
          "contourcarpet": [
           {
            "colorbar": {
             "outlinewidth": 0,
             "ticks": ""
            },
            "type": "contourcarpet"
           }
          ],
          "heatmap": [
           {
            "colorbar": {
             "outlinewidth": 0,
             "ticks": ""
            },
            "colorscale": [
             [
              0,
              "#0d0887"
             ],
             [
              0.1111111111111111,
              "#46039f"
             ],
             [
              0.2222222222222222,
              "#7201a8"
             ],
             [
              0.3333333333333333,
              "#9c179e"
             ],
             [
              0.4444444444444444,
              "#bd3786"
             ],
             [
              0.5555555555555556,
              "#d8576b"
             ],
             [
              0.6666666666666666,
              "#ed7953"
             ],
             [
              0.7777777777777778,
              "#fb9f3a"
             ],
             [
              0.8888888888888888,
              "#fdca26"
             ],
             [
              1,
              "#f0f921"
             ]
            ],
            "type": "heatmap"
           }
          ],
          "heatmapgl": [
           {
            "colorbar": {
             "outlinewidth": 0,
             "ticks": ""
            },
            "colorscale": [
             [
              0,
              "#0d0887"
             ],
             [
              0.1111111111111111,
              "#46039f"
             ],
             [
              0.2222222222222222,
              "#7201a8"
             ],
             [
              0.3333333333333333,
              "#9c179e"
             ],
             [
              0.4444444444444444,
              "#bd3786"
             ],
             [
              0.5555555555555556,
              "#d8576b"
             ],
             [
              0.6666666666666666,
              "#ed7953"
             ],
             [
              0.7777777777777778,
              "#fb9f3a"
             ],
             [
              0.8888888888888888,
              "#fdca26"
             ],
             [
              1,
              "#f0f921"
             ]
            ],
            "type": "heatmapgl"
           }
          ],
          "histogram": [
           {
            "marker": {
             "pattern": {
              "fillmode": "overlay",
              "size": 10,
              "solidity": 0.2
             }
            },
            "type": "histogram"
           }
          ],
          "histogram2d": [
           {
            "colorbar": {
             "outlinewidth": 0,
             "ticks": ""
            },
            "colorscale": [
             [
              0,
              "#0d0887"
             ],
             [
              0.1111111111111111,
              "#46039f"
             ],
             [
              0.2222222222222222,
              "#7201a8"
             ],
             [
              0.3333333333333333,
              "#9c179e"
             ],
             [
              0.4444444444444444,
              "#bd3786"
             ],
             [
              0.5555555555555556,
              "#d8576b"
             ],
             [
              0.6666666666666666,
              "#ed7953"
             ],
             [
              0.7777777777777778,
              "#fb9f3a"
             ],
             [
              0.8888888888888888,
              "#fdca26"
             ],
             [
              1,
              "#f0f921"
             ]
            ],
            "type": "histogram2d"
           }
          ],
          "histogram2dcontour": [
           {
            "colorbar": {
             "outlinewidth": 0,
             "ticks": ""
            },
            "colorscale": [
             [
              0,
              "#0d0887"
             ],
             [
              0.1111111111111111,
              "#46039f"
             ],
             [
              0.2222222222222222,
              "#7201a8"
             ],
             [
              0.3333333333333333,
              "#9c179e"
             ],
             [
              0.4444444444444444,
              "#bd3786"
             ],
             [
              0.5555555555555556,
              "#d8576b"
             ],
             [
              0.6666666666666666,
              "#ed7953"
             ],
             [
              0.7777777777777778,
              "#fb9f3a"
             ],
             [
              0.8888888888888888,
              "#fdca26"
             ],
             [
              1,
              "#f0f921"
             ]
            ],
            "type": "histogram2dcontour"
           }
          ],
          "mesh3d": [
           {
            "colorbar": {
             "outlinewidth": 0,
             "ticks": ""
            },
            "type": "mesh3d"
           }
          ],
          "parcoords": [
           {
            "line": {
             "colorbar": {
              "outlinewidth": 0,
              "ticks": ""
             }
            },
            "type": "parcoords"
           }
          ],
          "pie": [
           {
            "automargin": true,
            "type": "pie"
           }
          ],
          "scatter": [
           {
            "fillpattern": {
             "fillmode": "overlay",
             "size": 10,
             "solidity": 0.2
            },
            "type": "scatter"
           }
          ],
          "scatter3d": [
           {
            "line": {
             "colorbar": {
              "outlinewidth": 0,
              "ticks": ""
             }
            },
            "marker": {
             "colorbar": {
              "outlinewidth": 0,
              "ticks": ""
             }
            },
            "type": "scatter3d"
           }
          ],
          "scattercarpet": [
           {
            "marker": {
             "colorbar": {
              "outlinewidth": 0,
              "ticks": ""
             }
            },
            "type": "scattercarpet"
           }
          ],
          "scattergeo": [
           {
            "marker": {
             "colorbar": {
              "outlinewidth": 0,
              "ticks": ""
             }
            },
            "type": "scattergeo"
           }
          ],
          "scattergl": [
           {
            "marker": {
             "colorbar": {
              "outlinewidth": 0,
              "ticks": ""
             }
            },
            "type": "scattergl"
           }
          ],
          "scattermapbox": [
           {
            "marker": {
             "colorbar": {
              "outlinewidth": 0,
              "ticks": ""
             }
            },
            "type": "scattermapbox"
           }
          ],
          "scatterpolar": [
           {
            "marker": {
             "colorbar": {
              "outlinewidth": 0,
              "ticks": ""
             }
            },
            "type": "scatterpolar"
           }
          ],
          "scatterpolargl": [
           {
            "marker": {
             "colorbar": {
              "outlinewidth": 0,
              "ticks": ""
             }
            },
            "type": "scatterpolargl"
           }
          ],
          "scatterternary": [
           {
            "marker": {
             "colorbar": {
              "outlinewidth": 0,
              "ticks": ""
             }
            },
            "type": "scatterternary"
           }
          ],
          "surface": [
           {
            "colorbar": {
             "outlinewidth": 0,
             "ticks": ""
            },
            "colorscale": [
             [
              0,
              "#0d0887"
             ],
             [
              0.1111111111111111,
              "#46039f"
             ],
             [
              0.2222222222222222,
              "#7201a8"
             ],
             [
              0.3333333333333333,
              "#9c179e"
             ],
             [
              0.4444444444444444,
              "#bd3786"
             ],
             [
              0.5555555555555556,
              "#d8576b"
             ],
             [
              0.6666666666666666,
              "#ed7953"
             ],
             [
              0.7777777777777778,
              "#fb9f3a"
             ],
             [
              0.8888888888888888,
              "#fdca26"
             ],
             [
              1,
              "#f0f921"
             ]
            ],
            "type": "surface"
           }
          ],
          "table": [
           {
            "cells": {
             "fill": {
              "color": "#EBF0F8"
             },
             "line": {
              "color": "white"
             }
            },
            "header": {
             "fill": {
              "color": "#C8D4E3"
             },
             "line": {
              "color": "white"
             }
            },
            "type": "table"
           }
          ]
         },
         "layout": {
          "annotationdefaults": {
           "arrowcolor": "#2a3f5f",
           "arrowhead": 0,
           "arrowwidth": 1
          },
          "autotypenumbers": "strict",
          "coloraxis": {
           "colorbar": {
            "outlinewidth": 0,
            "ticks": ""
           }
          },
          "colorscale": {
           "diverging": [
            [
             0,
             "#8e0152"
            ],
            [
             0.1,
             "#c51b7d"
            ],
            [
             0.2,
             "#de77ae"
            ],
            [
             0.3,
             "#f1b6da"
            ],
            [
             0.4,
             "#fde0ef"
            ],
            [
             0.5,
             "#f7f7f7"
            ],
            [
             0.6,
             "#e6f5d0"
            ],
            [
             0.7,
             "#b8e186"
            ],
            [
             0.8,
             "#7fbc41"
            ],
            [
             0.9,
             "#4d9221"
            ],
            [
             1,
             "#276419"
            ]
           ],
           "sequential": [
            [
             0,
             "#0d0887"
            ],
            [
             0.1111111111111111,
             "#46039f"
            ],
            [
             0.2222222222222222,
             "#7201a8"
            ],
            [
             0.3333333333333333,
             "#9c179e"
            ],
            [
             0.4444444444444444,
             "#bd3786"
            ],
            [
             0.5555555555555556,
             "#d8576b"
            ],
            [
             0.6666666666666666,
             "#ed7953"
            ],
            [
             0.7777777777777778,
             "#fb9f3a"
            ],
            [
             0.8888888888888888,
             "#fdca26"
            ],
            [
             1,
             "#f0f921"
            ]
           ],
           "sequentialminus": [
            [
             0,
             "#0d0887"
            ],
            [
             0.1111111111111111,
             "#46039f"
            ],
            [
             0.2222222222222222,
             "#7201a8"
            ],
            [
             0.3333333333333333,
             "#9c179e"
            ],
            [
             0.4444444444444444,
             "#bd3786"
            ],
            [
             0.5555555555555556,
             "#d8576b"
            ],
            [
             0.6666666666666666,
             "#ed7953"
            ],
            [
             0.7777777777777778,
             "#fb9f3a"
            ],
            [
             0.8888888888888888,
             "#fdca26"
            ],
            [
             1,
             "#f0f921"
            ]
           ]
          },
          "colorway": [
           "#636efa",
           "#EF553B",
           "#00cc96",
           "#ab63fa",
           "#FFA15A",
           "#19d3f3",
           "#FF6692",
           "#B6E880",
           "#FF97FF",
           "#FECB52"
          ],
          "font": {
           "color": "#2a3f5f"
          },
          "geo": {
           "bgcolor": "white",
           "lakecolor": "white",
           "landcolor": "#E5ECF6",
           "showlakes": true,
           "showland": true,
           "subunitcolor": "white"
          },
          "hoverlabel": {
           "align": "left"
          },
          "hovermode": "closest",
          "mapbox": {
           "style": "light"
          },
          "paper_bgcolor": "white",
          "plot_bgcolor": "#E5ECF6",
          "polar": {
           "angularaxis": {
            "gridcolor": "white",
            "linecolor": "white",
            "ticks": ""
           },
           "bgcolor": "#E5ECF6",
           "radialaxis": {
            "gridcolor": "white",
            "linecolor": "white",
            "ticks": ""
           }
          },
          "scene": {
           "xaxis": {
            "backgroundcolor": "#E5ECF6",
            "gridcolor": "white",
            "gridwidth": 2,
            "linecolor": "white",
            "showbackground": true,
            "ticks": "",
            "zerolinecolor": "white"
           },
           "yaxis": {
            "backgroundcolor": "#E5ECF6",
            "gridcolor": "white",
            "gridwidth": 2,
            "linecolor": "white",
            "showbackground": true,
            "ticks": "",
            "zerolinecolor": "white"
           },
           "zaxis": {
            "backgroundcolor": "#E5ECF6",
            "gridcolor": "white",
            "gridwidth": 2,
            "linecolor": "white",
            "showbackground": true,
            "ticks": "",
            "zerolinecolor": "white"
           }
          },
          "shapedefaults": {
           "line": {
            "color": "#2a3f5f"
           }
          },
          "ternary": {
           "aaxis": {
            "gridcolor": "white",
            "linecolor": "white",
            "ticks": ""
           },
           "baxis": {
            "gridcolor": "white",
            "linecolor": "white",
            "ticks": ""
           },
           "bgcolor": "#E5ECF6",
           "caxis": {
            "gridcolor": "white",
            "linecolor": "white",
            "ticks": ""
           }
          },
          "title": {
           "x": 0.05
          },
          "xaxis": {
           "automargin": true,
           "gridcolor": "white",
           "linecolor": "white",
           "ticks": "",
           "title": {
            "standoff": 15
           },
           "zerolinecolor": "white",
           "zerolinewidth": 2
          },
          "yaxis": {
           "automargin": true,
           "gridcolor": "white",
           "linecolor": "white",
           "ticks": "",
           "title": {
            "standoff": 15
           },
           "zerolinecolor": "white",
           "zerolinewidth": 2
          }
         }
        },
        "xaxis": {
         "anchor": "y",
         "domain": [
          0,
          1
         ],
         "title": {
          "text": "x"
         }
        },
        "yaxis": {
         "anchor": "x",
         "domain": [
          0,
          1
         ],
         "title": {
          "text": "y"
         }
        }
       }
      }
     },
     "metadata": {},
     "output_type": "display_data"
    }
   ],
   "source": [
    "# Example column names, replace these with your actual column names\n",
    "column_names = X_train.columns\n",
    "\n",
    "# Ensure the lengths match\n",
    "assert len(coefficients) == len(column_names), \"Coefficients and column names must have the same length.\"\n",
    "\n",
    "# Sort coefficients and column names by the coefficients\n",
    "sorted_indices = np.argsort((cbrt_coefficients)) # scaled\n",
    "sorted_coefficients = cbrt_coefficients[sorted_indices] # scaled\n",
    "sorted_column_names = [column_names[i] for i in sorted_indices]\n",
    "\n",
    "# Plot using Plotly Express\n",
    "fig = px.bar(x=sorted_column_names, y=sorted_coefficients)\n",
    "fig.show()"
   ]
  },
  {
   "cell_type": "markdown",
   "metadata": {},
   "source": [
    "# Prediction"
   ]
  },
  {
   "cell_type": "code",
   "execution_count": 19,
   "metadata": {},
   "outputs": [],
   "source": [
    "players = pd.read_feather(r\"C:\\Users\\leoac\\OneDrive - Università degli Studi di Milano\\Unimi\\Subjects\\Labs\\Football analytics\\SPR - Project\\Seasonal-Player-Rating\\Project2-3 - match-seasonal index\\match_data.feather\")\n",
    "players['mins_played'] = players['end_minute'] - players['start_minute']\n",
    "# + ['goals', 'goal_assist'] at the end if you want to use them separatedly wrt the logistic\n",
    "# players_data = players[['competition','mins_played'] + ['player_id','game_id','team_id','team','season','full_name','cluster_label'] + list(selected_features) + ['goals', 'goal_assist']].fillna(0)\n",
    "players_data = players[['competition','mins_played'] + ['player_id','game_id','team_id','team','season','full_name','cluster_label'] + list(selected_features)].fillna(0)"
   ]
  },
  {
   "cell_type": "code",
   "execution_count": 20,
   "metadata": {},
   "outputs": [],
   "source": [
    "cluster_features_weights = get_cluster_features_weights(pd.read_feather(\"Project2-3 - match-seasonal index\\match_data.feather\"))\n",
    "cluster_features_weights = {cluster:\n",
    "                            {feature: cluster_features_weights[cluster][feature]\n",
    "                              for feature in features_weights.keys()}\n",
    "                                for cluster in cluster_features_weights.keys()}"
   ]
  },
  {
   "cell_type": "code",
   "execution_count": 21,
   "metadata": {},
   "outputs": [],
   "source": [
    "# def calculate_playerank(row: pd.DataFrame | pd.Series, features_weights: dict, cluster_features_weights: dict) -> float:\n",
    "\n",
    "#     # Get the cluster weights for the current player\n",
    "#     cluster = row['cluster_label'].values[0]\n",
    "#     cluster_weights = cluster_features_weights[cluster]\n",
    "#     # Usa alpha and beta as the same weights of xG and xA for goals and assists\n",
    "#     alpha = 1 \n",
    "#     beta = 0.2\n",
    "    \n",
    "#     # Calculate Goals and Assists\n",
    "#     goals = row['goals']\n",
    "#     assists = row['goal_assist']\n",
    "\n",
    "#     # Drop goals and assists\n",
    "#     row = row.drop(['goals', 'goal_assist'], axis=1)\n",
    "\n",
    "#     # Drop indicators\n",
    "#     row = row.drop(['player_id', 'game_id', 'team_id', 'team', 'season', 'full_name', 'cluster_label'] + ['competition','mins_played'], axis=1)\n",
    "    \n",
    "#     # Calculate playerank by summing the products\n",
    "#     playerank = (np.array(list(features_weights.values())) * np.array(list(cluster_weights.values())) * row.values).sum()\n",
    "#     # Add the weighted goals and assists values. Weights are chosen as the same weights of xG and xA cluster-wise\n",
    "#     playerank = playerank*(1-alpha-beta) + goals*alpha + assists*beta\n",
    "        \n",
    "#     return playerank"
   ]
  },
  {
   "cell_type": "code",
   "execution_count": 22,
   "metadata": {},
   "outputs": [],
   "source": [
    "def calculate_playerank(row: pd.DataFrame | pd.Series, features_weights: dict, cluster_features_weights: dict) -> float:\n",
    "\n",
    "    # Get the cluster weights for the current player\n",
    "    cluster = row['cluster_label'].values[0]\n",
    "    cluster_weights = cluster_features_weights[cluster]\n",
    "    # cluster_weights['goals'] = cluster_weights['goals'] * cluster_features_weights[cluster]['xG']\n",
    "    # cluster_weights['goal_assist'] = cluster_weights['goal_assist'] * cluster_features_weights[cluster]['xA']\n",
    "\n",
    "    # Drop indicators\n",
    "    row = row.drop(['player_id', 'game_id', 'team_id', 'team', 'season', 'full_name', 'cluster_label'] + ['competition','mins_played'], axis=1)\n",
    "    \n",
    "    # Calculate playerank by summing the products\n",
    "    playerank = (np.array(list(features_weights.values())) * np.array(list(cluster_weights.values())) * row.values).sum()\n",
    "\n",
    "    return playerank"
   ]
  },
  {
   "cell_type": "code",
   "execution_count": 23,
   "metadata": {},
   "outputs": [
    {
     "name": "stderr",
     "output_type": "stream",
     "text": [
      "C:\\Users\\leoac\\AppData\\Local\\Temp\\ipykernel_22952\\3753729960.py:1: DeprecationWarning:\n",
      "\n",
      "DataFrameGroupBy.apply operated on the grouping columns. This behavior is deprecated, and in a future version of pandas the grouping columns will be excluded from the operation. Either pass `include_groups=False` to exclude the groupings or explicitly select the grouping columns after groupby to silence this warning.\n",
      "\n"
     ]
    }
   ],
   "source": [
    "players_playerank = players_data[players_data['season'] == 2023].groupby(['player_id', 'game_id', 'team_id', 'team', 'season', 'full_name']).apply(lambda row: calculate_playerank(row, features_weights, cluster_features_weights))"
   ]
  },
  {
   "cell_type": "code",
   "execution_count": 24,
   "metadata": {},
   "outputs": [],
   "source": [
    "# Players and cluster\n",
    "player_cluster = players_data[['player_id', 'cluster_label', 'competition',]].groupby('player_id').last()\n",
    "# players and minutes played\n",
    "player_minutes = players_data[['player_id', 'mins_played','season']].groupby(['player_id', 'season']).sum().reset_index()\n",
    "# Merge clusters and minutes played\n",
    "player_cluster = pd.merge(player_cluster, player_minutes[player_minutes['season'] == 2023], right_on='player_id', left_on='player_id')\n",
    "player_cluster.set_index('player_id', inplace=True)\n",
    "# Create playerank series\n",
    "players_playerank_series = pd.Series(players_playerank.groupby(['player_id', 'full_name']).mean(), name='playerank')\n",
    "# Merge clusters, minutes and playerank\n",
    "ranking = pd.merge(player_cluster, players_playerank_series, right_on='player_id', left_index=True)"
   ]
  },
  {
   "cell_type": "code",
   "execution_count": 25,
   "metadata": {},
   "outputs": [
    {
     "data": {
      "text/html": [
       "<div>\n",
       "<style scoped>\n",
       "    .dataframe tbody tr th:only-of-type {\n",
       "        vertical-align: middle;\n",
       "    }\n",
       "\n",
       "    .dataframe tbody tr th {\n",
       "        vertical-align: top;\n",
       "    }\n",
       "\n",
       "    .dataframe thead th {\n",
       "        text-align: right;\n",
       "    }\n",
       "</style>\n",
       "<table border=\"1\" class=\"dataframe\">\n",
       "  <thead>\n",
       "    <tr style=\"text-align: right;\">\n",
       "      <th></th>\n",
       "      <th></th>\n",
       "      <th>cluster_label</th>\n",
       "      <th>competition</th>\n",
       "      <th>season</th>\n",
       "      <th>mins_played</th>\n",
       "      <th>playerank</th>\n",
       "    </tr>\n",
       "    <tr>\n",
       "      <th>player_id</th>\n",
       "      <th>full_name</th>\n",
       "      <th></th>\n",
       "      <th></th>\n",
       "      <th></th>\n",
       "      <th></th>\n",
       "      <th></th>\n",
       "    </tr>\n",
       "  </thead>\n",
       "  <tbody>\n",
       "    <tr>\n",
       "      <th>244855</th>\n",
       "      <th>Jude Bellingham</th>\n",
       "      <td>Mobile finisher</td>\n",
       "      <td>La Liga</td>\n",
       "      <td>2023</td>\n",
       "      <td>2143.0</td>\n",
       "      <td>11.360321</td>\n",
       "    </tr>\n",
       "    <tr>\n",
       "      <th>212690</th>\n",
       "      <th>Vangelis Pavlidis</th>\n",
       "      <td>All-round finisher</td>\n",
       "      <td>Eredivisie</td>\n",
       "      <td>2023</td>\n",
       "      <td>2782.0</td>\n",
       "      <td>10.506381</td>\n",
       "    </tr>\n",
       "    <tr>\n",
       "      <th>209737</th>\n",
       "      <th>Lautaro Martínez</th>\n",
       "      <td>All-round finisher</td>\n",
       "      <td>Serie A</td>\n",
       "      <td>2023</td>\n",
       "      <td>2361.0</td>\n",
       "      <td>9.840866</td>\n",
       "    </tr>\n",
       "    <tr>\n",
       "      <th>209244</th>\n",
       "      <th>Phil Foden</th>\n",
       "      <td>Chance creator</td>\n",
       "      <td>Premier League</td>\n",
       "      <td>2023</td>\n",
       "      <td>2597.0</td>\n",
       "      <td>9.594894</td>\n",
       "    </tr>\n",
       "    <tr>\n",
       "      <th>244851</th>\n",
       "      <th>Cole Palmer</th>\n",
       "      <td>One-to-one explorer</td>\n",
       "      <td>Premier League</td>\n",
       "      <td>2023</td>\n",
       "      <td>2186.0</td>\n",
       "      <td>9.459614</td>\n",
       "    </tr>\n",
       "    <tr>\n",
       "      <th>53041</th>\n",
       "      <th>Luuk de Jong</th>\n",
       "      <td>Target man</td>\n",
       "      <td>Eredivisie</td>\n",
       "      <td>2023</td>\n",
       "      <td>2480.0</td>\n",
       "      <td>9.380232</td>\n",
       "    </tr>\n",
       "    <tr>\n",
       "      <th>199248</th>\n",
       "      <th>Borja Mayoral</th>\n",
       "      <td>Mobile finisher</td>\n",
       "      <td>La Liga</td>\n",
       "      <td>2023</td>\n",
       "      <td>2243.0</td>\n",
       "      <td>9.294008</td>\n",
       "    </tr>\n",
       "    <tr>\n",
       "      <th>432234</th>\n",
       "      <th>Santiago Giménez</th>\n",
       "      <td>All-round finisher</td>\n",
       "      <td>Eredivisie</td>\n",
       "      <td>2023</td>\n",
       "      <td>2461.0</td>\n",
       "      <td>9.019867</td>\n",
       "    </tr>\n",
       "    <tr>\n",
       "      <th>178186</th>\n",
       "      <th>Jarrod Bowen</th>\n",
       "      <td>One-to-one explorer</td>\n",
       "      <td>Premier League</td>\n",
       "      <td>2023</td>\n",
       "      <td>2970.0</td>\n",
       "      <td>8.924275</td>\n",
       "    </tr>\n",
       "    <tr>\n",
       "      <th>441264</th>\n",
       "      <th>Brian Brobbey</th>\n",
       "      <td>All-round finisher</td>\n",
       "      <td>Eredivisie</td>\n",
       "      <td>2023</td>\n",
       "      <td>2186.0</td>\n",
       "      <td>8.694018</td>\n",
       "    </tr>\n",
       "    <tr>\n",
       "      <th>223094</th>\n",
       "      <th>Erling Haaland</th>\n",
       "      <td>All-round finisher</td>\n",
       "      <td>Premier League</td>\n",
       "      <td>2023</td>\n",
       "      <td>2337.0</td>\n",
       "      <td>8.686030</td>\n",
       "    </tr>\n",
       "    <tr>\n",
       "      <th>439492</th>\n",
       "      <th>Lewis Ferguson</th>\n",
       "      <td>Roaming playmaker</td>\n",
       "      <td>Serie A</td>\n",
       "      <td>2023</td>\n",
       "      <td>2882.0</td>\n",
       "      <td>7.984007</td>\n",
       "    </tr>\n",
       "    <tr>\n",
       "      <th>178301</th>\n",
       "      <th>Ollie Watkins</th>\n",
       "      <td>All-round finisher</td>\n",
       "      <td>Premier League</td>\n",
       "      <td>2023</td>\n",
       "      <td>3020.0</td>\n",
       "      <td>7.958988</td>\n",
       "    </tr>\n",
       "    <tr>\n",
       "      <th>458249</th>\n",
       "      <th>Joshua Zirkzee</th>\n",
       "      <td>Mobile finisher</td>\n",
       "      <td>Serie A</td>\n",
       "      <td>2023</td>\n",
       "      <td>2557.0</td>\n",
       "      <td>7.617533</td>\n",
       "    </tr>\n",
       "    <tr>\n",
       "      <th>220566</th>\n",
       "      <th>Rodri</th>\n",
       "      <td>Buildup director</td>\n",
       "      <td>Premier League</td>\n",
       "      <td>2023</td>\n",
       "      <td>2475.0</td>\n",
       "      <td>7.495710</td>\n",
       "    </tr>\n",
       "    <tr>\n",
       "      <th>93721</th>\n",
       "      <th>Gerard Moreno</th>\n",
       "      <td>Mobile finisher</td>\n",
       "      <td>La Liga</td>\n",
       "      <td>2023</td>\n",
       "      <td>2142.0</td>\n",
       "      <td>7.445699</td>\n",
       "    </tr>\n",
       "    <tr>\n",
       "      <th>460855</th>\n",
       "      <th>Sem Steijn</th>\n",
       "      <td>Mobile finisher</td>\n",
       "      <td>Eredivisie</td>\n",
       "      <td>2023</td>\n",
       "      <td>2148.0</td>\n",
       "      <td>7.422391</td>\n",
       "    </tr>\n",
       "    <tr>\n",
       "      <th>60307</th>\n",
       "      <th>Pascal Groß</th>\n",
       "      <td>Roaming playmaker</td>\n",
       "      <td>Premier League</td>\n",
       "      <td>2023</td>\n",
       "      <td>2760.0</td>\n",
       "      <td>7.351076</td>\n",
       "    </tr>\n",
       "    <tr>\n",
       "      <th>184029</th>\n",
       "      <th>Martin Ødegaard</th>\n",
       "      <td>Chance creator</td>\n",
       "      <td>Premier League</td>\n",
       "      <td>2023</td>\n",
       "      <td>2715.0</td>\n",
       "      <td>7.316906</td>\n",
       "    </tr>\n",
       "    <tr>\n",
       "      <th>171384</th>\n",
       "      <th>Nicolò Barella</th>\n",
       "      <td>Chance creator</td>\n",
       "      <td>Serie A</td>\n",
       "      <td>2023</td>\n",
       "      <td>2548.0</td>\n",
       "      <td>7.246367</td>\n",
       "    </tr>\n",
       "    <tr>\n",
       "      <th>213294</th>\n",
       "      <th>Artem Dovbyk</th>\n",
       "      <td>All-round finisher</td>\n",
       "      <td>La Liga</td>\n",
       "      <td>2023</td>\n",
       "      <td>2059.0</td>\n",
       "      <td>7.207865</td>\n",
       "    </tr>\n",
       "    <tr>\n",
       "      <th>154566</th>\n",
       "      <th>Dominic Solanke</th>\n",
       "      <td>Mobile finisher</td>\n",
       "      <td>Premier League</td>\n",
       "      <td>2023</td>\n",
       "      <td>3055.0</td>\n",
       "      <td>7.162619</td>\n",
       "    </tr>\n",
       "    <tr>\n",
       "      <th>461358</th>\n",
       "      <th>Julián Álvarez</th>\n",
       "      <td>Chance creator</td>\n",
       "      <td>Premier League</td>\n",
       "      <td>2023</td>\n",
       "      <td>2560.0</td>\n",
       "      <td>7.111072</td>\n",
       "    </tr>\n",
       "    <tr>\n",
       "      <th>165809</th>\n",
       "      <th>Bernardo Silva</th>\n",
       "      <td>Chance creator</td>\n",
       "      <td>Premier League</td>\n",
       "      <td>2023</td>\n",
       "      <td>2206.0</td>\n",
       "      <td>7.016757</td>\n",
       "    </tr>\n",
       "    <tr>\n",
       "      <th>205292</th>\n",
       "      <th>Thomas Robinet</th>\n",
       "      <td>Mobile finisher</td>\n",
       "      <td>Eredivisie</td>\n",
       "      <td>2023</td>\n",
       "      <td>2646.0</td>\n",
       "      <td>7.012366</td>\n",
       "    </tr>\n",
       "    <tr>\n",
       "      <th>118748</th>\n",
       "      <th>Mohamed Salah</th>\n",
       "      <td>One-to-one explorer</td>\n",
       "      <td>Premier League</td>\n",
       "      <td>2023</td>\n",
       "      <td>2284.0</td>\n",
       "      <td>6.942968</td>\n",
       "    </tr>\n",
       "    <tr>\n",
       "      <th>232787</th>\n",
       "      <th>Conor Gallagher</th>\n",
       "      <td>Roaming playmaker</td>\n",
       "      <td>Premier League</td>\n",
       "      <td>2023</td>\n",
       "      <td>2707.0</td>\n",
       "      <td>6.920709</td>\n",
       "    </tr>\n",
       "    <tr>\n",
       "      <th>463414</th>\n",
       "      <th>Sven Mijnans</th>\n",
       "      <td>Roaming playmaker</td>\n",
       "      <td>Eredivisie</td>\n",
       "      <td>2023</td>\n",
       "      <td>2084.0</td>\n",
       "      <td>6.865309</td>\n",
       "    </tr>\n",
       "    <tr>\n",
       "      <th>223255</th>\n",
       "      <th>Federico Valverde</th>\n",
       "      <td>Roaming playmaker</td>\n",
       "      <td>La Liga</td>\n",
       "      <td>2023</td>\n",
       "      <td>2670.0</td>\n",
       "      <td>6.864562</td>\n",
       "    </tr>\n",
       "    <tr>\n",
       "      <th>219847</th>\n",
       "      <th>Kai Havertz</th>\n",
       "      <td>All-round finisher</td>\n",
       "      <td>Premier League</td>\n",
       "      <td>2023</td>\n",
       "      <td>2223.0</td>\n",
       "      <td>6.853599</td>\n",
       "    </tr>\n",
       "    <tr>\n",
       "      <th>76650</th>\n",
       "      <th>Antoine Griezmann</th>\n",
       "      <td>Chance creator</td>\n",
       "      <td>La Liga</td>\n",
       "      <td>2023</td>\n",
       "      <td>2230.0</td>\n",
       "      <td>6.833403</td>\n",
       "    </tr>\n",
       "    <tr>\n",
       "      <th>81944</th>\n",
       "      <th>Lennart Thy</th>\n",
       "      <td>Mobile finisher</td>\n",
       "      <td>Eredivisie</td>\n",
       "      <td>2023</td>\n",
       "      <td>2453.0</td>\n",
       "      <td>6.746132</td>\n",
       "    </tr>\n",
       "    <tr>\n",
       "      <th>143877</th>\n",
       "      <th>Alexander Sørloth</th>\n",
       "      <td>All-round finisher</td>\n",
       "      <td>La Liga</td>\n",
       "      <td>2023</td>\n",
       "      <td>2081.0</td>\n",
       "      <td>6.659112</td>\n",
       "    </tr>\n",
       "    <tr>\n",
       "      <th>178974</th>\n",
       "      <th>Arno Verschueren</th>\n",
       "      <td>Roaming playmaker</td>\n",
       "      <td>Eredivisie</td>\n",
       "      <td>2023</td>\n",
       "      <td>2488.0</td>\n",
       "      <td>6.623945</td>\n",
       "    </tr>\n",
       "    <tr>\n",
       "      <th>57249</th>\n",
       "      <th>Henrikh Mkhitaryan</th>\n",
       "      <td>Roaming playmaker</td>\n",
       "      <td>Serie A</td>\n",
       "      <td>2023</td>\n",
       "      <td>2598.0</td>\n",
       "      <td>6.581564</td>\n",
       "    </tr>\n",
       "    <tr>\n",
       "      <th>204651</th>\n",
       "      <th>Dani de Wit</th>\n",
       "      <td>Mobile finisher</td>\n",
       "      <td>Eredivisie</td>\n",
       "      <td>2023</td>\n",
       "      <td>2268.0</td>\n",
       "      <td>6.549984</td>\n",
       "    </tr>\n",
       "    <tr>\n",
       "      <th>230046</th>\n",
       "      <th>Douglas Luiz</th>\n",
       "      <td>Buildup director</td>\n",
       "      <td>Premier League</td>\n",
       "      <td>2023</td>\n",
       "      <td>2890.0</td>\n",
       "      <td>6.479113</td>\n",
       "    </tr>\n",
       "    <tr>\n",
       "      <th>203325</th>\n",
       "      <th>Frank Anguissa</th>\n",
       "      <td>Roaming playmaker</td>\n",
       "      <td>Serie A</td>\n",
       "      <td>2023</td>\n",
       "      <td>2385.0</td>\n",
       "      <td>6.473591</td>\n",
       "    </tr>\n",
       "    <tr>\n",
       "      <th>441278</th>\n",
       "      <th>Kenneth Taylor</th>\n",
       "      <td>Roaming playmaker</td>\n",
       "      <td>Eredivisie</td>\n",
       "      <td>2023</td>\n",
       "      <td>2508.0</td>\n",
       "      <td>6.472974</td>\n",
       "    </tr>\n",
       "    <tr>\n",
       "      <th>174816</th>\n",
       "      <th>Myrto Uzuni</th>\n",
       "      <td>Mobile finisher</td>\n",
       "      <td>La Liga</td>\n",
       "      <td>2023</td>\n",
       "      <td>2333.0</td>\n",
       "      <td>6.325891</td>\n",
       "    </tr>\n",
       "  </tbody>\n",
       "</table>\n",
       "</div>"
      ],
      "text/plain": [
       "                                    cluster_label     competition  season  \\\n",
       "player_id full_name                                                         \n",
       "244855    Jude Bellingham         Mobile finisher         La Liga    2023   \n",
       "212690    Vangelis Pavlidis    All-round finisher      Eredivisie    2023   \n",
       "209737    Lautaro Martínez     All-round finisher         Serie A    2023   \n",
       "209244    Phil Foden               Chance creator  Premier League    2023   \n",
       "244851    Cole Palmer         One-to-one explorer  Premier League    2023   \n",
       "53041     Luuk de Jong                 Target man      Eredivisie    2023   \n",
       "199248    Borja Mayoral           Mobile finisher         La Liga    2023   \n",
       "432234    Santiago Giménez     All-round finisher      Eredivisie    2023   \n",
       "178186    Jarrod Bowen        One-to-one explorer  Premier League    2023   \n",
       "441264    Brian Brobbey        All-round finisher      Eredivisie    2023   \n",
       "223094    Erling Haaland       All-round finisher  Premier League    2023   \n",
       "439492    Lewis Ferguson        Roaming playmaker         Serie A    2023   \n",
       "178301    Ollie Watkins        All-round finisher  Premier League    2023   \n",
       "458249    Joshua Zirkzee          Mobile finisher         Serie A    2023   \n",
       "220566    Rodri                  Buildup director  Premier League    2023   \n",
       "93721     Gerard Moreno           Mobile finisher         La Liga    2023   \n",
       "460855    Sem Steijn              Mobile finisher      Eredivisie    2023   \n",
       "60307     Pascal Groß           Roaming playmaker  Premier League    2023   \n",
       "184029    Martin Ødegaard          Chance creator  Premier League    2023   \n",
       "171384    Nicolò Barella           Chance creator         Serie A    2023   \n",
       "213294    Artem Dovbyk         All-round finisher         La Liga    2023   \n",
       "154566    Dominic Solanke         Mobile finisher  Premier League    2023   \n",
       "461358    Julián Álvarez           Chance creator  Premier League    2023   \n",
       "165809    Bernardo Silva           Chance creator  Premier League    2023   \n",
       "205292    Thomas Robinet          Mobile finisher      Eredivisie    2023   \n",
       "118748    Mohamed Salah       One-to-one explorer  Premier League    2023   \n",
       "232787    Conor Gallagher       Roaming playmaker  Premier League    2023   \n",
       "463414    Sven Mijnans          Roaming playmaker      Eredivisie    2023   \n",
       "223255    Federico Valverde     Roaming playmaker         La Liga    2023   \n",
       "219847    Kai Havertz          All-round finisher  Premier League    2023   \n",
       "76650     Antoine Griezmann        Chance creator         La Liga    2023   \n",
       "81944     Lennart Thy             Mobile finisher      Eredivisie    2023   \n",
       "143877    Alexander Sørloth    All-round finisher         La Liga    2023   \n",
       "178974    Arno Verschueren      Roaming playmaker      Eredivisie    2023   \n",
       "57249     Henrikh Mkhitaryan    Roaming playmaker         Serie A    2023   \n",
       "204651    Dani de Wit             Mobile finisher      Eredivisie    2023   \n",
       "230046    Douglas Luiz           Buildup director  Premier League    2023   \n",
       "203325    Frank Anguissa        Roaming playmaker         Serie A    2023   \n",
       "441278    Kenneth Taylor        Roaming playmaker      Eredivisie    2023   \n",
       "174816    Myrto Uzuni             Mobile finisher         La Liga    2023   \n",
       "\n",
       "                              mins_played  playerank  \n",
       "player_id full_name                                   \n",
       "244855    Jude Bellingham          2143.0  11.360321  \n",
       "212690    Vangelis Pavlidis        2782.0  10.506381  \n",
       "209737    Lautaro Martínez         2361.0   9.840866  \n",
       "209244    Phil Foden               2597.0   9.594894  \n",
       "244851    Cole Palmer              2186.0   9.459614  \n",
       "53041     Luuk de Jong             2480.0   9.380232  \n",
       "199248    Borja Mayoral            2243.0   9.294008  \n",
       "432234    Santiago Giménez         2461.0   9.019867  \n",
       "178186    Jarrod Bowen             2970.0   8.924275  \n",
       "441264    Brian Brobbey            2186.0   8.694018  \n",
       "223094    Erling Haaland           2337.0   8.686030  \n",
       "439492    Lewis Ferguson           2882.0   7.984007  \n",
       "178301    Ollie Watkins            3020.0   7.958988  \n",
       "458249    Joshua Zirkzee           2557.0   7.617533  \n",
       "220566    Rodri                    2475.0   7.495710  \n",
       "93721     Gerard Moreno            2142.0   7.445699  \n",
       "460855    Sem Steijn               2148.0   7.422391  \n",
       "60307     Pascal Groß              2760.0   7.351076  \n",
       "184029    Martin Ødegaard          2715.0   7.316906  \n",
       "171384    Nicolò Barella           2548.0   7.246367  \n",
       "213294    Artem Dovbyk             2059.0   7.207865  \n",
       "154566    Dominic Solanke          3055.0   7.162619  \n",
       "461358    Julián Álvarez           2560.0   7.111072  \n",
       "165809    Bernardo Silva           2206.0   7.016757  \n",
       "205292    Thomas Robinet           2646.0   7.012366  \n",
       "118748    Mohamed Salah            2284.0   6.942968  \n",
       "232787    Conor Gallagher          2707.0   6.920709  \n",
       "463414    Sven Mijnans             2084.0   6.865309  \n",
       "223255    Federico Valverde        2670.0   6.864562  \n",
       "219847    Kai Havertz              2223.0   6.853599  \n",
       "76650     Antoine Griezmann        2230.0   6.833403  \n",
       "81944     Lennart Thy              2453.0   6.746132  \n",
       "143877    Alexander Sørloth        2081.0   6.659112  \n",
       "178974    Arno Verschueren         2488.0   6.623945  \n",
       "57249     Henrikh Mkhitaryan       2598.0   6.581564  \n",
       "204651    Dani de Wit              2268.0   6.549984  \n",
       "230046    Douglas Luiz             2890.0   6.479113  \n",
       "203325    Frank Anguissa           2385.0   6.473591  \n",
       "441278    Kenneth Taylor           2508.0   6.472974  \n",
       "174816    Myrto Uzuni              2333.0   6.325891  "
      ]
     },
     "execution_count": 25,
     "metadata": {},
     "output_type": "execute_result"
    }
   ],
   "source": [
    "ranking[ranking['mins_played'] > 2000].sort_values(by='playerank', ascending=False).head(40)"
   ]
  },
  {
   "cell_type": "code",
   "execution_count": 26,
   "metadata": {},
   "outputs": [],
   "source": [
    "# ranking.groupby('cluster_label').sum() / ranking.groupby('cluster_label').count()"
   ]
  },
  {
   "cell_type": "code",
   "execution_count": 27,
   "metadata": {},
   "outputs": [
    {
     "name": "stdout",
     "output_type": "stream",
     "text": [
      "                                 cluster_label     competition  season  \\\n",
      "player_id full_name                                                      \n",
      "543612    Federico Gatti     Buildup initiator         Serie A    2023   \n",
      "510162    Ryan Flamingo      Buildup initiator      Eredivisie    2023   \n",
      "462424    William Saliba     Buildup initiator  Premier League    2023   \n",
      "95090     André Ramalho      Buildup initiator      Eredivisie    2023   \n",
      "226597    Gabriel Magalhães  Buildup initiator  Premier League    2023   \n",
      "\n",
      "                             mins_played  playerank  \n",
      "player_id full_name                                  \n",
      "543612    Federico Gatti          2339.0   2.452368  \n",
      "510162    Ryan Flamingo           2539.0   2.302959  \n",
      "462424    William Saliba          3133.0   2.249328  \n",
      "95090     André Ramalho           2146.0   2.203498  \n",
      "226597    Gabriel Magalhães       2741.0   2.117557  \n",
      "                           cluster_label     competition  season  mins_played  \\\n",
      "player_id full_name                                                             \n",
      "207283    Mathias Jensen    Wide creator  Premier League    2023       2006.0   \n",
      "250676    Sergiño Dest      Wide creator         Serie A    2023       2207.0   \n",
      "468236    Yan Couto         Wide creator         La Liga    2023       2088.0   \n",
      "121145    João Cancelo      Wide creator         La Liga    2023       2079.0   \n",
      "45156     Antonio Candreva  Wide creator         Serie A    2023       2724.0   \n",
      "\n",
      "                            playerank  \n",
      "player_id full_name                    \n",
      "207283    Mathias Jensen     4.022350  \n",
      "250676    Sergiño Dest       2.685525  \n",
      "468236    Yan Couto          2.460876  \n",
      "121145    João Cancelo       2.286256  \n",
      "45156     Antonio Candreva   2.213476  \n",
      "                            cluster_label     competition  season  \\\n",
      "player_id full_name                                                 \n",
      "214048    Maximilian Kilman  Ball stopper  Premier League    2023   \n",
      "216616    Dara O'Shea        Ball stopper  Premier League    2023   \n",
      "174874    Joachim Andersen   Ball stopper  Premier League    2023   \n",
      "469402    Edgar González     Ball stopper         La Liga    2023   \n",
      "434384    Rodrigo Guth       Ball stopper      Eredivisie    2023   \n",
      "\n",
      "                             mins_played  playerank  \n",
      "player_id full_name                                  \n",
      "214048    Maximilian Kilman       3161.0   1.639404  \n",
      "216616    Dara O'Shea             2645.0   1.605785  \n",
      "174874    Joachim Andersen        3126.0   1.519909  \n",
      "469402    Edgar González          2331.0   1.440760  \n",
      "434384    Rodrigo Guth            2602.0   1.343518  \n",
      "                                 cluster_label     competition  season  \\\n",
      "player_id full_name                                                      \n",
      "515759    Andrea Cambiaso      Wide controller         Serie A    2023   \n",
      "220325    Jules Koundé         Wide controller         La Liga    2023   \n",
      "58621     Kyle Walker          Wide controller  Premier League    2023   \n",
      "198869    Ben White            Wide controller  Premier League    2023   \n",
      "494960    Quilindschy Hartman  Wide controller      Eredivisie    2023   \n",
      "\n",
      "                               mins_played  playerank  \n",
      "player_id full_name                                    \n",
      "515759    Andrea Cambiaso           2010.0   3.440736  \n",
      "220325    Jules Koundé              2441.0   3.002997  \n",
      "58621     Kyle Walker               2436.0   2.572595  \n",
      "198869    Ben White                 2646.0   2.273633  \n",
      "494960    Quilindschy Hartman       2150.0   2.002508  \n",
      "                                  cluster_label     competition  season  \\\n",
      "player_id full_name                                                       \n",
      "220566    Rodri                Buildup director  Premier League    2023   \n",
      "230046    Douglas Luiz         Buildup director  Premier League    2023   \n",
      "441092    Joshua Kitolano      Buildup director      Eredivisie    2023   \n",
      "467779    Mats Wieffer         Buildup director      Eredivisie    2023   \n",
      "243016    Alexis Mac Allister  Buildup director  Premier League    2023   \n",
      "\n",
      "                               mins_played  playerank  \n",
      "player_id full_name                                    \n",
      "220566    Rodri                     2475.0   7.495710  \n",
      "230046    Douglas Luiz              2890.0   6.479113  \n",
      "441092    Joshua Kitolano           2215.0   4.817336  \n",
      "467779    Mats Wieffer              2754.0   4.725266  \n",
      "243016    Alexis Mac Allister       2296.0   4.708456  \n",
      "                                 cluster_label     competition  season  \\\n",
      "player_id full_name                                                      \n",
      "439492    Lewis Ferguson     Roaming playmaker         Serie A    2023   \n",
      "60307     Pascal Groß        Roaming playmaker  Premier League    2023   \n",
      "232787    Conor Gallagher    Roaming playmaker  Premier League    2023   \n",
      "463414    Sven Mijnans       Roaming playmaker      Eredivisie    2023   \n",
      "223255    Federico Valverde  Roaming playmaker         La Liga    2023   \n",
      "\n",
      "                             mins_played  playerank  \n",
      "player_id full_name                                  \n",
      "439492    Lewis Ferguson          2882.0   7.984007  \n",
      "60307     Pascal Groß             2760.0   7.351076  \n",
      "232787    Conor Gallagher         2707.0   6.920709  \n",
      "463414    Sven Mijnans            2084.0   6.865309  \n",
      "223255    Federico Valverde       2670.0   6.864562  \n",
      "                             cluster_label competition  season  mins_played  \\\n",
      "player_id full_name                                                           \n",
      "244855    Jude Bellingham  Mobile finisher     La Liga    2023       2143.0   \n",
      "199248    Borja Mayoral    Mobile finisher     La Liga    2023       2243.0   \n",
      "458249    Joshua Zirkzee   Mobile finisher     Serie A    2023       2557.0   \n",
      "93721     Gerard Moreno    Mobile finisher     La Liga    2023       2142.0   \n",
      "460855    Sem Steijn       Mobile finisher  Eredivisie    2023       2148.0   \n",
      "\n",
      "                           playerank  \n",
      "player_id full_name                   \n",
      "244855    Jude Bellingham  11.360321  \n",
      "199248    Borja Mayoral     9.294008  \n",
      "458249    Joshua Zirkzee    7.617533  \n",
      "93721     Gerard Moreno     7.445699  \n",
      "460855    Sem Steijn        7.422391  \n",
      "                                cluster_label     competition  season  \\\n",
      "player_id full_name                                                     \n",
      "58877     Daley Blind      First line breaker         La Liga    2023   \n",
      "221632    Cristian Romero  First line breaker  Premier League    2023   \n",
      "78916     Dan Burn         First line breaker  Premier League    2023   \n",
      "111457    Sead Kolasinac   First line breaker         Serie A    2023   \n",
      "432656    Eric García      First line breaker         La Liga    2023   \n",
      "\n",
      "                           mins_played  playerank  \n",
      "player_id full_name                                \n",
      "58877     Daley Blind           2515.0   3.414959  \n",
      "221632    Cristian Romero       2458.0   2.998975  \n",
      "78916     Dan Burn              2332.0   2.629979  \n",
      "111457    Sead Kolasinac        2156.0   2.598127  \n",
      "432656    Eric García           2168.0   2.538285  \n",
      "                            cluster_label     competition  season  \\\n",
      "player_id full_name                                                 \n",
      "209244    Phil Foden       Chance creator  Premier League    2023   \n",
      "184029    Martin Ødegaard  Chance creator  Premier League    2023   \n",
      "171384    Nicolò Barella   Chance creator         Serie A    2023   \n",
      "461358    Julián Álvarez   Chance creator  Premier League    2023   \n",
      "165809    Bernardo Silva   Chance creator  Premier League    2023   \n",
      "\n",
      "                           mins_played  playerank  \n",
      "player_id full_name                                \n",
      "209244    Phil Foden            2597.0   9.594894  \n",
      "184029    Martin Ødegaard       2715.0   7.316906  \n",
      "171384    Nicolò Barella        2548.0   7.246367  \n",
      "461358    Julián Álvarez        2560.0   7.111072  \n",
      "165809    Bernardo Silva        2206.0   7.016757  \n",
      "                               cluster_label competition  season  mins_played  \\\n",
      "player_id full_name                                                             \n",
      "53041     Luuk de Jong            Target man  Eredivisie    2023       2480.0   \n",
      "94273     Ante Budimir            Target man     La Liga    2023       2457.0   \n",
      "247412    Jørgen Strand Larsen    Target man     La Liga    2023       2572.0   \n",
      "44346     Olivier Giroud          Target man     Serie A    2023       2092.0   \n",
      "220182    Gorka Guruzeta          Target man     La Liga    2023       2113.0   \n",
      "\n",
      "                                playerank  \n",
      "player_id full_name                        \n",
      "53041     Luuk de Jong           9.380232  \n",
      "94273     Ante Budimir           5.857709  \n",
      "247412    Jørgen Strand Larsen   5.686310  \n",
      "44346     Olivier Giroud         5.616488  \n",
      "220182    Gorka Guruzeta         5.517295  \n",
      "                                cluster_label     competition  season  \\\n",
      "player_id full_name                                                     \n",
      "244851    Cole Palmer     One-to-one explorer  Premier League    2023   \n",
      "178186    Jarrod Bowen    One-to-one explorer  Premier League    2023   \n",
      "118748    Mohamed Salah   One-to-one explorer  Premier League    2023   \n",
      "223340    Bukayo Saka     One-to-one explorer  Premier League    2023   \n",
      "519638    Johan Bakayoko  One-to-one explorer      Eredivisie    2023   \n",
      "\n",
      "                          mins_played  playerank  \n",
      "player_id full_name                               \n",
      "244851    Cole Palmer          2186.0   9.459614  \n",
      "178186    Jarrod Bowen         2970.0   8.924275  \n",
      "118748    Mohamed Salah        2284.0   6.942968  \n",
      "223340    Bukayo Saka          2645.0   6.278150  \n",
      "519638    Johan Bakayoko       2289.0   6.001549  \n",
      "                                  cluster_label     competition  season  \\\n",
      "player_id full_name                                                       \n",
      "212690    Vangelis Pavlidis  All-round finisher      Eredivisie    2023   \n",
      "209737    Lautaro Martínez   All-round finisher         Serie A    2023   \n",
      "432234    Santiago Giménez   All-round finisher      Eredivisie    2023   \n",
      "441264    Brian Brobbey      All-round finisher      Eredivisie    2023   \n",
      "223094    Erling Haaland     All-round finisher  Premier League    2023   \n",
      "\n",
      "                             mins_played  playerank  \n",
      "player_id full_name                                  \n",
      "212690    Vangelis Pavlidis       2782.0  10.506381  \n",
      "209737    Lautaro Martínez        2361.0   9.840866  \n",
      "432234    Santiago Giménez        2461.0   9.019867  \n",
      "441264    Brian Brobbey           2186.0   8.694018  \n",
      "223094    Erling Haaland          2337.0   8.686030  \n",
      "                            cluster_label     competition  season  \\\n",
      "player_id full_name                                                 \n",
      "211975    Manuel Akanji      Ball stealer  Premier League    2023   \n",
      "152551    Jefferson Lerma    Ball stealer  Premier League    2023   \n",
      "151086    Mario Lemina       Ball stealer  Premier League    2023   \n",
      "519394    Giorgio Scalvini   Ball stealer         Serie A    2023   \n",
      "246074    Melle Meulensteen  Ball stealer      Eredivisie    2023   \n",
      "\n",
      "                             mins_played  playerank  \n",
      "player_id full_name                                  \n",
      "211975    Manuel Akanji           2141.0   4.164680  \n",
      "152551    Jefferson Lerma         2563.0   3.372900  \n",
      "151086    Mario Lemina            2722.0   3.092182  \n",
      "519394    Giorgio Scalvini        2229.0   2.492100  \n",
      "246074    Melle Meulensteen       2077.0   2.369374  \n"
     ]
    }
   ],
   "source": [
    "for cluster in ranking.cluster_label.unique():\n",
    "    print(ranking[(ranking.cluster_label == cluster) & (ranking['mins_played'] > 2000)].sort_values(by='playerank', ascending=False).head(5))"
   ]
  },
  {
   "cell_type": "code",
   "execution_count": 28,
   "metadata": {},
   "outputs": [
    {
     "data": {
      "text/html": [
       "<div>\n",
       "<style scoped>\n",
       "    .dataframe tbody tr th:only-of-type {\n",
       "        vertical-align: middle;\n",
       "    }\n",
       "\n",
       "    .dataframe tbody tr th {\n",
       "        vertical-align: top;\n",
       "    }\n",
       "\n",
       "    .dataframe thead th {\n",
       "        text-align: right;\n",
       "    }\n",
       "</style>\n",
       "<table border=\"1\" class=\"dataframe\">\n",
       "  <thead>\n",
       "    <tr style=\"text-align: right;\">\n",
       "      <th></th>\n",
       "      <th></th>\n",
       "      <th>cluster_label</th>\n",
       "      <th>competition</th>\n",
       "      <th>season</th>\n",
       "      <th>mins_played</th>\n",
       "      <th>playerank</th>\n",
       "    </tr>\n",
       "    <tr>\n",
       "      <th>player_id</th>\n",
       "      <th>full_name</th>\n",
       "      <th></th>\n",
       "      <th></th>\n",
       "      <th></th>\n",
       "      <th></th>\n",
       "      <th></th>\n",
       "    </tr>\n",
       "  </thead>\n",
       "  <tbody>\n",
       "    <tr>\n",
       "      <th>209737</th>\n",
       "      <th>Lautaro Martínez</th>\n",
       "      <td>All-round finisher</td>\n",
       "      <td>Serie A</td>\n",
       "      <td>2023</td>\n",
       "      <td>2361.0</td>\n",
       "      <td>9.840866</td>\n",
       "    </tr>\n",
       "    <tr>\n",
       "      <th>439492</th>\n",
       "      <th>Lewis Ferguson</th>\n",
       "      <td>Roaming playmaker</td>\n",
       "      <td>Serie A</td>\n",
       "      <td>2023</td>\n",
       "      <td>2882.0</td>\n",
       "      <td>7.984007</td>\n",
       "    </tr>\n",
       "    <tr>\n",
       "      <th>458249</th>\n",
       "      <th>Joshua Zirkzee</th>\n",
       "      <td>Mobile finisher</td>\n",
       "      <td>Serie A</td>\n",
       "      <td>2023</td>\n",
       "      <td>2557.0</td>\n",
       "      <td>7.617533</td>\n",
       "    </tr>\n",
       "    <tr>\n",
       "      <th>171384</th>\n",
       "      <th>Nicolò Barella</th>\n",
       "      <td>Chance creator</td>\n",
       "      <td>Serie A</td>\n",
       "      <td>2023</td>\n",
       "      <td>2548.0</td>\n",
       "      <td>7.246367</td>\n",
       "    </tr>\n",
       "    <tr>\n",
       "      <th>57249</th>\n",
       "      <th>Henrikh Mkhitaryan</th>\n",
       "      <td>Roaming playmaker</td>\n",
       "      <td>Serie A</td>\n",
       "      <td>2023</td>\n",
       "      <td>2598.0</td>\n",
       "      <td>6.581564</td>\n",
       "    </tr>\n",
       "    <tr>\n",
       "      <th>203325</th>\n",
       "      <th>Frank Anguissa</th>\n",
       "      <td>Roaming playmaker</td>\n",
       "      <td>Serie A</td>\n",
       "      <td>2023</td>\n",
       "      <td>2385.0</td>\n",
       "      <td>6.473591</td>\n",
       "    </tr>\n",
       "    <tr>\n",
       "      <th>103086</th>\n",
       "      <th>Duván Zapata</th>\n",
       "      <td>All-round finisher</td>\n",
       "      <td>Serie A</td>\n",
       "      <td>2023</td>\n",
       "      <td>2536.0</td>\n",
       "      <td>6.163000</td>\n",
       "    </tr>\n",
       "    <tr>\n",
       "      <th>204644</th>\n",
       "      <th>Teun Koopmeiners</th>\n",
       "      <td>Chance creator</td>\n",
       "      <td>Serie A</td>\n",
       "      <td>2023</td>\n",
       "      <td>2373.0</td>\n",
       "      <td>5.979986</td>\n",
       "    </tr>\n",
       "    <tr>\n",
       "      <th>120743</th>\n",
       "      <th>Adrien Rabiot</th>\n",
       "      <td>Roaming playmaker</td>\n",
       "      <td>Serie A</td>\n",
       "      <td>2023</td>\n",
       "      <td>2374.0</td>\n",
       "      <td>5.768393</td>\n",
       "    </tr>\n",
       "    <tr>\n",
       "      <th>215147</th>\n",
       "      <th>Albert Gudmundsson</th>\n",
       "      <td>Chance creator</td>\n",
       "      <td>Serie A</td>\n",
       "      <td>2023</td>\n",
       "      <td>2837.0</td>\n",
       "      <td>5.751448</td>\n",
       "    </tr>\n",
       "    <tr>\n",
       "      <th>44346</th>\n",
       "      <th>Olivier Giroud</th>\n",
       "      <td>Target man</td>\n",
       "      <td>Serie A</td>\n",
       "      <td>2023</td>\n",
       "      <td>2092.0</td>\n",
       "      <td>5.616488</td>\n",
       "    </tr>\n",
       "    <tr>\n",
       "      <th>205880</th>\n",
       "      <th>Marcus Thuram</th>\n",
       "      <td>All-round finisher</td>\n",
       "      <td>Serie A</td>\n",
       "      <td>2023</td>\n",
       "      <td>2334.0</td>\n",
       "      <td>5.542417</td>\n",
       "    </tr>\n",
       "    <tr>\n",
       "      <th>440668</th>\n",
       "      <th>Khvicha Kvaratskhelia</th>\n",
       "      <td>One-to-one explorer</td>\n",
       "      <td>Serie A</td>\n",
       "      <td>2023</td>\n",
       "      <td>2422.0</td>\n",
       "      <td>5.523619</td>\n",
       "    </tr>\n",
       "    <tr>\n",
       "      <th>49417</th>\n",
       "      <th>Giacomo Bonaventura</th>\n",
       "      <td>Chance creator</td>\n",
       "      <td>Serie A</td>\n",
       "      <td>2023</td>\n",
       "      <td>2155.0</td>\n",
       "      <td>5.441815</td>\n",
       "    </tr>\n",
       "    <tr>\n",
       "      <th>101537</th>\n",
       "      <th>Felipe Anderson</th>\n",
       "      <td>Chance creator</td>\n",
       "      <td>Serie A</td>\n",
       "      <td>2023</td>\n",
       "      <td>2509.0</td>\n",
       "      <td>5.388413</td>\n",
       "    </tr>\n",
       "    <tr>\n",
       "      <th>126187</th>\n",
       "      <th>Ruben Loftus-Cheek</th>\n",
       "      <td>Mobile finisher</td>\n",
       "      <td>Serie A</td>\n",
       "      <td>2023</td>\n",
       "      <td>2004.0</td>\n",
       "      <td>5.339443</td>\n",
       "    </tr>\n",
       "    <tr>\n",
       "      <th>66749</th>\n",
       "      <th>Romelu Lukaku</th>\n",
       "      <td>All-round finisher</td>\n",
       "      <td>Serie A</td>\n",
       "      <td>2023</td>\n",
       "      <td>2464.0</td>\n",
       "      <td>5.184741</td>\n",
       "    </tr>\n",
       "    <tr>\n",
       "      <th>433036</th>\n",
       "      <th>Tijjani Reijnders</th>\n",
       "      <td>Roaming playmaker</td>\n",
       "      <td>Serie A</td>\n",
       "      <td>2023</td>\n",
       "      <td>2433.0</td>\n",
       "      <td>5.110100</td>\n",
       "    </tr>\n",
       "    <tr>\n",
       "      <th>242166</th>\n",
       "      <th>Mattéo Guendouzi</th>\n",
       "      <td>Roaming playmaker</td>\n",
       "      <td>Serie A</td>\n",
       "      <td>2023</td>\n",
       "      <td>2160.0</td>\n",
       "      <td>4.757487</td>\n",
       "    </tr>\n",
       "    <tr>\n",
       "      <th>445043</th>\n",
       "      <th>Kristian Thorstvedt</th>\n",
       "      <td>Roaming playmaker</td>\n",
       "      <td>Serie A</td>\n",
       "      <td>2023</td>\n",
       "      <td>2030.0</td>\n",
       "      <td>4.727848</td>\n",
       "    </tr>\n",
       "    <tr>\n",
       "      <th>511505</th>\n",
       "      <th>Matías Soulé</th>\n",
       "      <td>Chance creator</td>\n",
       "      <td>Serie A</td>\n",
       "      <td>2023</td>\n",
       "      <td>2711.0</td>\n",
       "      <td>4.660229</td>\n",
       "    </tr>\n",
       "    <tr>\n",
       "      <th>216040</th>\n",
       "      <th>Andrea Pinamonti</th>\n",
       "      <td>Target man</td>\n",
       "      <td>Serie A</td>\n",
       "      <td>2023</td>\n",
       "      <td>2694.0</td>\n",
       "      <td>4.546184</td>\n",
       "    </tr>\n",
       "    <tr>\n",
       "      <th>82451</th>\n",
       "      <th>Luis Alberto</th>\n",
       "      <td>Chance creator</td>\n",
       "      <td>Serie A</td>\n",
       "      <td>2023</td>\n",
       "      <td>2165.0</td>\n",
       "      <td>4.416263</td>\n",
       "    </tr>\n",
       "    <tr>\n",
       "      <th>180151</th>\n",
       "      <th>Nikola Vlasic</th>\n",
       "      <td>Chance creator</td>\n",
       "      <td>Serie A</td>\n",
       "      <td>2023</td>\n",
       "      <td>2529.0</td>\n",
       "      <td>4.382328</td>\n",
       "    </tr>\n",
       "    <tr>\n",
       "      <th>176413</th>\n",
       "      <th>Christian Pulisic</th>\n",
       "      <td>One-to-one explorer</td>\n",
       "      <td>Serie A</td>\n",
       "      <td>2023</td>\n",
       "      <td>2124.0</td>\n",
       "      <td>4.301045</td>\n",
       "    </tr>\n",
       "    <tr>\n",
       "      <th>247050</th>\n",
       "      <th>Michael Folorunsho</th>\n",
       "      <td>Roaming playmaker</td>\n",
       "      <td>Serie A</td>\n",
       "      <td>2023</td>\n",
       "      <td>2572.0</td>\n",
       "      <td>4.269063</td>\n",
       "    </tr>\n",
       "    <tr>\n",
       "      <th>216065</th>\n",
       "      <th>Rafael Leão</th>\n",
       "      <td>One-to-one explorer</td>\n",
       "      <td>Serie A</td>\n",
       "      <td>2023</td>\n",
       "      <td>2230.0</td>\n",
       "      <td>4.126689</td>\n",
       "    </tr>\n",
       "    <tr>\n",
       "      <th>232066</th>\n",
       "      <th>Youssef Maleh</th>\n",
       "      <td>Buildup director</td>\n",
       "      <td>Serie A</td>\n",
       "      <td>2023</td>\n",
       "      <td>2259.0</td>\n",
       "      <td>4.024889</td>\n",
       "    </tr>\n",
       "    <tr>\n",
       "      <th>230152</th>\n",
       "      <th>Jerdy Schouten</th>\n",
       "      <td>Buildup director</td>\n",
       "      <td>Serie A</td>\n",
       "      <td>2023</td>\n",
       "      <td>2152.0</td>\n",
       "      <td>4.017311</td>\n",
       "    </tr>\n",
       "    <tr>\n",
       "      <th>111732</th>\n",
       "      <th>Hakan Çalhanoglu</th>\n",
       "      <td>Roaming playmaker</td>\n",
       "      <td>Serie A</td>\n",
       "      <td>2023</td>\n",
       "      <td>2334.0</td>\n",
       "      <td>3.999960</td>\n",
       "    </tr>\n",
       "    <tr>\n",
       "      <th>450023</th>\n",
       "      <th>Samuele Ricci</th>\n",
       "      <td>Roaming playmaker</td>\n",
       "      <td>Serie A</td>\n",
       "      <td>2023</td>\n",
       "      <td>2044.0</td>\n",
       "      <td>3.960210</td>\n",
       "    </tr>\n",
       "    <tr>\n",
       "      <th>101820</th>\n",
       "      <th>Stanislav Lobotka</th>\n",
       "      <td>Buildup director</td>\n",
       "      <td>Serie A</td>\n",
       "      <td>2023</td>\n",
       "      <td>2880.0</td>\n",
       "      <td>3.866752</td>\n",
       "    </tr>\n",
       "    <tr>\n",
       "      <th>440730</th>\n",
       "      <th>Matheus Henrique</th>\n",
       "      <td>Roaming playmaker</td>\n",
       "      <td>Serie A</td>\n",
       "      <td>2023</td>\n",
       "      <td>2261.0</td>\n",
       "      <td>3.851694</td>\n",
       "    </tr>\n",
       "    <tr>\n",
       "      <th>469130</th>\n",
       "      <th>Lorenzo Lucca</th>\n",
       "      <td>Target man</td>\n",
       "      <td>Serie A</td>\n",
       "      <td>2023</td>\n",
       "      <td>2111.0</td>\n",
       "      <td>3.701542</td>\n",
       "    </tr>\n",
       "    <tr>\n",
       "      <th>109511</th>\n",
       "      <th>Bryan Cristante</th>\n",
       "      <td>Buildup director</td>\n",
       "      <td>Serie A</td>\n",
       "      <td>2023</td>\n",
       "      <td>2855.0</td>\n",
       "      <td>3.573483</td>\n",
       "    </tr>\n",
       "    <tr>\n",
       "      <th>89076</th>\n",
       "      <th>Remo Freuler</th>\n",
       "      <td>Buildup director</td>\n",
       "      <td>Serie A</td>\n",
       "      <td>2023</td>\n",
       "      <td>2309.0</td>\n",
       "      <td>3.530029</td>\n",
       "    </tr>\n",
       "    <tr>\n",
       "      <th>463184</th>\n",
       "      <th>Éderson</th>\n",
       "      <td>Roaming playmaker</td>\n",
       "      <td>Serie A</td>\n",
       "      <td>2023</td>\n",
       "      <td>2643.0</td>\n",
       "      <td>3.455863</td>\n",
       "    </tr>\n",
       "    <tr>\n",
       "      <th>515759</th>\n",
       "      <th>Andrea Cambiaso</th>\n",
       "      <td>Wide controller</td>\n",
       "      <td>Serie A</td>\n",
       "      <td>2023</td>\n",
       "      <td>2010.0</td>\n",
       "      <td>3.440736</td>\n",
       "    </tr>\n",
       "    <tr>\n",
       "      <th>449739</th>\n",
       "      <th>Andrea Colpani</th>\n",
       "      <td>One-to-one explorer</td>\n",
       "      <td>Serie A</td>\n",
       "      <td>2023</td>\n",
       "      <td>2313.0</td>\n",
       "      <td>3.402156</td>\n",
       "    </tr>\n",
       "    <tr>\n",
       "      <th>432105</th>\n",
       "      <th>Matteo Pessina</th>\n",
       "      <td>Buildup director</td>\n",
       "      <td>Serie A</td>\n",
       "      <td>2023</td>\n",
       "      <td>2836.0</td>\n",
       "      <td>3.335290</td>\n",
       "    </tr>\n",
       "  </tbody>\n",
       "</table>\n",
       "</div>"
      ],
      "text/plain": [
       "                                       cluster_label competition  season  \\\n",
       "player_id full_name                                                        \n",
       "209737    Lautaro Martínez        All-round finisher     Serie A    2023   \n",
       "439492    Lewis Ferguson           Roaming playmaker     Serie A    2023   \n",
       "458249    Joshua Zirkzee             Mobile finisher     Serie A    2023   \n",
       "171384    Nicolò Barella              Chance creator     Serie A    2023   \n",
       "57249     Henrikh Mkhitaryan       Roaming playmaker     Serie A    2023   \n",
       "203325    Frank Anguissa           Roaming playmaker     Serie A    2023   \n",
       "103086    Duván Zapata            All-round finisher     Serie A    2023   \n",
       "204644    Teun Koopmeiners            Chance creator     Serie A    2023   \n",
       "120743    Adrien Rabiot            Roaming playmaker     Serie A    2023   \n",
       "215147    Albert Gudmundsson          Chance creator     Serie A    2023   \n",
       "44346     Olivier Giroud                  Target man     Serie A    2023   \n",
       "205880    Marcus Thuram           All-round finisher     Serie A    2023   \n",
       "440668    Khvicha Kvaratskhelia  One-to-one explorer     Serie A    2023   \n",
       "49417     Giacomo Bonaventura         Chance creator     Serie A    2023   \n",
       "101537    Felipe Anderson             Chance creator     Serie A    2023   \n",
       "126187    Ruben Loftus-Cheek         Mobile finisher     Serie A    2023   \n",
       "66749     Romelu Lukaku           All-round finisher     Serie A    2023   \n",
       "433036    Tijjani Reijnders        Roaming playmaker     Serie A    2023   \n",
       "242166    Mattéo Guendouzi         Roaming playmaker     Serie A    2023   \n",
       "445043    Kristian Thorstvedt      Roaming playmaker     Serie A    2023   \n",
       "511505    Matías Soulé                Chance creator     Serie A    2023   \n",
       "216040    Andrea Pinamonti                Target man     Serie A    2023   \n",
       "82451     Luis Alberto                Chance creator     Serie A    2023   \n",
       "180151    Nikola Vlasic               Chance creator     Serie A    2023   \n",
       "176413    Christian Pulisic      One-to-one explorer     Serie A    2023   \n",
       "247050    Michael Folorunsho       Roaming playmaker     Serie A    2023   \n",
       "216065    Rafael Leão            One-to-one explorer     Serie A    2023   \n",
       "232066    Youssef Maleh             Buildup director     Serie A    2023   \n",
       "230152    Jerdy Schouten            Buildup director     Serie A    2023   \n",
       "111732    Hakan Çalhanoglu         Roaming playmaker     Serie A    2023   \n",
       "450023    Samuele Ricci            Roaming playmaker     Serie A    2023   \n",
       "101820    Stanislav Lobotka         Buildup director     Serie A    2023   \n",
       "440730    Matheus Henrique         Roaming playmaker     Serie A    2023   \n",
       "469130    Lorenzo Lucca                   Target man     Serie A    2023   \n",
       "109511    Bryan Cristante           Buildup director     Serie A    2023   \n",
       "89076     Remo Freuler              Buildup director     Serie A    2023   \n",
       "463184    Éderson                  Roaming playmaker     Serie A    2023   \n",
       "515759    Andrea Cambiaso            Wide controller     Serie A    2023   \n",
       "449739    Andrea Colpani         One-to-one explorer     Serie A    2023   \n",
       "432105    Matteo Pessina            Buildup director     Serie A    2023   \n",
       "\n",
       "                                 mins_played  playerank  \n",
       "player_id full_name                                      \n",
       "209737    Lautaro Martínez            2361.0   9.840866  \n",
       "439492    Lewis Ferguson              2882.0   7.984007  \n",
       "458249    Joshua Zirkzee              2557.0   7.617533  \n",
       "171384    Nicolò Barella              2548.0   7.246367  \n",
       "57249     Henrikh Mkhitaryan          2598.0   6.581564  \n",
       "203325    Frank Anguissa              2385.0   6.473591  \n",
       "103086    Duván Zapata                2536.0   6.163000  \n",
       "204644    Teun Koopmeiners            2373.0   5.979986  \n",
       "120743    Adrien Rabiot               2374.0   5.768393  \n",
       "215147    Albert Gudmundsson          2837.0   5.751448  \n",
       "44346     Olivier Giroud              2092.0   5.616488  \n",
       "205880    Marcus Thuram               2334.0   5.542417  \n",
       "440668    Khvicha Kvaratskhelia       2422.0   5.523619  \n",
       "49417     Giacomo Bonaventura         2155.0   5.441815  \n",
       "101537    Felipe Anderson             2509.0   5.388413  \n",
       "126187    Ruben Loftus-Cheek          2004.0   5.339443  \n",
       "66749     Romelu Lukaku               2464.0   5.184741  \n",
       "433036    Tijjani Reijnders           2433.0   5.110100  \n",
       "242166    Mattéo Guendouzi            2160.0   4.757487  \n",
       "445043    Kristian Thorstvedt         2030.0   4.727848  \n",
       "511505    Matías Soulé                2711.0   4.660229  \n",
       "216040    Andrea Pinamonti            2694.0   4.546184  \n",
       "82451     Luis Alberto                2165.0   4.416263  \n",
       "180151    Nikola Vlasic               2529.0   4.382328  \n",
       "176413    Christian Pulisic           2124.0   4.301045  \n",
       "247050    Michael Folorunsho          2572.0   4.269063  \n",
       "216065    Rafael Leão                 2230.0   4.126689  \n",
       "232066    Youssef Maleh               2259.0   4.024889  \n",
       "230152    Jerdy Schouten              2152.0   4.017311  \n",
       "111732    Hakan Çalhanoglu            2334.0   3.999960  \n",
       "450023    Samuele Ricci               2044.0   3.960210  \n",
       "101820    Stanislav Lobotka           2880.0   3.866752  \n",
       "440730    Matheus Henrique            2261.0   3.851694  \n",
       "469130    Lorenzo Lucca               2111.0   3.701542  \n",
       "109511    Bryan Cristante             2855.0   3.573483  \n",
       "89076     Remo Freuler                2309.0   3.530029  \n",
       "463184    Éderson                     2643.0   3.455863  \n",
       "515759    Andrea Cambiaso             2010.0   3.440736  \n",
       "449739    Andrea Colpani              2313.0   3.402156  \n",
       "432105    Matteo Pessina              2836.0   3.335290  "
      ]
     },
     "execution_count": 28,
     "metadata": {},
     "output_type": "execute_result"
    }
   ],
   "source": [
    "ranking[(ranking['competition'] == 'Serie A') & (ranking['mins_played'] > 2000)].sort_values(by='playerank', ascending=False).head(40)"
   ]
  }
 ],
 "metadata": {
  "kernelspec": {
   "display_name": "Python 3",
   "language": "python",
   "name": "python3"
  },
  "language_info": {
   "codemirror_mode": {
    "name": "ipython",
    "version": 3
   },
   "file_extension": ".py",
   "mimetype": "text/x-python",
   "name": "python",
   "nbconvert_exporter": "python",
   "pygments_lexer": "ipython3",
   "version": "3.11.5"
  }
 },
 "nbformat": 4,
 "nbformat_minor": 2
}
