{
 "cells": [
  {
   "cell_type": "code",
   "execution_count": 1,
   "metadata": {},
   "outputs": [],
   "source": [
    "# Models\n",
    "from sklearn import svm\n",
    "from sklearn.linear_model import LogisticRegression\n",
    "import pickle\n",
    "\n",
    "# Data\n",
    "import pandas as pd\n",
    "import numpy as np\n",
    "\n",
    "# Dataviz\n",
    "import plotly.express as px\n",
    "\n",
    "# ML\n",
    "from sklearn.model_selection import train_test_split, cross_val_score\n",
    "from sklearn.metrics import accuracy_score, classification_report, confusion_matrix\n",
    "from sklearn.preprocessing import StandardScaler"
   ]
  },
  {
   "cell_type": "markdown",
   "metadata": {},
   "source": [
    "Training-Test set"
   ]
  },
  {
   "cell_type": "code",
   "execution_count": 2,
   "metadata": {},
   "outputs": [],
   "source": [
    "data = pd.read_csv('dataset.csv')\n",
    "X = data.drop('win', axis=1)\n",
    "y = data.win"
   ]
  },
  {
   "cell_type": "code",
   "execution_count": 4,
   "metadata": {},
   "outputs": [
    {
     "data": {
      "text/plain": [
       "0      -0.004728\n",
       "1       0.004728\n",
       "2       0.394395\n",
       "3      -0.394395\n",
       "4       2.561767\n",
       "          ...   \n",
       "5329   -1.073942\n",
       "5330    1.432983\n",
       "5331   -1.432983\n",
       "5332    0.552426\n",
       "5333   -0.552426\n",
       "Name: xG, Length: 5334, dtype: float64"
      ]
     },
     "execution_count": 4,
     "metadata": {},
     "output_type": "execute_result"
    }
   ],
   "source": [
    "data.xG"
   ]
  },
  {
   "cell_type": "code",
   "execution_count": 8,
   "metadata": {},
   "outputs": [],
   "source": [
    "# Split your data\n",
    "X_train, X_test, y_train, y_test = train_test_split(X, y, test_size=0.2, random_state=42)"
   ]
  },
  {
   "cell_type": "code",
   "execution_count": 9,
   "metadata": {},
   "outputs": [],
   "source": [
    "std_scaler = StandardScaler()\n",
    "X_train_scaled = std_scaler.fit_transform(X_train)\n",
    "X_test_scaled = std_scaler.fit_transform(X_test)"
   ]
  },
  {
   "cell_type": "markdown",
   "metadata": {},
   "source": [
    "# SVM"
   ]
  },
  {
   "cell_type": "code",
   "execution_count": 32,
   "metadata": {},
   "outputs": [
    {
     "name": "stdout",
     "output_type": "stream",
     "text": [
      "Cross-validation scores: [0.95673403 0.9525941  0.95591726 0.95279756 0.94967786]\n",
      "Mean cross-validation score: 0.9535441609490733\n",
      "Accuracy on test set: 0.9543728298611112\n",
      "              precision    recall  f1-score   support\n",
      "\n",
      "           0       0.96      0.97      0.96     11643\n",
      "           1       0.95      0.93      0.94      6789\n",
      "\n",
      "    accuracy                           0.95     18432\n",
      "   macro avg       0.95      0.95      0.95     18432\n",
      "weighted avg       0.95      0.95      0.95     18432\n",
      "\n",
      "[[11287   356]\n",
      " [  485  6304]]\n"
     ]
    }
   ],
   "source": [
    "# Create the SVM model\n",
    "# Using a linear kernel for simplicity\n",
    "SVM_clf = svm.SVC(kernel='linear')\n",
    "\n",
    "# Perform cross-validation\n",
    "# Here, we use 5-fold cross-validation, but you can adjust the number of folds as needed\n",
    "SVM_scores = cross_val_score(SVM_clf, X_train_scaled, y_train, cv=5, scoring='accuracy', n_jobs=-1)\n",
    "\n",
    "# Print the cross-validation scores\n",
    "print(\"Cross-validation scores:\", SVM_scores)\n",
    "print(\"Mean cross-validation score:\", np.mean(SVM_scores))\n",
    "\n",
    "# Train the model on the entire training set\n",
    "SVM_clf.fit(X_train_scaled, y_train)\n",
    "\n",
    "# Evaluate the model on the test set\n",
    "SVM_pred = SVM_clf.predict(X_test_scaled)\n",
    "print(\"Accuracy on test set:\", accuracy_score(y_test, SVM_pred))\n",
    "print(classification_report(y_test, SVM_pred))\n",
    "print(confusion_matrix(y_test, SVM_pred))"
   ]
  },
  {
   "cell_type": "code",
   "execution_count": 33,
   "metadata": {},
   "outputs": [
    {
     "data": {
      "application/vnd.plotly.v1+json": {
       "config": {
        "plotlyServerURL": "https://plot.ly"
       },
       "data": [
        {
         "alignmentgroup": "True",
         "hovertemplate": "x=%{x}<br>y=%{y}<extra></extra>",
         "legendgroup": "",
         "marker": {
          "color": "#636efa",
          "pattern": {
           "shape": ""
          }
         },
         "name": "",
         "offsetgroup": "",
         "orientation": "v",
         "showlegend": false,
         "textposition": "auto",
         "type": "bar",
         "x": [
          "accurate_pass",
          "accurate_fwd_zone_pass",
          "accurate_back_zone_pass",
          "total_pass",
          "total_fwd_zone_pass",
          "total_fastbreak",
          "pen_goals_conceded",
          "leftside_pass",
          "rightside_pass",
          "total_back_zone_pass",
          "big_chance_created",
          "ontarget_att_assist",
          "error_lead_to_goal",
          "poss_won_def_3rd",
          "fwd_pass",
          "backward_pass",
          "fouls",
          "poss_won_mid_3rd",
          "total_corners_intobox",
          "att_assist_openplay",
          "accurate_cross",
          "shot_off_target",
          "lost_corners",
          "total_sub_on",
          "xg_against_team",
          "aerial_lost",
          "npxG",
          "outfielder_block",
          "accurate_keeper_throws",
          "goal_assist_intentional",
          "corner_taken",
          "xG",
          "opxA",
          "triangulations_closed",
          "poss_won_att_3rd",
          "total_cross_nocorner",
          "was_fouled",
          "att_assist_setplay",
          "crosses_18yardplus",
          "successful_final_third_passes",
          "total_offside",
          "freekick_cross",
          "red_card",
          "total_chipped_pass",
          "pen_area_entries",
          "final_third_entries",
          "offensive_aerials",
          "touches_buildup_third",
          "total_layoffs",
          "through_balls_received",
          "aerial_won",
          "sum_y_otip_abs",
          "long_pass_own_to_opp_success",
          "touches_attack_third",
          "total_switches",
          "hit_woodwork",
          "unsuccessful_touch",
          "turnover",
          "accurate_throws",
          "defensive_aerials",
          "dribbles_widest_third",
          "crosses_18yard",
          "op_six_yard_shots",
          "interceptions_in_box",
          "carries",
          "opxA_cross",
          "last_man_tackle",
          "xT_from_passes_received",
          "second_goal_assist",
          "xT_from_passes",
          "cutbacks_received",
          "sum_y_tip_abs",
          "xT",
          "total_flick_on",
          "punches",
          "xT_from_carries",
          "dribbles",
          "progressive_successful_switches",
          "total_launches",
          "dribbles_final_third",
          "accurate_launches",
          "prog_carries",
          "accurate_flick_on",
          "accurate_long_balls",
          "total_throws",
          "total_progressive_switches",
          "dangerous_play",
          "blocked_pass",
          "successful_put_through",
          "op_obox_shots",
          "put_through",
          "overrun",
          "total_pull_back",
          "interception_won",
          "interception",
          "rescinded_red_card",
          "defensive_actions_height",
          "foul_throw_in",
          "back_pass",
          "yellow_card",
          "fifty_fifty",
          "sum_y_tip",
          "accurate_freekick_cross",
          "penalty_save",
          "attempted_tackle_foul",
          "gpi",
          "six_yard_block",
          "successful_fifty_fifty",
          "shield_ball_oop",
          "won_tackle",
          "effective_blocked_cross",
          "blocked_cross",
          "xA",
          "total_high_claim",
          "second_yellow",
          "blocked_scoring_att",
          "offside_provoked",
          "offtarget_att_assist",
          "head_pass",
          "head_clearance",
          "effective_head_clearance",
          "hand_ball",
          "fouled_final_third",
          "sum_y_otip",
          "op_ibox_shots",
          "total_through_ball",
          "cross_not_claimed",
          "effective_clearance",
          "total_clearance",
          "accurate_pull_back",
          "progressive_passes",
          "sum_x_otip",
          "prog_carries_final_third",
          "times_tackled",
          "touches_defensive_third",
          "xGoTA",
          "error_lead_to_shot",
          "tackles_out_def_third",
          "post_scoring_att",
          "clearance_off_line",
          "xG_setpieces_for",
          "total_long_balls",
          "successful_switches",
          "poss_lost_all",
          "poss_lost_ctrl",
          "passes_left",
          "assist_handball_won",
          "accurate_through_ball",
          "assist_penalty_won",
          "assist_own_goal",
          "penalty_won",
          "goal_assist_deadball",
          "long_pass_own_to_opp",
          "accurate_chipped_pass",
          "passes_right",
          "accurate_layoffs",
          "xA_received",
          "total_scoring_att",
          "dispossessed",
          "SGA",
          "sum_x_tip",
          "triangulations_made",
          "touches_in_opp_box",
          "duel_won",
          "penalty_conceded",
          "accurate_goal_kicks",
          "won_contest",
          "total_final_third_passes",
          "own_goals",
          "total_contest",
          "accurate_corners_intobox",
          "goal_assist_setplay",
          "challenge_lost",
          "won_corners",
          "xOVA",
          "assist_post",
          "opxG",
          "total_cross",
          "xGoT",
          "total_sub_off",
          "accurate_cross_nocorner",
          "total_tackle",
          "xg_blocked",
          "duel_lost",
          "goal_fastbreak",
          "assist_blocked_shot",
          "big_chance_missed",
          "ball_recovery",
          "goal_assist_openplay",
          "assist_pass_lost",
          "assist_free_kick_won",
          "assist_attempt_saved",
          "total_att_assist",
          "ontarget_scoring_att",
          "big_chance_scored",
          "shot_fastbreak",
          "touches",
          "open_play_pass",
          "goal_assist",
          "successful_open_play_pass"
         ],
         "xaxis": "x",
         "y": [
          -1.9898944610015743,
          -1.626180432449134,
          -1.4960968762351807,
          -1.2740906658984248,
          -1.1949681848284057,
          -1.1288362865987773,
          -0.9234081542413752,
          -0.8820549550411063,
          -0.8437129731207489,
          -0.7799425358792458,
          -0.633018811413752,
          -0.5691695525545815,
          -0.4553561967669517,
          -0.42868171467955074,
          -0.415923401999025,
          -0.41236198100409327,
          -0.4111522433794252,
          -0.40880753660573266,
          -0.3949932616028211,
          -0.37587616967255166,
          -0.33446257589952844,
          -0.29628531881376874,
          -0.28736826420899386,
          -0.28110243988979455,
          -0.22800298071204628,
          -0.2004367013880759,
          -0.18570853696084422,
          -0.18134244305143232,
          -0.1763122077904371,
          -0.1733677705753156,
          -0.1497457358605811,
          -0.14422678919522092,
          -0.1433906511278329,
          -0.13810672727576379,
          -0.13789632666367613,
          -0.12906254394325978,
          -0.12853158832473782,
          -0.12200664945353878,
          -0.11737858355511976,
          -0.11483682669472661,
          -0.11173423111595848,
          -0.11067046108442224,
          -0.10632385694458407,
          -0.10516348229415251,
          -0.09812769850136183,
          -0.09477546096168987,
          -0.0898930134760707,
          -0.07521961017080869,
          -0.06490888157954933,
          -0.060514235093592106,
          -0.05801991606427881,
          -0.05708418976171825,
          -0.05622453687261908,
          -0.05593864477441446,
          -0.05153504441947554,
          -0.05135711875908733,
          -0.05076111022991103,
          -0.05076111022991103,
          -0.04453148253259187,
          -0.044488149098218965,
          -0.04280101533058489,
          -0.04253920845207823,
          -0.03764200885745428,
          -0.03219721862890346,
          -0.029690656641629065,
          -0.024780701943317496,
          -0.024051151417157364,
          -0.021968620080057122,
          -0.021125512889208817,
          -0.020745817794848964,
          -0.02072588985475094,
          -0.020517138092844167,
          -0.01841393087208626,
          -0.01758571103453274,
          -0.01672768668796687,
          -0.014634626903453296,
          -0.013056785535826343,
          -0.0116991991581048,
          -0.01096415830261277,
          -0.010162066685292626,
          -0.00993686346930489,
          -0.009260683044035933,
          -0.008251382719141876,
          -0.00807800266160369,
          -0.007390579293935717,
          -0.0072852144940343,
          -0.0066610144217434525,
          -0.006280933173451686,
          -0.005218345009456504,
          -0.005164353505510782,
          -0.004417972278579485,
          -0.004080832851158567,
          -0.00211557060830847,
          -0.001209542093856264,
          -0.001209542093856264,
          3.106182411977132e-12,
          0.0003568676093225198,
          0.0008171602573445662,
          0.002092922604498368,
          0.0024418195915543173,
          0.003271284676833478,
          0.004375785762508633,
          0.005544623239652554,
          0.006332521373791479,
          0.007058319266007751,
          0.007934847129899225,
          0.00869380418655255,
          0.008733818797016228,
          0.010467691255965968,
          0.01473839539292321,
          0.015039368441623957,
          0.015039368441623957,
          0.01620779022712604,
          0.01705854142216401,
          0.018064627554822632,
          0.018226466811991304,
          0.018264685445173567,
          0.018391683321734797,
          0.01843562828889067,
          0.01868751795562762,
          0.01868751795562762,
          0.01989383664713118,
          0.020598517171933395,
          0.021869965891442522,
          0.022145289866258744,
          0.022853984421070495,
          0.022987869630794577,
          0.02792915183538114,
          0.02792915183538114,
          0.029148041898929677,
          0.03425271501437588,
          0.03576452912759498,
          0.03933932266545037,
          0.04175499111102288,
          0.04501415654645391,
          0.04628311687194242,
          0.04628455931883001,
          0.048062565723532735,
          0.04830634084811744,
          0.048419092440037045,
          0.049234888183283365,
          0.055781397450208825,
          0.05596965683368771,
          0.05684600889311131,
          0.05684600889311131,
          0.0574360844973294,
          0.05875825980112287,
          0.05890053016249086,
          0.06017899988509912,
          0.06108025597089583,
          0.06663664858981004,
          0.06720760334142709,
          0.0692959169984938,
          0.0695071773387419,
          0.08318885796268916,
          0.09177168531018942,
          0.1041034720545955,
          0.10735414117283337,
          0.11330447944096367,
          0.12218311843475183,
          0.12334006713997048,
          0.15021584922405723,
          0.16055174687294027,
          0.16246796381670048,
          0.16923324971563125,
          0.17298744303837155,
          0.17524259066656966,
          0.1813429417168373,
          0.18341265322184389,
          0.1860521699458293,
          0.19275436623131204,
          0.1944884481104865,
          0.21198812984148507,
          0.2136624013298462,
          0.22107606091815457,
          0.24833643281045603,
          0.2569456573435678,
          0.26091800023698164,
          0.28011509679408364,
          0.2935730412872075,
          0.3102595684508719,
          0.31520419031809555,
          0.33772419329277026,
          0.3534499037281056,
          0.37555102240413,
          0.39461300541867916,
          0.41282340685219543,
          0.4160407266856496,
          0.45703444586788877,
          0.5064261578535453,
          0.5304575665397699,
          0.5607729426902996,
          0.5692550769925253,
          0.5726559217835436,
          0.8476239146438265,
          0.9455767593158807,
          1.0177672009177905,
          2.2173585469295034,
          3.187264488116508,
          6.9054505129202735
         ],
         "yaxis": "y"
        }
       ],
       "layout": {
        "barmode": "relative",
        "legend": {
         "tracegroupgap": 0
        },
        "margin": {
         "t": 60
        },
        "template": {
         "data": {
          "bar": [
           {
            "error_x": {
             "color": "#2a3f5f"
            },
            "error_y": {
             "color": "#2a3f5f"
            },
            "marker": {
             "line": {
              "color": "#E5ECF6",
              "width": 0.5
             },
             "pattern": {
              "fillmode": "overlay",
              "size": 10,
              "solidity": 0.2
             }
            },
            "type": "bar"
           }
          ],
          "barpolar": [
           {
            "marker": {
             "line": {
              "color": "#E5ECF6",
              "width": 0.5
             },
             "pattern": {
              "fillmode": "overlay",
              "size": 10,
              "solidity": 0.2
             }
            },
            "type": "barpolar"
           }
          ],
          "carpet": [
           {
            "aaxis": {
             "endlinecolor": "#2a3f5f",
             "gridcolor": "white",
             "linecolor": "white",
             "minorgridcolor": "white",
             "startlinecolor": "#2a3f5f"
            },
            "baxis": {
             "endlinecolor": "#2a3f5f",
             "gridcolor": "white",
             "linecolor": "white",
             "minorgridcolor": "white",
             "startlinecolor": "#2a3f5f"
            },
            "type": "carpet"
           }
          ],
          "choropleth": [
           {
            "colorbar": {
             "outlinewidth": 0,
             "ticks": ""
            },
            "type": "choropleth"
           }
          ],
          "contour": [
           {
            "colorbar": {
             "outlinewidth": 0,
             "ticks": ""
            },
            "colorscale": [
             [
              0,
              "#0d0887"
             ],
             [
              0.1111111111111111,
              "#46039f"
             ],
             [
              0.2222222222222222,
              "#7201a8"
             ],
             [
              0.3333333333333333,
              "#9c179e"
             ],
             [
              0.4444444444444444,
              "#bd3786"
             ],
             [
              0.5555555555555556,
              "#d8576b"
             ],
             [
              0.6666666666666666,
              "#ed7953"
             ],
             [
              0.7777777777777778,
              "#fb9f3a"
             ],
             [
              0.8888888888888888,
              "#fdca26"
             ],
             [
              1,
              "#f0f921"
             ]
            ],
            "type": "contour"
           }
          ],
          "contourcarpet": [
           {
            "colorbar": {
             "outlinewidth": 0,
             "ticks": ""
            },
            "type": "contourcarpet"
           }
          ],
          "heatmap": [
           {
            "colorbar": {
             "outlinewidth": 0,
             "ticks": ""
            },
            "colorscale": [
             [
              0,
              "#0d0887"
             ],
             [
              0.1111111111111111,
              "#46039f"
             ],
             [
              0.2222222222222222,
              "#7201a8"
             ],
             [
              0.3333333333333333,
              "#9c179e"
             ],
             [
              0.4444444444444444,
              "#bd3786"
             ],
             [
              0.5555555555555556,
              "#d8576b"
             ],
             [
              0.6666666666666666,
              "#ed7953"
             ],
             [
              0.7777777777777778,
              "#fb9f3a"
             ],
             [
              0.8888888888888888,
              "#fdca26"
             ],
             [
              1,
              "#f0f921"
             ]
            ],
            "type": "heatmap"
           }
          ],
          "heatmapgl": [
           {
            "colorbar": {
             "outlinewidth": 0,
             "ticks": ""
            },
            "colorscale": [
             [
              0,
              "#0d0887"
             ],
             [
              0.1111111111111111,
              "#46039f"
             ],
             [
              0.2222222222222222,
              "#7201a8"
             ],
             [
              0.3333333333333333,
              "#9c179e"
             ],
             [
              0.4444444444444444,
              "#bd3786"
             ],
             [
              0.5555555555555556,
              "#d8576b"
             ],
             [
              0.6666666666666666,
              "#ed7953"
             ],
             [
              0.7777777777777778,
              "#fb9f3a"
             ],
             [
              0.8888888888888888,
              "#fdca26"
             ],
             [
              1,
              "#f0f921"
             ]
            ],
            "type": "heatmapgl"
           }
          ],
          "histogram": [
           {
            "marker": {
             "pattern": {
              "fillmode": "overlay",
              "size": 10,
              "solidity": 0.2
             }
            },
            "type": "histogram"
           }
          ],
          "histogram2d": [
           {
            "colorbar": {
             "outlinewidth": 0,
             "ticks": ""
            },
            "colorscale": [
             [
              0,
              "#0d0887"
             ],
             [
              0.1111111111111111,
              "#46039f"
             ],
             [
              0.2222222222222222,
              "#7201a8"
             ],
             [
              0.3333333333333333,
              "#9c179e"
             ],
             [
              0.4444444444444444,
              "#bd3786"
             ],
             [
              0.5555555555555556,
              "#d8576b"
             ],
             [
              0.6666666666666666,
              "#ed7953"
             ],
             [
              0.7777777777777778,
              "#fb9f3a"
             ],
             [
              0.8888888888888888,
              "#fdca26"
             ],
             [
              1,
              "#f0f921"
             ]
            ],
            "type": "histogram2d"
           }
          ],
          "histogram2dcontour": [
           {
            "colorbar": {
             "outlinewidth": 0,
             "ticks": ""
            },
            "colorscale": [
             [
              0,
              "#0d0887"
             ],
             [
              0.1111111111111111,
              "#46039f"
             ],
             [
              0.2222222222222222,
              "#7201a8"
             ],
             [
              0.3333333333333333,
              "#9c179e"
             ],
             [
              0.4444444444444444,
              "#bd3786"
             ],
             [
              0.5555555555555556,
              "#d8576b"
             ],
             [
              0.6666666666666666,
              "#ed7953"
             ],
             [
              0.7777777777777778,
              "#fb9f3a"
             ],
             [
              0.8888888888888888,
              "#fdca26"
             ],
             [
              1,
              "#f0f921"
             ]
            ],
            "type": "histogram2dcontour"
           }
          ],
          "mesh3d": [
           {
            "colorbar": {
             "outlinewidth": 0,
             "ticks": ""
            },
            "type": "mesh3d"
           }
          ],
          "parcoords": [
           {
            "line": {
             "colorbar": {
              "outlinewidth": 0,
              "ticks": ""
             }
            },
            "type": "parcoords"
           }
          ],
          "pie": [
           {
            "automargin": true,
            "type": "pie"
           }
          ],
          "scatter": [
           {
            "fillpattern": {
             "fillmode": "overlay",
             "size": 10,
             "solidity": 0.2
            },
            "type": "scatter"
           }
          ],
          "scatter3d": [
           {
            "line": {
             "colorbar": {
              "outlinewidth": 0,
              "ticks": ""
             }
            },
            "marker": {
             "colorbar": {
              "outlinewidth": 0,
              "ticks": ""
             }
            },
            "type": "scatter3d"
           }
          ],
          "scattercarpet": [
           {
            "marker": {
             "colorbar": {
              "outlinewidth": 0,
              "ticks": ""
             }
            },
            "type": "scattercarpet"
           }
          ],
          "scattergeo": [
           {
            "marker": {
             "colorbar": {
              "outlinewidth": 0,
              "ticks": ""
             }
            },
            "type": "scattergeo"
           }
          ],
          "scattergl": [
           {
            "marker": {
             "colorbar": {
              "outlinewidth": 0,
              "ticks": ""
             }
            },
            "type": "scattergl"
           }
          ],
          "scattermapbox": [
           {
            "marker": {
             "colorbar": {
              "outlinewidth": 0,
              "ticks": ""
             }
            },
            "type": "scattermapbox"
           }
          ],
          "scatterpolar": [
           {
            "marker": {
             "colorbar": {
              "outlinewidth": 0,
              "ticks": ""
             }
            },
            "type": "scatterpolar"
           }
          ],
          "scatterpolargl": [
           {
            "marker": {
             "colorbar": {
              "outlinewidth": 0,
              "ticks": ""
             }
            },
            "type": "scatterpolargl"
           }
          ],
          "scatterternary": [
           {
            "marker": {
             "colorbar": {
              "outlinewidth": 0,
              "ticks": ""
             }
            },
            "type": "scatterternary"
           }
          ],
          "surface": [
           {
            "colorbar": {
             "outlinewidth": 0,
             "ticks": ""
            },
            "colorscale": [
             [
              0,
              "#0d0887"
             ],
             [
              0.1111111111111111,
              "#46039f"
             ],
             [
              0.2222222222222222,
              "#7201a8"
             ],
             [
              0.3333333333333333,
              "#9c179e"
             ],
             [
              0.4444444444444444,
              "#bd3786"
             ],
             [
              0.5555555555555556,
              "#d8576b"
             ],
             [
              0.6666666666666666,
              "#ed7953"
             ],
             [
              0.7777777777777778,
              "#fb9f3a"
             ],
             [
              0.8888888888888888,
              "#fdca26"
             ],
             [
              1,
              "#f0f921"
             ]
            ],
            "type": "surface"
           }
          ],
          "table": [
           {
            "cells": {
             "fill": {
              "color": "#EBF0F8"
             },
             "line": {
              "color": "white"
             }
            },
            "header": {
             "fill": {
              "color": "#C8D4E3"
             },
             "line": {
              "color": "white"
             }
            },
            "type": "table"
           }
          ]
         },
         "layout": {
          "annotationdefaults": {
           "arrowcolor": "#2a3f5f",
           "arrowhead": 0,
           "arrowwidth": 1
          },
          "autotypenumbers": "strict",
          "coloraxis": {
           "colorbar": {
            "outlinewidth": 0,
            "ticks": ""
           }
          },
          "colorscale": {
           "diverging": [
            [
             0,
             "#8e0152"
            ],
            [
             0.1,
             "#c51b7d"
            ],
            [
             0.2,
             "#de77ae"
            ],
            [
             0.3,
             "#f1b6da"
            ],
            [
             0.4,
             "#fde0ef"
            ],
            [
             0.5,
             "#f7f7f7"
            ],
            [
             0.6,
             "#e6f5d0"
            ],
            [
             0.7,
             "#b8e186"
            ],
            [
             0.8,
             "#7fbc41"
            ],
            [
             0.9,
             "#4d9221"
            ],
            [
             1,
             "#276419"
            ]
           ],
           "sequential": [
            [
             0,
             "#0d0887"
            ],
            [
             0.1111111111111111,
             "#46039f"
            ],
            [
             0.2222222222222222,
             "#7201a8"
            ],
            [
             0.3333333333333333,
             "#9c179e"
            ],
            [
             0.4444444444444444,
             "#bd3786"
            ],
            [
             0.5555555555555556,
             "#d8576b"
            ],
            [
             0.6666666666666666,
             "#ed7953"
            ],
            [
             0.7777777777777778,
             "#fb9f3a"
            ],
            [
             0.8888888888888888,
             "#fdca26"
            ],
            [
             1,
             "#f0f921"
            ]
           ],
           "sequentialminus": [
            [
             0,
             "#0d0887"
            ],
            [
             0.1111111111111111,
             "#46039f"
            ],
            [
             0.2222222222222222,
             "#7201a8"
            ],
            [
             0.3333333333333333,
             "#9c179e"
            ],
            [
             0.4444444444444444,
             "#bd3786"
            ],
            [
             0.5555555555555556,
             "#d8576b"
            ],
            [
             0.6666666666666666,
             "#ed7953"
            ],
            [
             0.7777777777777778,
             "#fb9f3a"
            ],
            [
             0.8888888888888888,
             "#fdca26"
            ],
            [
             1,
             "#f0f921"
            ]
           ]
          },
          "colorway": [
           "#636efa",
           "#EF553B",
           "#00cc96",
           "#ab63fa",
           "#FFA15A",
           "#19d3f3",
           "#FF6692",
           "#B6E880",
           "#FF97FF",
           "#FECB52"
          ],
          "font": {
           "color": "#2a3f5f"
          },
          "geo": {
           "bgcolor": "white",
           "lakecolor": "white",
           "landcolor": "#E5ECF6",
           "showlakes": true,
           "showland": true,
           "subunitcolor": "white"
          },
          "hoverlabel": {
           "align": "left"
          },
          "hovermode": "closest",
          "mapbox": {
           "style": "light"
          },
          "paper_bgcolor": "white",
          "plot_bgcolor": "#E5ECF6",
          "polar": {
           "angularaxis": {
            "gridcolor": "white",
            "linecolor": "white",
            "ticks": ""
           },
           "bgcolor": "#E5ECF6",
           "radialaxis": {
            "gridcolor": "white",
            "linecolor": "white",
            "ticks": ""
           }
          },
          "scene": {
           "xaxis": {
            "backgroundcolor": "#E5ECF6",
            "gridcolor": "white",
            "gridwidth": 2,
            "linecolor": "white",
            "showbackground": true,
            "ticks": "",
            "zerolinecolor": "white"
           },
           "yaxis": {
            "backgroundcolor": "#E5ECF6",
            "gridcolor": "white",
            "gridwidth": 2,
            "linecolor": "white",
            "showbackground": true,
            "ticks": "",
            "zerolinecolor": "white"
           },
           "zaxis": {
            "backgroundcolor": "#E5ECF6",
            "gridcolor": "white",
            "gridwidth": 2,
            "linecolor": "white",
            "showbackground": true,
            "ticks": "",
            "zerolinecolor": "white"
           }
          },
          "shapedefaults": {
           "line": {
            "color": "#2a3f5f"
           }
          },
          "ternary": {
           "aaxis": {
            "gridcolor": "white",
            "linecolor": "white",
            "ticks": ""
           },
           "baxis": {
            "gridcolor": "white",
            "linecolor": "white",
            "ticks": ""
           },
           "bgcolor": "#E5ECF6",
           "caxis": {
            "gridcolor": "white",
            "linecolor": "white",
            "ticks": ""
           }
          },
          "title": {
           "x": 0.05
          },
          "xaxis": {
           "automargin": true,
           "gridcolor": "white",
           "linecolor": "white",
           "ticks": "",
           "title": {
            "standoff": 15
           },
           "zerolinecolor": "white",
           "zerolinewidth": 2
          },
          "yaxis": {
           "automargin": true,
           "gridcolor": "white",
           "linecolor": "white",
           "ticks": "",
           "title": {
            "standoff": 15
           },
           "zerolinecolor": "white",
           "zerolinewidth": 2
          }
         }
        },
        "xaxis": {
         "anchor": "y",
         "domain": [
          0,
          1
         ],
         "title": {
          "text": "x"
         }
        },
        "yaxis": {
         "anchor": "x",
         "domain": [
          0,
          1
         ],
         "title": {
          "text": "y"
         }
        }
       }
      }
     },
     "metadata": {},
     "output_type": "display_data"
    }
   ],
   "source": [
    "# Your coefficients array\n",
    "coefficients = SVM_clf.coef_[0]\n",
    "\n",
    "# Example column names, replace these with your actual column names\n",
    "column_names = X_train.columns\n",
    "\n",
    "# Ensure the lengths match\n",
    "assert len(coefficients) == len(column_names), \"Coefficients and column names must have the same length.\"\n",
    "\n",
    "# Sort coefficients and column names by the coefficients\n",
    "sorted_indices = np.argsort((coefficients))\n",
    "sorted_coefficients = coefficients[sorted_indices]\n",
    "sorted_column_names = [column_names[i] for i in sorted_indices]\n",
    "\n",
    "# Plot using Plotly Express\n",
    "fig = px.bar(x=sorted_column_names, y=sorted_coefficients)\n",
    "fig.show()"
   ]
  },
  {
   "cell_type": "markdown",
   "metadata": {},
   "source": [
    "# LOGISTIC"
   ]
  },
  {
   "cell_type": "code",
   "execution_count": 10,
   "metadata": {},
   "outputs": [
    {
     "name": "stdout",
     "output_type": "stream",
     "text": [
      "Cross-validation scores: [0.95442832 0.95103425 0.9557138  0.95266192 0.94574432]\n",
      "Mean cross-validation score: 0.9519165218267949\n",
      "Accuracy on test set: 0.9530707465277778\n",
      "              precision    recall  f1-score   support\n",
      "\n",
      "           0       0.96      0.97      0.96     11643\n",
      "           1       0.95      0.92      0.94      6789\n",
      "\n",
      "    accuracy                           0.95     18432\n",
      "   macro avg       0.95      0.95      0.95     18432\n",
      "weighted avg       0.95      0.95      0.95     18432\n",
      "\n",
      "[[11293   350]\n",
      " [  515  6274]]\n"
     ]
    }
   ],
   "source": [
    "# Create the Logistic Regression model\n",
    "LOG_clf = LogisticRegression(max_iter=1000)\n",
    "\n",
    "# Perform cross-validation\n",
    "# Here, we use 5-fold cross-validation, but you can adjust the number of folds as needed\n",
    "LOG_scores = cross_val_score(LOG_clf, X_train_scaled, y_train, cv=5, scoring='accuracy', n_jobs=8)\n",
    "\n",
    "# Print the cross-validation scores\n",
    "print(\"Cross-validation scores:\", LOG_scores)\n",
    "print(\"Mean cross-validation score:\", np.mean(LOG_scores))\n",
    "\n",
    "# Train the model on the entire training set\n",
    "LOG_clf.fit(X_train_scaled, y_train)\n",
    "\n",
    "# Evaluate the model on the test set\n",
    "LOG_pred = LOG_clf.predict(X_test_scaled)\n",
    "print(\"Accuracy on test set:\", accuracy_score(y_test, LOG_pred))\n",
    "print(classification_report(y_test, LOG_pred))\n",
    "print(confusion_matrix(y_test, LOG_pred))\n"
   ]
  },
  {
   "cell_type": "code",
   "execution_count": 11,
   "metadata": {},
   "outputs": [
    {
     "data": {
      "application/vnd.plotly.v1+json": {
       "config": {
        "plotlyServerURL": "https://plot.ly"
       },
       "data": [
        {
         "alignmentgroup": "True",
         "hovertemplate": "x=%{x}<br>y=%{y}<extra></extra>",
         "legendgroup": "",
         "marker": {
          "color": "#636efa",
          "pattern": {
           "shape": ""
          }
         },
         "name": "",
         "offsetgroup": "",
         "orientation": "v",
         "showlegend": false,
         "textposition": "auto",
         "type": "bar",
         "x": [
          "att_assist_openplay",
          "att_assist_setplay",
          "accurate_pass",
          "accurate_fwd_zone_pass",
          "leftside_pass",
          "total_pass",
          "accurate_back_zone_pass",
          "total_fwd_zone_pass",
          "rightside_pass",
          "total_fastbreak",
          "shot_off_target",
          "pen_goals_conceded",
          "total_back_zone_pass",
          "big_chance_created",
          "poss_won_def_3rd",
          "fwd_pass",
          "poss_won_mid_3rd",
          "backward_pass",
          "fouls",
          "accurate_cross",
          "error_lead_to_goal",
          "total_corners_intobox",
          "blocked_scoring_att",
          "total_sub_on",
          "aerial_lost",
          "xg_against_team",
          "lost_corners",
          "outfielder_block",
          "opxA",
          "accurate_keeper_throws",
          "crosses_18yardplus",
          "offensive_aerials",
          "poss_won_att_3rd",
          "freekick_cross",
          "red_card",
          "was_fouled",
          "total_chipped_pass",
          "npxG",
          "defensive_aerials",
          "long_pass_own_to_opp_success",
          "crosses_18yard",
          "successful_final_third_passes",
          "final_third_entries",
          "accurate_throws",
          "pen_area_entries",
          "total_switches",
          "total_layoffs",
          "unsuccessful_touch",
          "turnover",
          "hit_woodwork",
          "xG",
          "aerial_won",
          "through_balls_received",
          "carries",
          "op_six_yard_shots",
          "dribbles",
          "total_offside",
          "xT_from_passes_received",
          "interceptions_in_box",
          "prog_carries",
          "triangulations_closed",
          "total_flick_on",
          "cutbacks_received",
          "last_man_tackle",
          "opxA_cross",
          "progressive_successful_switches",
          "punches",
          "penalty_save",
          "accurate_launches",
          "accurate_long_balls",
          "accurate_flick_on",
          "put_through",
          "xT_from_carries",
          "xT",
          "dribbles_widest_third",
          "op_ibox_shots",
          "successful_put_through",
          "interception",
          "interception_won",
          "xT_from_passes",
          "overrun",
          "total_contest",
          "dangerous_play",
          "dispossessed",
          "op_obox_shots",
          "total_progressive_switches",
          "successful_fifty_fifty",
          "rescinded_red_card",
          "blocked_pass",
          "back_pass",
          "touches_buildup_third",
          "corner_taken",
          "defensive_actions_height",
          "foul_throw_in",
          "total_launches",
          "six_yard_block",
          "yellow_card",
          "total_pull_back",
          "blocked_cross",
          "effective_blocked_cross",
          "gpi",
          "dribbles_final_third",
          "accurate_freekick_cross",
          "shield_ball_oop",
          "fifty_fifty",
          "won_tackle",
          "accurate_pull_back",
          "head_clearance",
          "effective_head_clearance",
          "cross_not_claimed",
          "total_high_claim",
          "head_pass",
          "second_yellow",
          "touches_attack_third",
          "xGoTA",
          "total_throws",
          "hand_ball",
          "total_through_ball",
          "attempted_tackle_foul",
          "effective_clearance",
          "total_clearance",
          "triangulations_made",
          "times_tackled",
          "progressive_passes",
          "total_cross",
          "fouled_final_third",
          "poss_lost_all",
          "poss_lost_ctrl",
          "accurate_through_ball",
          "error_lead_to_shot",
          "tackles_out_def_third",
          "xA",
          "clearance_off_line",
          "xG_setpieces_for",
          "touches_defensive_third",
          "total_long_balls",
          "post_scoring_att",
          "successful_switches",
          "assist_handball_won",
          "assist_penalty_won",
          "prog_carries_final_third",
          "offside_provoked",
          "accurate_layoffs",
          "penalty_won",
          "passes_right",
          "duel_won",
          "accurate_chipped_pass",
          "passes_left",
          "long_pass_own_to_opp",
          "xA_received",
          "won_corners",
          "challenge_lost",
          "total_cross_nocorner",
          "total_final_third_passes",
          "own_goals",
          "accurate_goal_kicks",
          "assist_post",
          "total_tackle",
          "SGA",
          "penalty_conceded",
          "accurate_corners_intobox",
          "touches_in_opp_box",
          "xOVA",
          "xGoT",
          "won_contest",
          "opxG",
          "goal_fastbreak",
          "total_sub_off",
          "big_chance_missed",
          "assist_blocked_shot",
          "accurate_cross_nocorner",
          "ontarget_scoring_att",
          "duel_lost",
          "xg_blocked",
          "assist_pass_lost",
          "assist_attempt_saved",
          "assist_free_kick_won",
          "ball_recovery",
          "shot_fastbreak",
          "big_chance_scored",
          "total_scoring_att",
          "touches",
          "open_play_pass",
          "total_att_assist",
          "offtarget_att_assist",
          "successful_open_play_pass",
          "ontarget_att_assist"
         ],
         "xaxis": "x",
         "y": [
          -19.825800629855088,
          -6.468224902333171,
          -2.159879104900752,
          -1.9512068138853593,
          -1.8647046628537332,
          -1.8082872773421632,
          -1.8041653426392794,
          -1.7748158416686068,
          -1.7481985829616102,
          -1.3841790844739026,
          -1.346474739999943,
          -1.2883664090453286,
          -1.2029764592425027,
          -0.9571959818770646,
          -0.9368343503516565,
          -0.9047447755218904,
          -0.874373269920602,
          -0.8370624268851619,
          -0.8070517023752511,
          -0.66820063290842,
          -0.6651598280719995,
          -0.6037145606287716,
          -0.5560346409417485,
          -0.4859487244474889,
          -0.4711845349116969,
          -0.4030620869068597,
          -0.3965244730307884,
          -0.3935645964763936,
          -0.38449672290263637,
          -0.37365292674542006,
          -0.34139519259597795,
          -0.296575887549312,
          -0.2898693113369639,
          -0.26012150454037436,
          -0.2563966486050048,
          -0.25562904519033336,
          -0.24741319902132358,
          -0.23968049189767665,
          -0.21839459820875887,
          -0.2124644800106927,
          -0.19790487576053944,
          -0.17363255737171956,
          -0.1578964254434455,
          -0.14680489864063,
          -0.1421870225936288,
          -0.1187891689295791,
          -0.10845335615483567,
          -0.1013694445448604,
          -0.1013694445448604,
          -0.0987471110410842,
          -0.09475065869129891,
          -0.09052684024347159,
          -0.09018150711859815,
          -0.08982872634192343,
          -0.0742983099979854,
          -0.07146223157388411,
          -0.06482545203467893,
          -0.06188596096215206,
          -0.05941821979093283,
          -0.05475415976583625,
          -0.052789361920973686,
          -0.04978407150994316,
          -0.04737462761819692,
          -0.038110833563118854,
          -0.03803791298743472,
          -0.03275924631832366,
          -0.03179303760705454,
          -0.030979736895432736,
          -0.026953490819371814,
          -0.026935746682886685,
          -0.026664066588807607,
          -0.026543138414698474,
          -0.026241891193691462,
          -0.02055407673730509,
          -0.018496155277988095,
          -0.0166702773474862,
          -0.015729793942553028,
          -0.015493593614515942,
          -0.015493593614515942,
          -0.015445923634945376,
          -0.014938193249308937,
          -0.01021791057016629,
          -0.007147713513572959,
          -0.0067074923044208225,
          -0.006341882575234168,
          -0.006236185535492876,
          -0.004400116589569732,
          -0.002865880551827987,
          -0.0022046099407121837,
          -0.0008103880299733763,
          0.0002823042189243218,
          0.0002881295009739201,
          0.0019379134660834965,
          0.0031892040268725395,
          0.008443410703915508,
          0.008924283271583563,
          0.009212584599674995,
          0.012637760469826717,
          0.014011517435508214,
          0.014011517435508214,
          0.016192731957162254,
          0.019861833073965447,
          0.026876354576500176,
          0.027315889750913196,
          0.028063861618209642,
          0.030047939612444174,
          0.03468465466768788,
          0.042077640545238715,
          0.042077640545238715,
          0.0422768100470001,
          0.04250248708501051,
          0.044155985898141924,
          0.047295048619773745,
          0.047799787924096636,
          0.05184257969848462,
          0.0526252889335698,
          0.0554209021508477,
          0.05572608694959491,
          0.05784322787482556,
          0.058567694432932305,
          0.058567694432932305,
          0.062368284401106394,
          0.06347187871656117,
          0.06804529857214513,
          0.0697302980189362,
          0.07022514289686049,
          0.07604415159226806,
          0.07604415159226806,
          0.07927004064350211,
          0.08507764388909056,
          0.08824016171109468,
          0.08866891380298603,
          0.0976679608202322,
          0.09774661782935987,
          0.09924494129467407,
          0.10127745242286597,
          0.10240426077695276,
          0.11193943263750736,
          0.11569863297362497,
          0.12381856505623678,
          0.1323674034232125,
          0.14747671780558555,
          0.15071302485909438,
          0.15268476595507954,
          0.1542574153071358,
          0.15680013848206,
          0.16897748802106058,
          0.177149575407621,
          0.19751917724269957,
          0.22735507550518874,
          0.23454066020781694,
          0.24443594393446724,
          0.24503000477004538,
          0.24853856863029566,
          0.25497979532645265,
          0.2576956797140635,
          0.3242048068357923,
          0.34478819380462833,
          0.3528115676338266,
          0.3696156641833824,
          0.37248338287931554,
          0.3740989042469416,
          0.3760613912315989,
          0.39424728829487166,
          0.4598336932162806,
          0.4674662608722676,
          0.4723301419410034,
          0.503267418523754,
          0.5367449448474982,
          0.5615949608437425,
          0.5796442781876627,
          0.6440952532575849,
          0.6505576792046075,
          0.7060968536369169,
          0.7084055847904547,
          0.7596882821545252,
          0.7760493769681135,
          0.9375695297451135,
          1.1955098864765135,
          1.4140352887951666,
          1.7639818619626126,
          2.3113491871275618,
          3.5187384061234406,
          7.372166344746005,
          8.653664747457418,
          9.129813280771865,
          9.732813192219806
         ],
         "yaxis": "y"
        }
       ],
       "layout": {
        "barmode": "relative",
        "legend": {
         "tracegroupgap": 0
        },
        "margin": {
         "t": 60
        },
        "template": {
         "data": {
          "bar": [
           {
            "error_x": {
             "color": "#2a3f5f"
            },
            "error_y": {
             "color": "#2a3f5f"
            },
            "marker": {
             "line": {
              "color": "#E5ECF6",
              "width": 0.5
             },
             "pattern": {
              "fillmode": "overlay",
              "size": 10,
              "solidity": 0.2
             }
            },
            "type": "bar"
           }
          ],
          "barpolar": [
           {
            "marker": {
             "line": {
              "color": "#E5ECF6",
              "width": 0.5
             },
             "pattern": {
              "fillmode": "overlay",
              "size": 10,
              "solidity": 0.2
             }
            },
            "type": "barpolar"
           }
          ],
          "carpet": [
           {
            "aaxis": {
             "endlinecolor": "#2a3f5f",
             "gridcolor": "white",
             "linecolor": "white",
             "minorgridcolor": "white",
             "startlinecolor": "#2a3f5f"
            },
            "baxis": {
             "endlinecolor": "#2a3f5f",
             "gridcolor": "white",
             "linecolor": "white",
             "minorgridcolor": "white",
             "startlinecolor": "#2a3f5f"
            },
            "type": "carpet"
           }
          ],
          "choropleth": [
           {
            "colorbar": {
             "outlinewidth": 0,
             "ticks": ""
            },
            "type": "choropleth"
           }
          ],
          "contour": [
           {
            "colorbar": {
             "outlinewidth": 0,
             "ticks": ""
            },
            "colorscale": [
             [
              0,
              "#0d0887"
             ],
             [
              0.1111111111111111,
              "#46039f"
             ],
             [
              0.2222222222222222,
              "#7201a8"
             ],
             [
              0.3333333333333333,
              "#9c179e"
             ],
             [
              0.4444444444444444,
              "#bd3786"
             ],
             [
              0.5555555555555556,
              "#d8576b"
             ],
             [
              0.6666666666666666,
              "#ed7953"
             ],
             [
              0.7777777777777778,
              "#fb9f3a"
             ],
             [
              0.8888888888888888,
              "#fdca26"
             ],
             [
              1,
              "#f0f921"
             ]
            ],
            "type": "contour"
           }
          ],
          "contourcarpet": [
           {
            "colorbar": {
             "outlinewidth": 0,
             "ticks": ""
            },
            "type": "contourcarpet"
           }
          ],
          "heatmap": [
           {
            "colorbar": {
             "outlinewidth": 0,
             "ticks": ""
            },
            "colorscale": [
             [
              0,
              "#0d0887"
             ],
             [
              0.1111111111111111,
              "#46039f"
             ],
             [
              0.2222222222222222,
              "#7201a8"
             ],
             [
              0.3333333333333333,
              "#9c179e"
             ],
             [
              0.4444444444444444,
              "#bd3786"
             ],
             [
              0.5555555555555556,
              "#d8576b"
             ],
             [
              0.6666666666666666,
              "#ed7953"
             ],
             [
              0.7777777777777778,
              "#fb9f3a"
             ],
             [
              0.8888888888888888,
              "#fdca26"
             ],
             [
              1,
              "#f0f921"
             ]
            ],
            "type": "heatmap"
           }
          ],
          "heatmapgl": [
           {
            "colorbar": {
             "outlinewidth": 0,
             "ticks": ""
            },
            "colorscale": [
             [
              0,
              "#0d0887"
             ],
             [
              0.1111111111111111,
              "#46039f"
             ],
             [
              0.2222222222222222,
              "#7201a8"
             ],
             [
              0.3333333333333333,
              "#9c179e"
             ],
             [
              0.4444444444444444,
              "#bd3786"
             ],
             [
              0.5555555555555556,
              "#d8576b"
             ],
             [
              0.6666666666666666,
              "#ed7953"
             ],
             [
              0.7777777777777778,
              "#fb9f3a"
             ],
             [
              0.8888888888888888,
              "#fdca26"
             ],
             [
              1,
              "#f0f921"
             ]
            ],
            "type": "heatmapgl"
           }
          ],
          "histogram": [
           {
            "marker": {
             "pattern": {
              "fillmode": "overlay",
              "size": 10,
              "solidity": 0.2
             }
            },
            "type": "histogram"
           }
          ],
          "histogram2d": [
           {
            "colorbar": {
             "outlinewidth": 0,
             "ticks": ""
            },
            "colorscale": [
             [
              0,
              "#0d0887"
             ],
             [
              0.1111111111111111,
              "#46039f"
             ],
             [
              0.2222222222222222,
              "#7201a8"
             ],
             [
              0.3333333333333333,
              "#9c179e"
             ],
             [
              0.4444444444444444,
              "#bd3786"
             ],
             [
              0.5555555555555556,
              "#d8576b"
             ],
             [
              0.6666666666666666,
              "#ed7953"
             ],
             [
              0.7777777777777778,
              "#fb9f3a"
             ],
             [
              0.8888888888888888,
              "#fdca26"
             ],
             [
              1,
              "#f0f921"
             ]
            ],
            "type": "histogram2d"
           }
          ],
          "histogram2dcontour": [
           {
            "colorbar": {
             "outlinewidth": 0,
             "ticks": ""
            },
            "colorscale": [
             [
              0,
              "#0d0887"
             ],
             [
              0.1111111111111111,
              "#46039f"
             ],
             [
              0.2222222222222222,
              "#7201a8"
             ],
             [
              0.3333333333333333,
              "#9c179e"
             ],
             [
              0.4444444444444444,
              "#bd3786"
             ],
             [
              0.5555555555555556,
              "#d8576b"
             ],
             [
              0.6666666666666666,
              "#ed7953"
             ],
             [
              0.7777777777777778,
              "#fb9f3a"
             ],
             [
              0.8888888888888888,
              "#fdca26"
             ],
             [
              1,
              "#f0f921"
             ]
            ],
            "type": "histogram2dcontour"
           }
          ],
          "mesh3d": [
           {
            "colorbar": {
             "outlinewidth": 0,
             "ticks": ""
            },
            "type": "mesh3d"
           }
          ],
          "parcoords": [
           {
            "line": {
             "colorbar": {
              "outlinewidth": 0,
              "ticks": ""
             }
            },
            "type": "parcoords"
           }
          ],
          "pie": [
           {
            "automargin": true,
            "type": "pie"
           }
          ],
          "scatter": [
           {
            "fillpattern": {
             "fillmode": "overlay",
             "size": 10,
             "solidity": 0.2
            },
            "type": "scatter"
           }
          ],
          "scatter3d": [
           {
            "line": {
             "colorbar": {
              "outlinewidth": 0,
              "ticks": ""
             }
            },
            "marker": {
             "colorbar": {
              "outlinewidth": 0,
              "ticks": ""
             }
            },
            "type": "scatter3d"
           }
          ],
          "scattercarpet": [
           {
            "marker": {
             "colorbar": {
              "outlinewidth": 0,
              "ticks": ""
             }
            },
            "type": "scattercarpet"
           }
          ],
          "scattergeo": [
           {
            "marker": {
             "colorbar": {
              "outlinewidth": 0,
              "ticks": ""
             }
            },
            "type": "scattergeo"
           }
          ],
          "scattergl": [
           {
            "marker": {
             "colorbar": {
              "outlinewidth": 0,
              "ticks": ""
             }
            },
            "type": "scattergl"
           }
          ],
          "scattermapbox": [
           {
            "marker": {
             "colorbar": {
              "outlinewidth": 0,
              "ticks": ""
             }
            },
            "type": "scattermapbox"
           }
          ],
          "scatterpolar": [
           {
            "marker": {
             "colorbar": {
              "outlinewidth": 0,
              "ticks": ""
             }
            },
            "type": "scatterpolar"
           }
          ],
          "scatterpolargl": [
           {
            "marker": {
             "colorbar": {
              "outlinewidth": 0,
              "ticks": ""
             }
            },
            "type": "scatterpolargl"
           }
          ],
          "scatterternary": [
           {
            "marker": {
             "colorbar": {
              "outlinewidth": 0,
              "ticks": ""
             }
            },
            "type": "scatterternary"
           }
          ],
          "surface": [
           {
            "colorbar": {
             "outlinewidth": 0,
             "ticks": ""
            },
            "colorscale": [
             [
              0,
              "#0d0887"
             ],
             [
              0.1111111111111111,
              "#46039f"
             ],
             [
              0.2222222222222222,
              "#7201a8"
             ],
             [
              0.3333333333333333,
              "#9c179e"
             ],
             [
              0.4444444444444444,
              "#bd3786"
             ],
             [
              0.5555555555555556,
              "#d8576b"
             ],
             [
              0.6666666666666666,
              "#ed7953"
             ],
             [
              0.7777777777777778,
              "#fb9f3a"
             ],
             [
              0.8888888888888888,
              "#fdca26"
             ],
             [
              1,
              "#f0f921"
             ]
            ],
            "type": "surface"
           }
          ],
          "table": [
           {
            "cells": {
             "fill": {
              "color": "#EBF0F8"
             },
             "line": {
              "color": "white"
             }
            },
            "header": {
             "fill": {
              "color": "#C8D4E3"
             },
             "line": {
              "color": "white"
             }
            },
            "type": "table"
           }
          ]
         },
         "layout": {
          "annotationdefaults": {
           "arrowcolor": "#2a3f5f",
           "arrowhead": 0,
           "arrowwidth": 1
          },
          "autotypenumbers": "strict",
          "coloraxis": {
           "colorbar": {
            "outlinewidth": 0,
            "ticks": ""
           }
          },
          "colorscale": {
           "diverging": [
            [
             0,
             "#8e0152"
            ],
            [
             0.1,
             "#c51b7d"
            ],
            [
             0.2,
             "#de77ae"
            ],
            [
             0.3,
             "#f1b6da"
            ],
            [
             0.4,
             "#fde0ef"
            ],
            [
             0.5,
             "#f7f7f7"
            ],
            [
             0.6,
             "#e6f5d0"
            ],
            [
             0.7,
             "#b8e186"
            ],
            [
             0.8,
             "#7fbc41"
            ],
            [
             0.9,
             "#4d9221"
            ],
            [
             1,
             "#276419"
            ]
           ],
           "sequential": [
            [
             0,
             "#0d0887"
            ],
            [
             0.1111111111111111,
             "#46039f"
            ],
            [
             0.2222222222222222,
             "#7201a8"
            ],
            [
             0.3333333333333333,
             "#9c179e"
            ],
            [
             0.4444444444444444,
             "#bd3786"
            ],
            [
             0.5555555555555556,
             "#d8576b"
            ],
            [
             0.6666666666666666,
             "#ed7953"
            ],
            [
             0.7777777777777778,
             "#fb9f3a"
            ],
            [
             0.8888888888888888,
             "#fdca26"
            ],
            [
             1,
             "#f0f921"
            ]
           ],
           "sequentialminus": [
            [
             0,
             "#0d0887"
            ],
            [
             0.1111111111111111,
             "#46039f"
            ],
            [
             0.2222222222222222,
             "#7201a8"
            ],
            [
             0.3333333333333333,
             "#9c179e"
            ],
            [
             0.4444444444444444,
             "#bd3786"
            ],
            [
             0.5555555555555556,
             "#d8576b"
            ],
            [
             0.6666666666666666,
             "#ed7953"
            ],
            [
             0.7777777777777778,
             "#fb9f3a"
            ],
            [
             0.8888888888888888,
             "#fdca26"
            ],
            [
             1,
             "#f0f921"
            ]
           ]
          },
          "colorway": [
           "#636efa",
           "#EF553B",
           "#00cc96",
           "#ab63fa",
           "#FFA15A",
           "#19d3f3",
           "#FF6692",
           "#B6E880",
           "#FF97FF",
           "#FECB52"
          ],
          "font": {
           "color": "#2a3f5f"
          },
          "geo": {
           "bgcolor": "white",
           "lakecolor": "white",
           "landcolor": "#E5ECF6",
           "showlakes": true,
           "showland": true,
           "subunitcolor": "white"
          },
          "hoverlabel": {
           "align": "left"
          },
          "hovermode": "closest",
          "mapbox": {
           "style": "light"
          },
          "paper_bgcolor": "white",
          "plot_bgcolor": "#E5ECF6",
          "polar": {
           "angularaxis": {
            "gridcolor": "white",
            "linecolor": "white",
            "ticks": ""
           },
           "bgcolor": "#E5ECF6",
           "radialaxis": {
            "gridcolor": "white",
            "linecolor": "white",
            "ticks": ""
           }
          },
          "scene": {
           "xaxis": {
            "backgroundcolor": "#E5ECF6",
            "gridcolor": "white",
            "gridwidth": 2,
            "linecolor": "white",
            "showbackground": true,
            "ticks": "",
            "zerolinecolor": "white"
           },
           "yaxis": {
            "backgroundcolor": "#E5ECF6",
            "gridcolor": "white",
            "gridwidth": 2,
            "linecolor": "white",
            "showbackground": true,
            "ticks": "",
            "zerolinecolor": "white"
           },
           "zaxis": {
            "backgroundcolor": "#E5ECF6",
            "gridcolor": "white",
            "gridwidth": 2,
            "linecolor": "white",
            "showbackground": true,
            "ticks": "",
            "zerolinecolor": "white"
           }
          },
          "shapedefaults": {
           "line": {
            "color": "#2a3f5f"
           }
          },
          "ternary": {
           "aaxis": {
            "gridcolor": "white",
            "linecolor": "white",
            "ticks": ""
           },
           "baxis": {
            "gridcolor": "white",
            "linecolor": "white",
            "ticks": ""
           },
           "bgcolor": "#E5ECF6",
           "caxis": {
            "gridcolor": "white",
            "linecolor": "white",
            "ticks": ""
           }
          },
          "title": {
           "x": 0.05
          },
          "xaxis": {
           "automargin": true,
           "gridcolor": "white",
           "linecolor": "white",
           "ticks": "",
           "title": {
            "standoff": 15
           },
           "zerolinecolor": "white",
           "zerolinewidth": 2
          },
          "yaxis": {
           "automargin": true,
           "gridcolor": "white",
           "linecolor": "white",
           "ticks": "",
           "title": {
            "standoff": 15
           },
           "zerolinecolor": "white",
           "zerolinewidth": 2
          }
         }
        },
        "xaxis": {
         "anchor": "y",
         "domain": [
          0,
          1
         ],
         "title": {
          "text": "x"
         }
        },
        "yaxis": {
         "anchor": "x",
         "domain": [
          0,
          1
         ],
         "title": {
          "text": "y"
         }
        }
       }
      }
     },
     "metadata": {},
     "output_type": "display_data"
    }
   ],
   "source": [
    "# Your coefficients array\n",
    "coefficients = LOG_clf.coef_[0]\n",
    "\n",
    "# Example column names, replace these with your actual column names\n",
    "column_names = X_train.columns\n",
    "\n",
    "# Ensure the lengths match\n",
    "assert len(coefficients) == len(column_names), \"Coefficients and column names must have the same length.\"\n",
    "\n",
    "# Sort coefficients and column names by the coefficients\n",
    "sorted_indices = np.argsort((coefficients))\n",
    "sorted_coefficients = coefficients[sorted_indices]\n",
    "sorted_column_names = [column_names[i] for i in sorted_indices]\n",
    "\n",
    "# Plot using Plotly Express\n",
    "fig = px.bar(x=sorted_column_names, y=sorted_coefficients)\n",
    "fig.show()"
   ]
  },
  {
   "cell_type": "code",
   "execution_count": 12,
   "metadata": {},
   "outputs": [],
   "source": [
    "# Pickling the LOG_clf model\n",
    "with open('logistic.pkl', 'wb') as file:\n",
    "    pickle.dump(LOG_clf, file)\n",
    "\n",
    "# Pickling the SVM_clf model\n",
    "# with open('SVM.pkl', 'wb') as file:\n",
    "#     pickle.dump(SVM_clf, file)"
   ]
  }
 ],
 "metadata": {
  "kernelspec": {
   "display_name": "Python 3",
   "language": "python",
   "name": "python3"
  },
  "language_info": {
   "codemirror_mode": {
    "name": "ipython",
    "version": 3
   },
   "file_extension": ".py",
   "mimetype": "text/x-python",
   "name": "python",
   "nbconvert_exporter": "python",
   "pygments_lexer": "ipython3",
   "version": "3.11.5"
  }
 },
 "nbformat": 4,
 "nbformat_minor": 2
}
