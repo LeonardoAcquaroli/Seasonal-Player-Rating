{
 "cells": [
  {
   "cell_type": "code",
   "execution_count": 44,
   "metadata": {},
   "outputs": [],
   "source": [
    "import numpy as np\n",
    "import pandas as pd\n",
    "import matplotlib.pyplot as plt"
   ]
  },
  {
   "cell_type": "code",
   "execution_count": 45,
   "metadata": {},
   "outputs": [],
   "source": [
    "data = pd.read_feather(r'C:\\Users\\leoac\\OneDrive - Università degli Studi di Milano\\Unimi\\Subjects\\Labs\\Football analytics\\SPR - Project\\Seasonal-Player-Rating\\Project2-3 - match-seasonal index\\match_data.feather')"
   ]
  },
  {
   "cell_type": "code",
   "execution_count": 46,
   "metadata": {},
   "outputs": [
    {
     "name": "stderr",
     "output_type": "stream",
     "text": [
      "C:\\Users\\leoac\\AppData\\Local\\Temp\\ipykernel_25200\\121700303.py:2: FutureWarning: Setting an item of incompatible dtype is deprecated and will raise an error in a future version of pandas. Value '0' has dtype incompatible with datetime64[ns], please explicitly cast to a compatible dtype first.\n",
      "  data.fillna(0, inplace=True)\n"
     ]
    }
   ],
   "source": [
    "# Fill nans with 0\n",
    "data.fillna(0, inplace=True)"
   ]
  },
  {
   "cell_type": "code",
   "execution_count": 47,
   "metadata": {},
   "outputs": [],
   "source": [
    "# Drop not useful and sparse columns\n",
    "DBINFO=['competition',\n",
    "'team',\n",
    "'full_name',\n",
    "'cluster_label',\n",
    "'gametime',\n",
    "'player_id',\n",
    "'competition_id',\n",
    "'season',\n",
    "'home_team_id',\n",
    "'away_team_id',\n",
    "'opponent_team_id',\n",
    "'match_day',\n",
    "'side',\n",
    "'stat_type',\n",
    "'created_at',\n",
    "'updated_at']\n",
    "\n",
    "METRICS_TO_DROP = [\n",
    "'att_bx_centre',\n",
    "'att_obx_centre',\n",
    "'att_bx_right',\n",
    "'att_bx_left',\n",
    "'att_corner',\n",
    "'att_fastbreak',\n",
    "'att_freekick_goal',\n",
    "'att_freekick_target',\n",
    "'att_freekick_total',\n",
    "'att_freekick_miss',\n",
    "'att_freekick_post',\n",
    "'att_goal_high_centre',\n",
    "'att_goal_high_left',\n",
    "'att_goal_high_right',\n",
    "'att_goal_low_centre',\n",
    "'att_goal_low_left',\n",
    "'att_goal_low_right',\n",
    "'att_hd_goal',\n",
    "'att_hd_miss',\n",
    "'att_hd_post',\n",
    "'att_hd_target',\n",
    "'att_hd_total',\n",
    "'att_ibox_blocked',\n",
    "'att_ibox_goal',\n",
    "'att_ibox_miss',\n",
    "'att_ibox_post',\n",
    "'att_ibox_target',\n",
    "'att_lf_goal',\n",
    "'att_lf_target',\n",
    "'att_lf_total',\n",
    "'att_miss_high',\n",
    "'att_miss_high_left',\n",
    "'att_miss_high_right',\n",
    "'att_miss_left',\n",
    "'att_miss_right',\n",
    "'att_obox_blocked',\n",
    "'att_obox_goal',\n",
    "'att_obox_miss',\n",
    "'att_obox_post',\n",
    "'att_obx_left',\n",
    "'att_obx_right',\n",
    "'att_obox_target',\n",
    "'att_obxd_left',\n",
    "'att_obxd_right',\n",
    "'att_obp_goal',\n",
    "'att_lg_centre',\n",
    "'att_lg_left',\n",
    "'att_lg_right',\n",
    "'att_one_on_one',\n",
    "'att_cmiss_high',\n",
    "'att_cmiss_high_right',\n",
    "'att_cmiss_high_left',\n",
    "'att_cmiss_left',\n",
    "'att_cmiss_right',\n",
    "'att_openplay',\n",
    "'att_pen_goal',\n",
    "'att_pen_miss',\n",
    "'att_pen_post',\n",
    "'att_pen_target',\n",
    "'att_post_high',\n",
    "'att_post_left',\n",
    "'att_post_right',\n",
    "'att_rf_goal',\n",
    "'att_rf_target',\n",
    "'att_rf_total',\n",
    "'att_setpiece',\n",
    "'att_sv_high_centre',\n",
    "'att_sv_high_left',\n",
    "'att_sv_high_right',\n",
    "'att_sv_low_centre',\n",
    "'att_sv_low_left',\n",
    "'att_sv_low_right',\n",
    "'attempts_conceded_ibox',\n",
    "'attempts_conceded_obox',\n",
    "'attempts_ibox',\n",
    "'attempts_obox',\n",
    "'game_started',\n",
    "'winning_goal',\n",
    "'goals_set_pieces_faced',\n",
    "'goals_big_chance_faced',\n",
    "'opp_touches',\n",
    "'team_touches',\n",
    "'team_touches_attack',\n",
    "'team_touches_buildup',\n",
    "'team_touches_defensive',\n",
    "'player_touches',\n",
    "'sub_position',\n",
    "'end_minute',\n",
    "'start_minute',\n",
    "'second_yellow',\n",
    "'passes_left',\n",
    "'passes_right',\n",
    "'leftside_pass',\n",
    "'rightside_pass'\n",
    "]\n",
    "\n",
    "METRICS_GK = [\n",
    "'clean_sheet',\n",
    "'dive_catch',\n",
    "'dive_save',\n",
    "'gk_smother',\n",
    "'goal_kicks',\n",
    "'good_high_claim',\n",
    "'keeper_pick_up',\n",
    "'keeper_throws',\n",
    "'saved_ibox',\n",
    "'saved_obox',\n",
    "'saves',\n",
    "'six_second_violation',\n",
    "'stand_catch',\n",
    "'stand_save',\n",
    "'penalty_faced',\n",
    "'total_keeper_sweeper',\n",
    "'accurate_keeper_sweeper',\n",
    "'accurate_keeper_throws',\n",
    "'diving_save',\n",
    "'goals_prevented',\n",
    "'Goals_prevented_per_xGoT',\n",
    "'set_pieces_faced',\n",
    "'big_chance_faced',\n",
    "'accurate_goal_kicks',\n",
    "'keeper_goals',\n",
    "'punches',\n",
    "'penalty_save'\n",
    "]\n",
    "\n",
    "# Goals are to consider or not?\n",
    "METRICS_GOALS = [\n",
    "'goals_conceded',\n",
    "'goals_conceded_ibox',\n",
    "'goals_conceded_obox',\n",
    "'goals_openplay',\n",
    "'goal_fastbreak'\n",
    "]\n",
    "\n",
    "METRICS_ASSISTS = [\n",
    "    'goal_assist',\n",
    "    'goal_assist_setplay',\n",
    "    'goal_assist_openplay',\n",
    "    'goal_assist_intentional',\n",
    "    'second_goal_assist',\n",
    "    'assist_own_goal',\n",
    "    'goal_assist_deadball'\n",
    "]\n",
    "\n",
    "filtered_data = data.drop(DBINFO + METRICS_TO_DROP + METRICS_GK + METRICS_GOALS + METRICS_ASSISTS, axis=1)"
   ]
  },
  {
   "cell_type": "code",
   "execution_count": 48,
   "metadata": {},
   "outputs": [
    {
     "name": "stdout",
     "output_type": "stream",
     "text": [
      "Index(['att_ibox_own_goal', 'att_obox_own_goal', 'back_pass',\n",
      "       'contentious_decision', 'cross_not_claimed', 'defender_goals',\n",
      "       'fk_foul_won', 'fk_foul_lost', 'forward_goals', 'midfielder_goals',\n",
      "       'own_goal_accrued', 'possession_percentage',\n",
      "       'saved_setpiece_no_longer_output', 'subs_made', 'total_high_claim',\n",
      "       'total_yel_card', 'total_red_card',\n",
      "       'failed_to_block (No longer output)', 'pts_dropped_winning_pos',\n",
      "       'pts_gained_losing_pos', 'subs_goals', 'xGoTA', 'defensive_actions'],\n",
      "      dtype='object')\n"
     ]
    }
   ],
   "source": [
    "# Remove 0 variance features\n",
    "zero_var_features = filtered_data.std()[filtered_data.std() == 0].index\n",
    "print(zero_var_features)\n",
    "filtered_data = filtered_data[filtered_data.std()[filtered_data.std() > 0].index]"
   ]
  },
  {
   "cell_type": "code",
   "execution_count": 49,
   "metadata": {},
   "outputs": [],
   "source": [
    "team_data = (filtered_data.groupby(['game_id', 'team_id']).sum()).reset_index()"
   ]
  },
  {
   "cell_type": "code",
   "execution_count": 50,
   "metadata": {},
   "outputs": [
    {
     "name": "stderr",
     "output_type": "stream",
     "text": [
      "C:\\Users\\leoac\\AppData\\Local\\Temp\\ipykernel_25200\\3213883085.py:16: DeprecationWarning: DataFrameGroupBy.apply operated on the grouping columns. This behavior is deprecated, and in a future version of pandas the grouping columns will be excluded from the operation. Either pass `include_groups=False` to exclude the groupings or explicitly select the grouping columns after groupby to silence this warning.\n",
      "  dataset = team_data.groupby('game_id').apply(subtract_first_from_second).reset_index(drop=True)\n"
     ]
    }
   ],
   "source": [
    "# Define a function to subtract the first row from the second and viceversa and return both the observations\n",
    "def subtract_first_from_second(group):\n",
    "    # Drop game_id and team_id to save calculations\n",
    "    group.drop(['game_id','team_id'], axis=1, inplace=True)\n",
    "\n",
    "    # Create a copy of the group to save the new calculations\n",
    "    new_group = group.copy()\n",
    "\n",
    "    # Do calculation\n",
    "    new_group.iloc[0] = group.iloc[0] - group.iloc[1]\n",
    "    new_group.iloc[1] = group.iloc[1] - group.iloc[0]\n",
    "\n",
    "    return new_group \n",
    "\n",
    "# Group by 'game_id' and apply the custom function\n",
    "dataset = team_data.groupby('game_id').apply(subtract_first_from_second).reset_index(drop=True)"
   ]
  },
  {
   "cell_type": "code",
   "execution_count": 51,
   "metadata": {},
   "outputs": [],
   "source": [
    "# Create the label\n",
    "win_target = dataset['goals'].apply(lambda goals: 1 if goals > 0 else 0)\n",
    "dataset['win'] = win_target\n",
    "# Drop goals if you don't want to consider them as a feature\n",
    "# dataset.drop('goals', axis=1, inplace=True)"
   ]
  },
  {
   "cell_type": "code",
   "execution_count": 52,
   "metadata": {},
   "outputs": [],
   "source": [
    "dataset.to_feather('dataset_with_goals.feather')"
   ]
  }
 ],
 "metadata": {
  "kernelspec": {
   "display_name": "Python 3",
   "language": "python",
   "name": "python3"
  },
  "language_info": {
   "codemirror_mode": {
    "name": "ipython",
    "version": 3
   },
   "file_extension": ".py",
   "mimetype": "text/x-python",
   "name": "python",
   "nbconvert_exporter": "python",
   "pygments_lexer": "ipython3",
   "version": "3.11.5"
  }
 },
 "nbformat": 4,
 "nbformat_minor": 2
}
